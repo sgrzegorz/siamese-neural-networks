{
 "cells": [
  {
   "cell_type": "code",
   "execution_count": 6,
   "id": "desirable-phone",
   "metadata": {},
   "outputs": [],
   "source": [
    "%config Completer.use_jedi = False"
   ]
  },
  {
   "cell_type": "code",
   "execution_count": 7,
   "id": "broken-corner",
   "metadata": {},
   "outputs": [],
   "source": [
    "import tensorflow as tf\n",
    "import matplotlib.pyplot as plt\n",
    "import numpy as np\n",
    "import random\n",
    "from utils import *\n",
    "from sklearn.metrics import accuracy_score, confusion_matrix"
   ]
  },
  {
   "cell_type": "code",
   "execution_count": 8,
   "id": "based-brazilian",
   "metadata": {},
   "outputs": [],
   "source": [
    "# import the necessary packages\n",
    "from tensorflow.keras.models import Model\n",
    "from tensorflow.keras.layers import *\n",
    "from tensorflow.keras import datasets\n",
    "from tensorflow.keras.utils import to_categorical"
   ]
  },
  {
   "cell_type": "code",
   "execution_count": 9,
   "id": "turkish-circus",
   "metadata": {},
   "outputs": [
    {
     "data": {
      "text/plain": [
       "[PhysicalDevice(name='/physical_device:GPU:0', device_type='GPU')]"
      ]
     },
     "execution_count": 9,
     "metadata": {},
     "output_type": "execute_result"
    }
   ],
   "source": [
    "tf.config.list_physical_devices('GPU')"
   ]
  },
  {
   "cell_type": "markdown",
   "id": "2e2b9e4c",
   "metadata": {},
   "source": [
    "# Data preparation"
   ]
  },
  {
   "cell_type": "code",
   "execution_count": 10,
   "id": "civil-blogger",
   "metadata": {},
   "outputs": [],
   "source": [
    "(train_images, train_labels), (test_images, test_labels) = datasets.cifar10.load_data()"
   ]
  },
  {
   "cell_type": "code",
   "execution_count": 11,
   "id": "valid-candy",
   "metadata": {},
   "outputs": [
    {
     "data": {
      "text/plain": [
       "(50000, 32, 32, 3)"
      ]
     },
     "execution_count": 11,
     "metadata": {},
     "output_type": "execute_result"
    }
   ],
   "source": [
    "train_images.shape"
   ]
  },
  {
   "cell_type": "code",
   "execution_count": 12,
   "id": "healthy-punishment",
   "metadata": {},
   "outputs": [
    {
     "data": {
      "text/plain": [
       "(10000, 32, 32, 3)"
      ]
     },
     "execution_count": 12,
     "metadata": {},
     "output_type": "execute_result"
    }
   ],
   "source": [
    "test_images.shape"
   ]
  },
  {
   "cell_type": "code",
   "execution_count": 13,
   "id": "studied-cleaners",
   "metadata": {},
   "outputs": [],
   "source": [
    "train_images.astype('float32') \n",
    "test_images.astype('float32') \n",
    "\n",
    "train_images = train_images/255.\n",
    "test_images = test_images/255."
   ]
  },
  {
   "cell_type": "code",
   "execution_count": 14,
   "id": "earned-discount",
   "metadata": {},
   "outputs": [],
   "source": [
    "train_labels_cat = to_categorical(train_labels)\n",
    "test_labels_cat = to_categorical(test_labels)"
   ]
  },
  {
   "cell_type": "code",
   "execution_count": null,
   "id": "after-minutes",
   "metadata": {},
   "outputs": [],
   "source": []
  },
  {
   "cell_type": "markdown",
   "id": "inclusive-intervention",
   "metadata": {},
   "source": [
    "# Vanilla network"
   ]
  },
  {
   "cell_type": "code",
   "execution_count": 13,
   "id": "mental-prayer",
   "metadata": {},
   "outputs": [],
   "source": [
    "def build_vanilla_model(shape, class_num):\n",
    "    # specify the inputs for the feature extractor network\n",
    "    inputs = Input(shape)\n",
    "\n",
    "    x = Conv2D(32, (3, 3), activation=\"relu\")(inputs)\n",
    "    x = MaxPooling2D(pool_size=(2, 2))(x)\n",
    "\n",
    "    x = Conv2D(64, (2, 2), activation=\"relu\")(x)\n",
    "    x = MaxPooling2D(pool_size=(2,2))(x)\n",
    "    x = Dropout(0.2)(x)\n",
    "    \n",
    "    x = Conv2D(128, (2, 2), activation=\"relu\")(x)\n",
    "    x = MaxPooling2D(pool_size=(2,2))(x)\n",
    "    x = Dropout(0.2)(x)\n",
    "    \n",
    "    x = Flatten()(x)\n",
    "\n",
    "    x = Dense(32, activation='relu')(x)\n",
    "    x = Dropout(0.2)(x)\n",
    "    \n",
    "    outputs = Dense(class_num, activation='softmax')(x)\n",
    "\n",
    "    # build the model\n",
    "    model = Model(inputs, outputs)\n",
    "    \n",
    "    model.compile(optimizer='adam',\n",
    "              loss='categorical_crossentropy',\n",
    "              metrics=['accuracy'])\n",
    "\n",
    "    return model"
   ]
  },
  {
   "cell_type": "markdown",
   "id": "4e20eb50",
   "metadata": {},
   "source": [
    "### model on the whole dataset"
   ]
  },
  {
   "cell_type": "markdown",
   "id": "36307bc4",
   "metadata": {},
   "source": [
    "learning"
   ]
  },
  {
   "cell_type": "code",
   "execution_count": 11,
   "id": "junior-george",
   "metadata": {},
   "outputs": [],
   "source": [
    "# model = build_vanilla_model(train_images[0].shape, 10)"
   ]
  },
  {
   "cell_type": "code",
   "execution_count": 12,
   "id": "together-magazine",
   "metadata": {
    "scrolled": true
   },
   "outputs": [],
   "source": [
    "# history = model.fit(train_images, train_labels_cat, epochs=200, batch_size=512, \n",
    "#                     validation_data=(test_images, test_labels_cat))"
   ]
  },
  {
   "cell_type": "code",
   "execution_count": 13,
   "id": "suspended-theater",
   "metadata": {},
   "outputs": [],
   "source": [
    "# print_history_chart(history)"
   ]
  },
  {
   "cell_type": "code",
   "execution_count": 14,
   "id": "informational-sword",
   "metadata": {},
   "outputs": [],
   "source": [
    "# model.save('vanilla_cifar10.h5')"
   ]
  },
  {
   "cell_type": "markdown",
   "id": "b6e7a6e5",
   "metadata": {},
   "source": [
    "evaluation"
   ]
  },
  {
   "cell_type": "code",
   "execution_count": 15,
   "id": "configured-shield",
   "metadata": {},
   "outputs": [],
   "source": [
    "model = tf.keras.models.load_model(\"vanilla_cifar10.h5\")"
   ]
  },
  {
   "cell_type": "code",
   "execution_count": 16,
   "id": "44d250e8",
   "metadata": {},
   "outputs": [
    {
     "name": "stdout",
     "output_type": "stream",
     "text": [
      "Accuracy: 0.9281099999999999\n",
      "Confusion matrix:\n",
      " [[8645  363]\n",
      " [ 336  656]]\n",
      "F1-score: 0.6524117354549974\n"
     ]
    }
   ],
   "source": [
    "results = full_evaluate_differencing(model, test_images, test_labels)"
   ]
  },
  {
   "cell_type": "code",
   "execution_count": null,
   "id": "ac986a87",
   "metadata": {},
   "outputs": [],
   "source": []
  },
  {
   "cell_type": "markdown",
   "id": "4e3fdc31",
   "metadata": {},
   "source": [
    "### models on the smaller datasets"
   ]
  },
  {
   "cell_type": "markdown",
   "id": "002fea5f",
   "metadata": {},
   "source": [
    "#### 50% of the training data"
   ]
  },
  {
   "cell_type": "markdown",
   "id": "4135d8c7",
   "metadata": {},
   "source": [
    "learning"
   ]
  },
  {
   "cell_type": "code",
   "execution_count": 17,
   "id": "df0170ae",
   "metadata": {},
   "outputs": [],
   "source": [
    "# model = build_vanilla_model(train_images[0].shape, 10)"
   ]
  },
  {
   "cell_type": "code",
   "execution_count": 18,
   "id": "b527f888",
   "metadata": {},
   "outputs": [],
   "source": [
    "# train_images_50p = train_images[:len(train_images)//2]\n",
    "# train_labels_cat_50p = train_labels_cat[:len(train_labels_cat)//2]"
   ]
  },
  {
   "cell_type": "code",
   "execution_count": 19,
   "id": "c850d4d9",
   "metadata": {},
   "outputs": [],
   "source": [
    "# history = model.fit(train_images_50p, train_labels_cat_50p, epochs=300, batch_size=512, \n",
    "#                     validation_data=(test_images, test_labels_cat))"
   ]
  },
  {
   "cell_type": "code",
   "execution_count": 20,
   "id": "75617222",
   "metadata": {},
   "outputs": [],
   "source": [
    "# print_history_chart(history)"
   ]
  },
  {
   "cell_type": "code",
   "execution_count": 21,
   "id": "2af5cbbb",
   "metadata": {},
   "outputs": [],
   "source": [
    "# model.save('vanilla_50p_cifar10.h5')"
   ]
  },
  {
   "cell_type": "code",
   "execution_count": null,
   "id": "8e719098",
   "metadata": {},
   "outputs": [],
   "source": []
  },
  {
   "cell_type": "markdown",
   "id": "6e5a3559",
   "metadata": {},
   "source": [
    "evaluation"
   ]
  },
  {
   "cell_type": "code",
   "execution_count": 22,
   "id": "245400d7",
   "metadata": {},
   "outputs": [],
   "source": [
    "model = tf.keras.models.load_model(\"vanilla_50p_cifar10.h5\")"
   ]
  },
  {
   "cell_type": "code",
   "execution_count": 23,
   "id": "243d4f29",
   "metadata": {},
   "outputs": [
    {
     "name": "stdout",
     "output_type": "stream",
     "text": [
      "Accuracy: 0.91859\n",
      "Confusion matrix:\n",
      " [[8575  433]\n",
      " [ 396  596]]\n",
      "F1-score: 0.5898070262246413\n"
     ]
    }
   ],
   "source": [
    "results_vanilla_50p = full_evaluate_differencing(model, test_images, test_labels)"
   ]
  },
  {
   "cell_type": "code",
   "execution_count": null,
   "id": "3b3b3620",
   "metadata": {},
   "outputs": [],
   "source": []
  },
  {
   "cell_type": "code",
   "execution_count": null,
   "id": "15b7aa1e",
   "metadata": {},
   "outputs": [],
   "source": []
  },
  {
   "cell_type": "markdown",
   "id": "7e1f701d",
   "metadata": {},
   "source": [
    "#### 10% of the training data"
   ]
  },
  {
   "cell_type": "markdown",
   "id": "54d2b306",
   "metadata": {},
   "source": [
    "learning"
   ]
  },
  {
   "cell_type": "code",
   "execution_count": 24,
   "id": "60621c2d",
   "metadata": {},
   "outputs": [],
   "source": [
    "# model = build_vanilla_model(train_images[0].shape, 10)"
   ]
  },
  {
   "cell_type": "code",
   "execution_count": 25,
   "id": "2896322a",
   "metadata": {},
   "outputs": [],
   "source": [
    "# train_images_10p = train_images[:len(train_images)//10]\n",
    "# train_labels_cat_10p = train_labels_cat[:len(train_labels_cat)//10]"
   ]
  },
  {
   "cell_type": "code",
   "execution_count": 26,
   "id": "56d02b1a",
   "metadata": {},
   "outputs": [],
   "source": [
    "# history = model.fit(train_images_10p, train_labels_cat_10p, epochs=400, batch_size=512, \n",
    "#                     validation_data=(test_images, test_labels_cat))"
   ]
  },
  {
   "cell_type": "code",
   "execution_count": 27,
   "id": "50b9c559",
   "metadata": {},
   "outputs": [],
   "source": [
    "# print_history_chart(history)"
   ]
  },
  {
   "cell_type": "code",
   "execution_count": 28,
   "id": "f810dfc4",
   "metadata": {},
   "outputs": [],
   "source": [
    "# model.save('vanilla_10p_cifar10.h5')"
   ]
  },
  {
   "cell_type": "code",
   "execution_count": null,
   "id": "0bba84f2",
   "metadata": {},
   "outputs": [],
   "source": []
  },
  {
   "cell_type": "markdown",
   "id": "4cf84742",
   "metadata": {},
   "source": [
    "evaluation"
   ]
  },
  {
   "cell_type": "code",
   "execution_count": 29,
   "id": "e5cc464d",
   "metadata": {},
   "outputs": [],
   "source": [
    "model = tf.keras.models.load_model(\"vanilla_10p_cifar10.h5\")"
   ]
  },
  {
   "cell_type": "code",
   "execution_count": 30,
   "id": "41b9e68f",
   "metadata": {},
   "outputs": [
    {
     "name": "stdout",
     "output_type": "stream",
     "text": [
      "Accuracy: 0.8890500000000001\n",
      "Confusion matrix:\n",
      " [[8447  561]\n",
      " [ 544  448]]\n",
      "F1-score: 0.44777611194402794\n"
     ]
    }
   ],
   "source": [
    "results_vanilla_10p = full_evaluate_differencing(model, test_images, test_labels)"
   ]
  },
  {
   "cell_type": "code",
   "execution_count": null,
   "id": "2241e11f",
   "metadata": {},
   "outputs": [],
   "source": []
  },
  {
   "cell_type": "code",
   "execution_count": null,
   "id": "7da3179c",
   "metadata": {},
   "outputs": [],
   "source": []
  },
  {
   "cell_type": "code",
   "execution_count": null,
   "id": "be07a52f",
   "metadata": {},
   "outputs": [],
   "source": []
  },
  {
   "cell_type": "markdown",
   "id": "floating-tulsa",
   "metadata": {},
   "source": [
    "# Siemese network"
   ]
  },
  {
   "cell_type": "code",
   "execution_count": 16,
   "id": "hired-highland",
   "metadata": {},
   "outputs": [],
   "source": [
    "# def build_siamese_vanilla_model(shape):\n",
    "#     inputs1 = Input(shape)\n",
    "#     inputs2 = Input(shape)\n",
    "    \n",
    "#     def one_side(inputs):\n",
    "#         x = Conv2D(32, (3, 3), activation=\"relu\")(inputs)\n",
    "#         x = MaxPooling2D(pool_size=(2, 2))(x)\n",
    "\n",
    "#         x = Conv2D(64, (2, 2), activation=\"relu\")(x)\n",
    "#         x = MaxPooling2D(pool_size=(2,2))(x)\n",
    "#         x = Dropout(0.2)(x)\n",
    "\n",
    "#         x = Conv2D(128, (2, 2), activation=\"relu\")(x)\n",
    "#         x = MaxPooling2D(pool_size=(2,2))(x)\n",
    "#         x = Dropout(0.2)(x)\n",
    "\n",
    "#         x = Flatten()(x)\n",
    "        \n",
    "#         return x\n",
    "    \n",
    "#     x1 = one_side(inputs1)\n",
    "#     x2 = one_side(inputs2)\n",
    "    \n",
    "#     x = concatenate([x1, x2])\n",
    "    \n",
    "#     x = Dense(64, activation='relu')(x)\n",
    "#     x = Dropout(0.1)(x)\n",
    "    \n",
    "#     x = Dense(16, activation='relu')(x)\n",
    "    \n",
    "#     outputs = Dense(1, activation='sigmoid')(x)\n",
    "\n",
    "#     # build the model\n",
    "#     model = Model([inputs1, inputs2], outputs)\n",
    "\n",
    "#     return model\n",
    "\n",
    "# model.compile(optimizer='adam',\n",
    "#               loss='binary_crossentropy',\n",
    "#               metrics=['accuracy', tf.keras.metrics.AUC()])\n",
    "\n",
    "\n",
    "from tensorflow.keras.models import Model\n",
    "from tensorflow.keras.layers import Dense\n",
    "from tensorflow.keras.layers import Input\n",
    "from tensorflow.keras.layers import Lambda\n",
    "from tensorflow.keras.datasets import mnist\n",
    "import numpy as np\n",
    "import tensorflow.keras.backend as K\n",
    "\n",
    "\n",
    "def build_siamese_model(inputShape):\n",
    "    inputs = Input(inputShape)\n",
    "\n",
    "    x = Conv2D(32, (3, 3), activation=\"relu\")(inputs)\n",
    "    x = MaxPooling2D(pool_size=(2, 2))(x)\n",
    "    x = Dropout(0.2)(x)\n",
    "\n",
    "    x = Conv2D(64, (3, 3), activation=\"relu\")(x)\n",
    "    x = MaxPooling2D(pool_size=(2, 2))(x)\n",
    "    x = Dropout(0.2)(x)\n",
    "    \n",
    "    x = Conv2D(128, (3, 3), activation=\"relu\")(x)\n",
    "    x = MaxPooling2D(pool_size=(2, 2))(x)\n",
    "    x = Dropout(0.2)(x)\n",
    "\n",
    "#     pooledOutput = GlobalAveragePooling2D()(x)\n",
    "    pooledOutput = Flatten()(x)\n",
    "    outputs = Dense(32)(pooledOutput)\n",
    "    \n",
    "\n",
    "    model = Model(inputs, outputs)\n",
    "\n",
    "    return model\n",
    "\n",
    "\n",
    "def euclidean_distance(vectors):\n",
    "\t# unpack the vectors into separate lists\n",
    "\t(featsA, featsB) = vectors\n",
    "\n",
    "\t# compute the sum of squared distances between the vectors\n",
    "\tsumSquared = K.sum(K.square(featsA - featsB), axis=1,\n",
    "\t\tkeepdims=True)\n",
    "\n",
    "\t# return the euclidean distance between the vectors\n",
    "\treturn K.sqrt(K.maximum(sumSquared, K.epsilon()))\n",
    "\n",
    "\n",
    "# imgA = Input(shape=train_images[0].shape)\n",
    "# imgB = Input(shape=train_images[0].shape)\n",
    "# featureExtractor = build_siamese_model(train_images[0].shape)\n",
    "# featsA = featureExtractor(imgA)\n",
    "# featsB = featureExtractor(imgB)\n",
    "\n",
    "# # finally, construct the siamese network\n",
    "# distance = Lambda(euclidean_distance)([featsA, featsB])\n",
    "\n",
    "# x = concatenate([distance, featsA, featsB])\n",
    "# outputs = Dense(64, activation=\"relu\")(x)\n",
    "# outputs = Dense(1, activation=\"sigmoid\")(outputs)\n",
    "# model = Model(inputs=[imgA, imgB], outputs=outputs)\n",
    "\n",
    "# adam = tf.keras.optimizers.Adam(\n",
    "#     learning_rate=0.02,\n",
    "# )\n",
    "\n",
    "\n",
    "# model.compile(loss=\"binary_crossentropy\", optimizer=\"adam\",\n",
    "#               metrics=[\"accuracy\", tf.keras.metrics.AUC()])"
   ]
  },
  {
   "cell_type": "markdown",
   "id": "059f2857",
   "metadata": {},
   "source": [
    "### model on the whole datasets"
   ]
  },
  {
   "cell_type": "markdown",
   "id": "6fdb21ed",
   "metadata": {},
   "source": [
    "learning"
   ]
  },
  {
   "cell_type": "code",
   "execution_count": 17,
   "id": "defined-median",
   "metadata": {},
   "outputs": [],
   "source": [
    "# model = build_siamese_vanilla_model(train_images[0].shape)"
   ]
  },
  {
   "cell_type": "code",
   "execution_count": 18,
   "id": "d97f8ca2",
   "metadata": {},
   "outputs": [],
   "source": [
    "# adam = tf.keras.optimizers.Adam(\n",
    "#     learning_rate=0.05,\n",
    "# )\n",
    "\n",
    "# model.compile(optimizer=adam,\n",
    "#               loss='binary_crossentropy',\n",
    "#               metrics=['accuracy', tf.keras.metrics.AUC()])"
   ]
  },
  {
   "cell_type": "code",
   "execution_count": null,
   "id": "52dcc73c",
   "metadata": {},
   "outputs": [],
   "source": []
  },
  {
   "cell_type": "code",
   "execution_count": 19,
   "id": "58a2018b",
   "metadata": {},
   "outputs": [],
   "source": [
    "# a, b = 1, 2\n",
    "\n",
    "# X1 = np.concatenate([train_images,train_images])\n",
    "# X2 = np.concatenate([np.concatenate([train_images[a:], train_images[:a]]),\n",
    "#                     np.concatenate([train_images[b:], train_images[:b]])])\n",
    "\n",
    "# # y = to_categorical(y)\n",
    "\n",
    "\n",
    "# y1 = (train_labels == np.concatenate([train_labels[a:], train_labels[:a]])).reshape(-1)\n",
    "# y2 = (train_labels == np.concatenate([train_labels[b:], train_labels[:b]])).reshape(-1)\n",
    "# y = np.concatenate([y1, y2])\n",
    "\n",
    "y_tst = (test_labels == np.concatenate([test_labels[1:], test_labels[:1]])).reshape(-1)"
   ]
  },
  {
   "cell_type": "code",
   "execution_count": 20,
   "id": "2300122f",
   "metadata": {},
   "outputs": [],
   "source": [
    "# history = model.fit([X1, X2], y, epochs=500, batch_size=512, shuffle=True, class_weight={0:1, 1:2},\n",
    "#          validation_data=([test_images, np.concatenate([test_images[1:], test_images[:1]])], y_tst))\n"
   ]
  },
  {
   "cell_type": "code",
   "execution_count": 21,
   "id": "white-butler",
   "metadata": {},
   "outputs": [],
   "source": [
    "# print_history_chart(history)"
   ]
  },
  {
   "cell_type": "code",
   "execution_count": 22,
   "id": "quantitative-denver",
   "metadata": {},
   "outputs": [],
   "source": [
    "# model.save('siamese_vanilla_cifar10_diff.h5')"
   ]
  },
  {
   "cell_type": "markdown",
   "id": "35b9e27b",
   "metadata": {},
   "source": [
    "retrain"
   ]
  },
  {
   "cell_type": "code",
   "execution_count": 23,
   "id": "a1b01c84",
   "metadata": {},
   "outputs": [],
   "source": [
    "# !for i in {200..250}; do python retrain_cifar_10.py $i; done"
   ]
  },
  {
   "cell_type": "code",
   "execution_count": null,
   "id": "eddb5078",
   "metadata": {},
   "outputs": [],
   "source": []
  },
  {
   "cell_type": "markdown",
   "id": "f35c70ae",
   "metadata": {},
   "source": [
    "evaluate"
   ]
  },
  {
   "cell_type": "code",
   "execution_count": 24,
   "id": "spatial-headline",
   "metadata": {},
   "outputs": [],
   "source": [
    "model = tf.keras.models.load_model(\"siamese_vanilla_cifar10_diff.h5\")\n"
   ]
  },
  {
   "cell_type": "code",
   "execution_count": 25,
   "id": "de602c23",
   "metadata": {},
   "outputs": [],
   "source": [
    "y_pred = model.predict([test_images, np.concatenate([test_images[1:], test_images[:1]])])"
   ]
  },
  {
   "cell_type": "code",
   "execution_count": 26,
   "id": "7b031973",
   "metadata": {},
   "outputs": [
    {
     "data": {
      "text/plain": [
       "0.93"
      ]
     },
     "execution_count": 26,
     "metadata": {},
     "output_type": "execute_result"
    }
   ],
   "source": [
    "accuracy_score(y_tst, y_pred>0.5)"
   ]
  },
  {
   "cell_type": "code",
   "execution_count": 27,
   "id": "77b03823",
   "metadata": {},
   "outputs": [
    {
     "data": {
      "text/plain": [
       "array([[8647,  361],\n",
       "       [ 339,  653]])"
      ]
     },
     "execution_count": 27,
     "metadata": {},
     "output_type": "execute_result"
    }
   ],
   "source": [
    "confusion_matrix(y_tst, y_pred>0.5)"
   ]
  },
  {
   "cell_type": "code",
   "execution_count": 28,
   "id": "82f3391d",
   "metadata": {},
   "outputs": [
    {
     "data": {
      "text/plain": [
       "0.6510468594217348"
      ]
     },
     "execution_count": 28,
     "metadata": {},
     "output_type": "execute_result"
    }
   ],
   "source": [
    "f1_score(y_tst, y_pred>0.5)"
   ]
  },
  {
   "cell_type": "markdown",
   "id": "33592afb",
   "metadata": {},
   "source": [
    "### models on the smaller datasets"
   ]
  },
  {
   "cell_type": "markdown",
   "id": "3bb73bc9",
   "metadata": {},
   "source": [
    "#### 50% of the taining data"
   ]
  },
  {
   "cell_type": "markdown",
   "id": "bd3fac2d",
   "metadata": {},
   "source": [
    "learning"
   ]
  },
  {
   "cell_type": "code",
   "execution_count": null,
   "id": "ce7a917f",
   "metadata": {},
   "outputs": [],
   "source": [
    "model = build_siamese_vanilla_model(train_images[0].shape, 10)"
   ]
  },
  {
   "cell_type": "code",
   "execution_count": null,
   "id": "73095688",
   "metadata": {},
   "outputs": [],
   "source": [
    "train_images_50p = train_images[:len(train_images)//2]\n",
    "train_labels_50p = train_labels[:len(train_labels)//2]"
   ]
  },
  {
   "cell_type": "code",
   "execution_count": null,
   "id": "2d36feef",
   "metadata": {},
   "outputs": [],
   "source": [
    "# idx2 = make_pairs(train_labels_50p)\n",
    "# idx3 = make_pairs(train_labels_50p)\n",
    "\n",
    "# y = np.concatenate([train_labels_50p, train_labels_50p[idx2], train_labels_50p[idx3]])\n",
    "# X1 = np.concatenate([train_images_50p, train_images_50p, train_images_50p])\n",
    "# X2 = np.concatenate([train_images_50p, train_images_50p[idx2], train_images_50p[idx3]])\n",
    "# y = to_categorical(y)"
   ]
  },
  {
   "cell_type": "code",
   "execution_count": null,
   "id": "52176afa",
   "metadata": {},
   "outputs": [],
   "source": [
    "# history = model.fit([X1, X2], y, epochs=300, batch_size=512, shuffle=True,\n",
    "#          validation_data=([test_images, test_images], test_labels_cat))"
   ]
  },
  {
   "cell_type": "code",
   "execution_count": null,
   "id": "6b78d7ee",
   "metadata": {},
   "outputs": [],
   "source": [
    "# model.save('siamese_vanilla_50p_cifar10.h5')"
   ]
  },
  {
   "cell_type": "code",
   "execution_count": null,
   "id": "315557d2",
   "metadata": {},
   "outputs": [],
   "source": []
  },
  {
   "cell_type": "markdown",
   "id": "89151964",
   "metadata": {},
   "source": [
    "evaluate"
   ]
  },
  {
   "cell_type": "code",
   "execution_count": null,
   "id": "1bd7ed89",
   "metadata": {},
   "outputs": [],
   "source": [
    "model = tf.keras.models.load_model(\"siamese_vanilla_50p_cifar10.h5\")"
   ]
  },
  {
   "cell_type": "code",
   "execution_count": null,
   "id": "71aacd8c",
   "metadata": {},
   "outputs": [],
   "source": [
    "results_siamese_vanilla_50p = full_evaluate(model, [test_images, test_images], test_labels)"
   ]
  },
  {
   "cell_type": "code",
   "execution_count": null,
   "id": "2abb715c",
   "metadata": {},
   "outputs": [],
   "source": []
  },
  {
   "cell_type": "markdown",
   "id": "52b964b7",
   "metadata": {},
   "source": [
    "#### 10% of the taining data"
   ]
  },
  {
   "cell_type": "markdown",
   "id": "8369350a",
   "metadata": {},
   "source": [
    "learning"
   ]
  },
  {
   "cell_type": "code",
   "execution_count": null,
   "id": "cbd63459",
   "metadata": {},
   "outputs": [],
   "source": [
    "# model = build_siamese_vanilla_model(train_images[0].shape, 10)"
   ]
  },
  {
   "cell_type": "code",
   "execution_count": null,
   "id": "02be32e8",
   "metadata": {},
   "outputs": [],
   "source": [
    "# train_images_10p = train_images[:len(train_images)//10]\n",
    "# train_labels_10p = train_labels[:len(train_labels)//10]"
   ]
  },
  {
   "cell_type": "code",
   "execution_count": null,
   "id": "1252e914",
   "metadata": {},
   "outputs": [],
   "source": [
    "# idx2 = make_pairs(train_labels_10p)\n",
    "# idx3 = make_pairs(train_labels_10p)\n",
    "# idx4 = make_pairs(train_labels_10p)\n",
    "# idx5 = make_pairs(train_labels_10p)\n",
    "\n",
    "# y = np.concatenate([train_labels_10p, train_labels_10p[idx2], train_labels_10p[idx3], train_labels_10p[idx4],\n",
    "#                    train_labels_10p[idx5]])\n",
    "# X1 = np.concatenate([train_images_10p, train_images_10p, train_images_10p, train_images_10p, train_images_10p])\n",
    "# X2 = np.concatenate([train_images_10p, train_images_10p[idx2], train_images_10p[idx3], train_images_10p[idx4],\n",
    "#                     train_images_10p[idx5]])\n",
    "# y = to_categorical(y)"
   ]
  },
  {
   "cell_type": "code",
   "execution_count": null,
   "id": "e6172f3b",
   "metadata": {},
   "outputs": [],
   "source": [
    "# history = model.fit([X1, X2], y, epochs=300, batch_size=512, shuffle=True,\n",
    "#          validation_data=([test_images, test_images], test_labels_cat))"
   ]
  },
  {
   "cell_type": "code",
   "execution_count": null,
   "id": "dd70ff21",
   "metadata": {},
   "outputs": [],
   "source": [
    "# model.save('siamese_vanilla_10p_cifar10.h5')"
   ]
  },
  {
   "cell_type": "code",
   "execution_count": null,
   "id": "3b30f249",
   "metadata": {},
   "outputs": [],
   "source": []
  },
  {
   "cell_type": "markdown",
   "id": "6376ff9b",
   "metadata": {},
   "source": [
    "evaluate"
   ]
  },
  {
   "cell_type": "code",
   "execution_count": null,
   "id": "926bc7ae",
   "metadata": {},
   "outputs": [],
   "source": [
    "model = tf.keras.models.load_model(\"siamese_vanilla_10p_cifar10.h5\")"
   ]
  },
  {
   "cell_type": "code",
   "execution_count": null,
   "id": "1642ed9f",
   "metadata": {},
   "outputs": [],
   "source": [
    "results_siamese_vanilla_10p = full_evaluate(model, [test_images, test_images], test_labels)"
   ]
  },
  {
   "cell_type": "code",
   "execution_count": null,
   "id": "1fac1e12",
   "metadata": {},
   "outputs": [],
   "source": [
    "# for k in range(1,10000):\n",
    "#     print(k, end='\\r')\n",
    "#     model.predict([test_images, np.concatenate([test_images[:-k],test_images[:k]])])"
   ]
  },
  {
   "cell_type": "code",
   "execution_count": null,
   "id": "fa6f5ed0",
   "metadata": {},
   "outputs": [],
   "source": [
    "y_pred = np.argmax(model.predict([test_images, test_images]), 1)\n",
    "\n",
    "acc = 0\n",
    "c_m = None\n",
    "flag = True\n",
    "\n",
    "for i in range(1,11):\n",
    "    true_sim = (test_labels == np.concatenate([test_labels[i:], test_labels[:i]])).reshape(-1)\n",
    "    pred_sim = (y_pred == np.concatenate([y_pred[i:], y_pred[:i]]))\n",
    "    acc += accuracy_score(true_sim, pred_sim)\n",
    "    if flag:\n",
    "        c_m = confusion_matrix(true_sim, pred_sim)\n",
    "    else:\n",
    "        c_m += confusion_matrix(true_sim, pred_sim)\n",
    "\n",
    "acc = acc/10"
   ]
  },
  {
   "cell_type": "code",
   "execution_count": null,
   "id": "077633ed",
   "metadata": {},
   "outputs": [],
   "source": [
    "acc"
   ]
  },
  {
   "cell_type": "code",
   "execution_count": null,
   "id": "c5c3af26",
   "metadata": {},
   "outputs": [],
   "source": [
    "c_m"
   ]
  },
  {
   "cell_type": "code",
   "execution_count": null,
   "id": "bc55c331",
   "metadata": {},
   "outputs": [],
   "source": []
  }
 ],
 "metadata": {
  "kernelspec": {
   "display_name": "iet_env",
   "language": "python",
   "name": "iet_env"
  },
  "language_info": {
   "codemirror_mode": {
    "name": "ipython",
    "version": 3
   },
   "file_extension": ".py",
   "mimetype": "text/x-python",
   "name": "python",
   "nbconvert_exporter": "python",
   "pygments_lexer": "ipython3",
   "version": "3.8.5"
  }
 },
 "nbformat": 4,
 "nbformat_minor": 5
}
