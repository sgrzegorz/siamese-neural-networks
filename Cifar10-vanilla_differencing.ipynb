{
 "cells": [
  {
   "cell_type": "code",
   "execution_count": 1,
   "id": "desirable-phone",
   "metadata": {},
   "outputs": [],
   "source": [
    "%config Completer.use_jedi = False"
   ]
  },
  {
   "cell_type": "code",
   "execution_count": 2,
   "id": "broken-corner",
   "metadata": {},
   "outputs": [],
   "source": [
    "import tensorflow as tf\n",
    "import matplotlib.pyplot as plt\n",
    "import numpy as np\n",
    "import random\n",
    "from utils import *\n",
    "from sklearn.metrics import accuracy_score, confusion_matrix"
   ]
  },
  {
   "cell_type": "code",
   "execution_count": 3,
   "id": "based-brazilian",
   "metadata": {},
   "outputs": [],
   "source": [
    "# import the necessary packages\n",
    "from tensorflow.keras.models import Model\n",
    "from tensorflow.keras.layers import *\n",
    "from tensorflow.keras import datasets\n",
    "from tensorflow.keras.utils import to_categorical"
   ]
  },
  {
   "cell_type": "code",
   "execution_count": 4,
   "id": "turkish-circus",
   "metadata": {},
   "outputs": [
    {
     "data": {
      "text/plain": [
       "[PhysicalDevice(name='/physical_device:GPU:0', device_type='GPU')]"
      ]
     },
     "execution_count": 4,
     "metadata": {},
     "output_type": "execute_result"
    }
   ],
   "source": [
    "tf.config.list_physical_devices('GPU')"
   ]
  },
  {
   "cell_type": "markdown",
   "id": "2e2b9e4c",
   "metadata": {},
   "source": [
    "# Data preparation"
   ]
  },
  {
   "cell_type": "code",
   "execution_count": 5,
   "id": "civil-blogger",
   "metadata": {},
   "outputs": [],
   "source": [
    "(train_images, train_labels), (test_images, test_labels) = datasets.cifar10.load_data()"
   ]
  },
  {
   "cell_type": "code",
   "execution_count": 6,
   "id": "valid-candy",
   "metadata": {},
   "outputs": [
    {
     "data": {
      "text/plain": [
       "(50000, 32, 32, 3)"
      ]
     },
     "execution_count": 6,
     "metadata": {},
     "output_type": "execute_result"
    }
   ],
   "source": [
    "train_images.shape"
   ]
  },
  {
   "cell_type": "code",
   "execution_count": 7,
   "id": "healthy-punishment",
   "metadata": {},
   "outputs": [
    {
     "data": {
      "text/plain": [
       "(10000, 32, 32, 3)"
      ]
     },
     "execution_count": 7,
     "metadata": {},
     "output_type": "execute_result"
    }
   ],
   "source": [
    "test_images.shape"
   ]
  },
  {
   "cell_type": "code",
   "execution_count": 8,
   "id": "studied-cleaners",
   "metadata": {},
   "outputs": [],
   "source": [
    "train_images.astype('float32') \n",
    "test_images.astype('float32') \n",
    "\n",
    "train_images = train_images/255.\n",
    "test_images = test_images/255."
   ]
  },
  {
   "cell_type": "code",
   "execution_count": 9,
   "id": "earned-discount",
   "metadata": {},
   "outputs": [],
   "source": [
    "train_labels_cat = to_categorical(train_labels)\n",
    "test_labels_cat = to_categorical(test_labels)"
   ]
  },
  {
   "cell_type": "code",
   "execution_count": null,
   "id": "after-minutes",
   "metadata": {},
   "outputs": [],
   "source": []
  },
  {
   "cell_type": "markdown",
   "id": "inclusive-intervention",
   "metadata": {},
   "source": [
    "# Vanilla network"
   ]
  },
  {
   "cell_type": "code",
   "execution_count": 10,
   "id": "mental-prayer",
   "metadata": {},
   "outputs": [],
   "source": [
    "def build_vanilla_model(shape, class_num):\n",
    "    # specify the inputs for the feature extractor network\n",
    "    inputs = Input(shape)\n",
    "\n",
    "    x = Conv2D(32, (3, 3), activation=\"relu\")(inputs)\n",
    "    x = MaxPooling2D(pool_size=(2, 2))(x)\n",
    "\n",
    "    x = Conv2D(64, (2, 2), activation=\"relu\")(x)\n",
    "    x = MaxPooling2D(pool_size=(2,2))(x)\n",
    "    x = Dropout(0.2)(x)\n",
    "    \n",
    "    x = Conv2D(128, (2, 2), activation=\"relu\")(x)\n",
    "    x = MaxPooling2D(pool_size=(2,2))(x)\n",
    "    x = Dropout(0.2)(x)\n",
    "    \n",
    "    x = Flatten()(x)\n",
    "\n",
    "    x = Dense(32, activation='relu')(x)\n",
    "    x = Dropout(0.2)(x)\n",
    "    \n",
    "    outputs = Dense(class_num, activation='softmax')(x)\n",
    "\n",
    "    # build the model\n",
    "    model = Model(inputs, outputs)\n",
    "    \n",
    "    model.compile(optimizer='adam',\n",
    "              loss='categorical_crossentropy',\n",
    "              metrics=['accuracy'])\n",
    "\n",
    "    return model"
   ]
  },
  {
   "cell_type": "markdown",
   "id": "4e20eb50",
   "metadata": {},
   "source": [
    "### model on the whole dataset"
   ]
  },
  {
   "cell_type": "markdown",
   "id": "36307bc4",
   "metadata": {},
   "source": [
    "learning"
   ]
  },
  {
   "cell_type": "code",
   "execution_count": 11,
   "id": "junior-george",
   "metadata": {},
   "outputs": [],
   "source": [
    "# model = build_vanilla_model(train_images[0].shape, 10)"
   ]
  },
  {
   "cell_type": "code",
   "execution_count": 12,
   "id": "together-magazine",
   "metadata": {
    "scrolled": true
   },
   "outputs": [],
   "source": [
    "# history = model.fit(train_images, train_labels_cat, epochs=200, batch_size=512, \n",
    "#                     validation_data=(test_images, test_labels_cat))"
   ]
  },
  {
   "cell_type": "code",
   "execution_count": 13,
   "id": "suspended-theater",
   "metadata": {},
   "outputs": [],
   "source": [
    "# print_history_chart(history)"
   ]
  },
  {
   "cell_type": "code",
   "execution_count": 14,
   "id": "informational-sword",
   "metadata": {},
   "outputs": [],
   "source": [
    "# model.save('vanilla_cifar10.h5')"
   ]
  },
  {
   "cell_type": "markdown",
   "id": "b6e7a6e5",
   "metadata": {},
   "source": [
    "evaluation"
   ]
  },
  {
   "cell_type": "code",
   "execution_count": 15,
   "id": "configured-shield",
   "metadata": {},
   "outputs": [],
   "source": [
    "model = tf.keras.models.load_model(\"vanilla_cifar10.h5\")"
   ]
  },
  {
   "cell_type": "code",
   "execution_count": 16,
   "id": "44d250e8",
   "metadata": {},
   "outputs": [
    {
     "name": "stdout",
     "output_type": "stream",
     "text": [
      "Accuracy: 0.9281099999999999\n",
      "Confusion matrix:\n",
      " [[8645  363]\n",
      " [ 336  656]]\n",
      "F1-score: 0.6524117354549974\n"
     ]
    }
   ],
   "source": [
    "results = full_evaluate_differencing(model, test_images, test_labels)"
   ]
  },
  {
   "cell_type": "code",
   "execution_count": null,
   "id": "ac986a87",
   "metadata": {},
   "outputs": [],
   "source": []
  },
  {
   "cell_type": "code",
   "execution_count": null,
   "id": "be07a52f",
   "metadata": {},
   "outputs": [],
   "source": []
  },
  {
   "cell_type": "markdown",
   "id": "floating-tulsa",
   "metadata": {},
   "source": [
    "# Siemese network"
   ]
  },
  {
   "cell_type": "code",
   "execution_count": 53,
   "id": "hired-highland",
   "metadata": {},
   "outputs": [],
   "source": [
    "from tensorflow.keras.models import Model\n",
    "from tensorflow.keras.layers import Dense\n",
    "from tensorflow.keras.layers import Input\n",
    "from tensorflow.keras.layers import Lambda\n",
    "from tensorflow.keras.datasets import mnist\n",
    "import numpy as np\n",
    "import tensorflow.keras.backend as K\n",
    "\n",
    "\n",
    "def build_siamese_model(inputShape):\n",
    "    inputs = Input(inputShape)\n",
    "\n",
    "    x = Conv2D(32, (3, 3), activation=\"relu\")(inputs)\n",
    "    x = MaxPooling2D(pool_size=(2, 2))(x)\n",
    "    x = Dropout(0.2)(x)\n",
    "\n",
    "    x = Conv2D(64, (3, 3), activation=\"relu\")(x)\n",
    "    x = MaxPooling2D(pool_size=(2, 2))(x)\n",
    "    x = Dropout(0.2)(x)\n",
    "    \n",
    "    x = Conv2D(128, (3, 3), activation=\"relu\")(x)\n",
    "    x = MaxPooling2D(pool_size=(2, 2))(x)\n",
    "    x = Dropout(0.2)(x)\n",
    "\n",
    "#     pooledOutput = GlobalAveragePooling2D()(x)\n",
    "    pooledOutput = Flatten()(x)\n",
    "    outputs = Dense(32)(pooledOutput)\n",
    "    \n",
    "\n",
    "    model = Model(inputs, outputs)\n",
    "\n",
    "    return model\n",
    "\n",
    "\n",
    "def euclidean_distance(vectors):\n",
    "\t# unpack the vectors into separate lists\n",
    "\t(featsA, featsB) = vectors\n",
    "\n",
    "\t# compute the sum of squared distances between the vectors\n",
    "\tsumSquared = K.sum(K.square(featsA - featsB), axis=1,\n",
    "\t\tkeepdims=True)\n",
    "\n",
    "\t# return the euclidean distance between the vectors\n",
    "\treturn K.sqrt(K.maximum(sumSquared, K.epsilon()))\n"
   ]
  },
  {
   "cell_type": "code",
   "execution_count": 55,
   "id": "52dcc73c",
   "metadata": {},
   "outputs": [],
   "source": [
    "y_tst = (test_labels == np.concatenate([test_labels[1:], test_labels[:1]])).reshape(-1)"
   ]
  },
  {
   "cell_type": "markdown",
   "id": "059f2857",
   "metadata": {},
   "source": [
    "### model on the whole datasets"
   ]
  },
  {
   "cell_type": "markdown",
   "id": "6fdb21ed",
   "metadata": {},
   "source": [
    "learning"
   ]
  },
  {
   "cell_type": "code",
   "execution_count": 33,
   "id": "defined-median",
   "metadata": {},
   "outputs": [],
   "source": [
    "# model = build_siamese_vanilla_model(train_images[0].shape)"
   ]
  },
  {
   "cell_type": "code",
   "execution_count": 34,
   "id": "d97f8ca2",
   "metadata": {},
   "outputs": [],
   "source": [
    "# adam = tf.keras.optimizers.Adam(\n",
    "#     learning_rate=0.05,\n",
    "# )\n",
    "\n",
    "# model.compile(optimizer=adam,\n",
    "#               loss='binary_crossentropy',\n",
    "#               metrics=['accuracy', tf.keras.metrics.AUC()])"
   ]
  },
  {
   "cell_type": "code",
   "execution_count": 35,
   "id": "58a2018b",
   "metadata": {},
   "outputs": [],
   "source": [
    "# a, b = 1, 2\n",
    "\n",
    "# X1 = np.concatenate([train_images,train_images])\n",
    "# X2 = np.concatenate([np.concatenate([train_images[a:], train_images[:a]]),\n",
    "#                     np.concatenate([train_images[b:], train_images[:b]])])\n",
    "\n",
    "# # y = to_categorical(y)\n",
    "\n",
    "\n",
    "# y1 = (train_labels == np.concatenate([train_labels[a:], train_labels[:a]])).reshape(-1)\n",
    "# y2 = (train_labels == np.concatenate([train_labels[b:], train_labels[:b]])).reshape(-1)\n",
    "# y = np.concatenate([y1, y2])"
   ]
  },
  {
   "cell_type": "code",
   "execution_count": 36,
   "id": "2300122f",
   "metadata": {},
   "outputs": [],
   "source": [
    "# history = model.fit([X1, X2], y, epochs=500, batch_size=512, shuffle=True, class_weight={0:1, 1:2},\n",
    "#          validation_data=([test_images, np.concatenate([test_images[1:], test_images[:1]])], y_tst))\n"
   ]
  },
  {
   "cell_type": "code",
   "execution_count": 37,
   "id": "white-butler",
   "metadata": {},
   "outputs": [],
   "source": [
    "# print_history_chart(history)"
   ]
  },
  {
   "cell_type": "code",
   "execution_count": 38,
   "id": "quantitative-denver",
   "metadata": {},
   "outputs": [],
   "source": [
    "# model.save('siamese_vanilla_cifar10_diff.h5')"
   ]
  },
  {
   "cell_type": "markdown",
   "id": "35b9e27b",
   "metadata": {},
   "source": [
    "retrain"
   ]
  },
  {
   "cell_type": "code",
   "execution_count": 39,
   "id": "a1b01c84",
   "metadata": {},
   "outputs": [],
   "source": [
    "# !for i in {200..250}; do python retrain_cifar_10.py $i; done"
   ]
  },
  {
   "cell_type": "code",
   "execution_count": null,
   "id": "eddb5078",
   "metadata": {},
   "outputs": [],
   "source": []
  },
  {
   "cell_type": "markdown",
   "id": "f35c70ae",
   "metadata": {},
   "source": [
    "evaluate"
   ]
  },
  {
   "cell_type": "code",
   "execution_count": 49,
   "id": "spatial-headline",
   "metadata": {},
   "outputs": [],
   "source": [
    "model = tf.keras.models.load_model(\"siamese_vanilla_cifar10_diff.h5\")\n"
   ]
  },
  {
   "cell_type": "code",
   "execution_count": 50,
   "id": "6897f294",
   "metadata": {},
   "outputs": [
    {
     "name": "stdout",
     "output_type": "stream",
     "text": [
      "Model: \"model_1\"\n",
      "__________________________________________________________________________________________________\n",
      "Layer (type)                    Output Shape         Param #     Connected to                     \n",
      "==================================================================================================\n",
      "input_1 (InputLayer)            [(None, 32, 32, 3)]  0                                            \n",
      "__________________________________________________________________________________________________\n",
      "input_2 (InputLayer)            [(None, 32, 32, 3)]  0                                            \n",
      "__________________________________________________________________________________________________\n",
      "model (Functional)              (None, 32)           109664      input_1[0][0]                    \n",
      "                                                                 input_2[0][0]                    \n",
      "__________________________________________________________________________________________________\n",
      "lambda (Lambda)                 (None, 1)            0           model[0][0]                      \n",
      "                                                                 model[1][0]                      \n",
      "__________________________________________________________________________________________________\n",
      "concatenate (Concatenate)       (None, 65)           0           lambda[0][0]                     \n",
      "                                                                 model[0][0]                      \n",
      "                                                                 model[1][0]                      \n",
      "__________________________________________________________________________________________________\n",
      "dense_1 (Dense)                 (None, 64)           4224        concatenate[0][0]                \n",
      "__________________________________________________________________________________________________\n",
      "dense_2 (Dense)                 (None, 1)            65          dense_1[0][0]                    \n",
      "==================================================================================================\n",
      "Total params: 113,953\n",
      "Trainable params: 113,953\n",
      "Non-trainable params: 0\n",
      "__________________________________________________________________________________________________\n"
     ]
    }
   ],
   "source": [
    "model.summary()"
   ]
  },
  {
   "cell_type": "code",
   "execution_count": 41,
   "id": "de602c23",
   "metadata": {},
   "outputs": [],
   "source": [
    "y_pred = model.predict([test_images, np.concatenate([test_images[1:], test_images[:1]])])"
   ]
  },
  {
   "cell_type": "code",
   "execution_count": 42,
   "id": "7b031973",
   "metadata": {},
   "outputs": [
    {
     "data": {
      "text/plain": [
       "0.93"
      ]
     },
     "execution_count": 42,
     "metadata": {},
     "output_type": "execute_result"
    }
   ],
   "source": [
    "accuracy_score(y_tst, y_pred>0.5)"
   ]
  },
  {
   "cell_type": "code",
   "execution_count": 43,
   "id": "77b03823",
   "metadata": {},
   "outputs": [
    {
     "data": {
      "text/plain": [
       "array([[8647,  361],\n",
       "       [ 339,  653]])"
      ]
     },
     "execution_count": 43,
     "metadata": {},
     "output_type": "execute_result"
    }
   ],
   "source": [
    "confusion_matrix(y_tst, y_pred>0.5)"
   ]
  },
  {
   "cell_type": "code",
   "execution_count": 44,
   "id": "82f3391d",
   "metadata": {},
   "outputs": [
    {
     "data": {
      "text/plain": [
       "0.6510468594217348"
      ]
     },
     "execution_count": 44,
     "metadata": {},
     "output_type": "execute_result"
    }
   ],
   "source": [
    "f1_score(y_tst, y_pred>0.5)"
   ]
  },
  {
   "cell_type": "code",
   "execution_count": null,
   "id": "bc55c331",
   "metadata": {},
   "outputs": [],
   "source": []
  }
 ],
 "metadata": {
  "kernelspec": {
   "display_name": "iet_env",
   "language": "python",
   "name": "iet_env"
  },
  "language_info": {
   "codemirror_mode": {
    "name": "ipython",
    "version": 3
   },
   "file_extension": ".py",
   "mimetype": "text/x-python",
   "name": "python",
   "nbconvert_exporter": "python",
   "pygments_lexer": "ipython3",
   "version": "3.8.5"
  }
 },
 "nbformat": 4,
 "nbformat_minor": 5
}
