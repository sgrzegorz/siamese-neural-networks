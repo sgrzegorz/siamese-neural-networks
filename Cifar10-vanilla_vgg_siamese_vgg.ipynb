{
 "cells": [
  {
   "cell_type": "code",
   "execution_count": 68,
   "id": "178da827",
   "metadata": {},
   "outputs": [],
   "source": [
    "\n",
    "import tensorflow as tf\n",
    "from matplotlib import pyplot\n",
    "from keras.datasets import cifar10\n",
    "# from emnist import extract_training_samples\n",
    "from tensorflow.keras import *\n",
    "from sklearn.model_selection import train_test_split\n",
    "import numpy as np\n",
    "import matplotlib.pyplot as plt\n",
    "from tensorflow.keras.applications import VGG19\n",
    "import random"
   ]
  },
  {
   "cell_type": "markdown",
   "id": "07426cfd",
   "metadata": {},
   "source": [
    "## Vanilla VGG "
   ]
  },
  {
   "cell_type": "code",
   "execution_count": 98,
   "id": "c65f61e6",
   "metadata": {},
   "outputs": [],
   "source": [
    "(x_train, y_train), (x_test, y_test) = cifar10.load_data()\n",
    "\n",
    "Y_train = y_train\n",
    "Y_test = y_test\n",
    "\n",
    "\n",
    "num_classes = 10 \n",
    "x_train = x_train/255.\n",
    "y_train = utils.to_categorical(y_train, num_classes) \n",
    "\n",
    "x_test = x_test/255.\n",
    "y_test = utils.to_categorical(y_test, num_classes) \n",
    "\n"
   ]
  },
  {
   "cell_type": "code",
   "execution_count": 3,
   "id": "c5ca5d4f",
   "metadata": {},
   "outputs": [
    {
     "name": "stderr",
     "output_type": "stream",
     "text": [
      "2022-01-01 17:51:04.385730: W tensorflow/stream_executor/platform/default/dso_loader.cc:64] Could not load dynamic library 'libcuda.so.1'; dlerror: libcuda.so.1: cannot open shared object file: No such file or directory\n",
      "2022-01-01 17:51:04.385770: W tensorflow/stream_executor/cuda/cuda_driver.cc:269] failed call to cuInit: UNKNOWN ERROR (303)\n",
      "2022-01-01 17:51:04.385790: I tensorflow/stream_executor/cuda/cuda_diagnostics.cc:156] kernel driver does not appear to be running on this host (x-dell): /proc/driver/nvidia/version does not exist\n",
      "2022-01-01 17:51:04.386023: I tensorflow/core/platform/cpu_feature_guard.cc:151] This TensorFlow binary is optimized with oneAPI Deep Neural Network Library (oneDNN) to use the following CPU instructions in performance-critical operations:  AVX2 FMA\n",
      "To enable them in other operations, rebuild TensorFlow with the appropriate compiler flags.\n"
     ]
    }
   ],
   "source": [
    "model3 = tf.keras.models.load_model(\"saved-models/cifar10_vgg_200ep/model.h5\")\n"
   ]
  },
  {
   "cell_type": "code",
   "execution_count": 4,
   "id": "69ee28e0",
   "metadata": {},
   "outputs": [
    {
     "name": "stdout",
     "output_type": "stream",
     "text": [
      "Model: \"sequential\"\n",
      "_________________________________________________________________\n",
      " Layer (type)                Output Shape              Param #   \n",
      "=================================================================\n",
      " vgg19 (Functional)          (None, 1, 1, 512)         20024384  \n",
      "                                                                 \n",
      " flatten (Flatten)           (None, 512)               0         \n",
      "                                                                 \n",
      " dense (Dense)               (None, 10)                5130      \n",
      "                                                                 \n",
      "=================================================================\n",
      "Total params: 20,029,514\n",
      "Trainable params: 20,029,514\n",
      "Non-trainable params: 0\n",
      "_________________________________________________________________\n"
     ]
    }
   ],
   "source": [
    "model3.summary()"
   ]
  },
  {
   "cell_type": "code",
   "execution_count": 6,
   "id": "45d50eb2",
   "metadata": {},
   "outputs": [
    {
     "name": "stderr",
     "output_type": "stream",
     "text": [
      "2022-01-01 17:54:17.187490: W tensorflow/core/framework/cpu_allocator_impl.cc:82] Allocation of 122880000 exceeds 10% of free system memory.\n"
     ]
    },
    {
     "name": "stdout",
     "output_type": "stream",
     "text": [
      "313/313 [==============================] - 42s 133ms/step - loss: 3.1982 - accuracy: 0.7218\n"
     ]
    },
    {
     "data": {
      "text/plain": [
       "[3.198240280151367, 0.7218000292778015]"
      ]
     },
     "execution_count": 6,
     "metadata": {},
     "output_type": "execute_result"
    }
   ],
   "source": [
    "model3.evaluate(x_test, y_test)"
   ]
  },
  {
   "cell_type": "markdown",
   "id": "2932a05f",
   "metadata": {},
   "source": [
    "# Siamese VGG"
   ]
  },
  {
   "cell_type": "code",
   "execution_count": 126,
   "id": "5931c100",
   "metadata": {},
   "outputs": [
    {
     "name": "stdout",
     "output_type": "stream",
     "text": [
      "Model: \"model\"\n",
      "__________________________________________________________________________________________________\n",
      " Layer (type)                   Output Shape         Param #     Connected to                     \n",
      "==================================================================================================\n",
      " input_1 (InputLayer)           [(None, 32, 32, 3)]  0           []                               \n",
      "                                                                                                  \n",
      " input_2 (InputLayer)           [(None, 32, 32, 3)]  0           []                               \n",
      "                                                                                                  \n",
      " vgg19A (Functional)            (None, 1, 1, 512)    20024384    ['input_1[0][0]']                \n",
      "                                                                                                  \n",
      " vgg19B (Functional)            (None, 1, 1, 512)    20024384    ['input_2[0][0]']                \n",
      "                                                                                                  \n",
      " flatten (Flatten)              (None, 512)          0           ['vgg19A[0][0]']                 \n",
      "                                                                                                  \n",
      " flatten_1 (Flatten)            (None, 512)          0           ['vgg19B[0][0]']                 \n",
      "                                                                                                  \n",
      " concatenate (Concatenate)      (None, 1024)         0           ['flatten[0][0]',                \n",
      "                                                                  'flatten_1[0][0]']              \n",
      "                                                                                                  \n",
      " dense (Dense)                  (None, 10)           10250       ['concatenate[0][0]']            \n",
      "                                                                                                  \n",
      "==================================================================================================\n",
      "Total params: 40,059,018\n",
      "Trainable params: 40,059,018\n",
      "Non-trainable params: 0\n",
      "__________________________________________________________________________________________________\n"
     ]
    }
   ],
   "source": [
    "model = tf.keras.models.load_model(\"saved-models/cifar10_vgg_siamese-crossentropy/model.h5\")\n",
    "\n",
    "model.summary()"
   ]
  },
  {
   "cell_type": "code",
   "execution_count": 127,
   "id": "1589ec77",
   "metadata": {},
   "outputs": [],
   "source": [
    "def make_pairs(images, labels):\n",
    "    pairImages = []\n",
    "    pairLabels = []\n",
    "\n",
    "    numClasses = len(np.unique(labels))\n",
    "    idx = [np.where(labels == i)[0] for i in range(0, numClasses)]\n",
    "\n",
    "    for idxA in range(len(images)):\n",
    "        currentImage = images[idxA]\n",
    "        label = labels[idxA]\n",
    "        \n",
    "        for idxB in random.sample(list(idx[label[0]]), 1):\n",
    "            posImage = images[idxB]\n",
    "\n",
    "            pairImages.append(np.array([currentImage, posImage]))\n",
    "            pairLabels.append(np.array(label))\n",
    "        \n",
    "    return np.array(pairImages), np.array(pairLabels)\n",
    "\n",
    "\n",
    "x_train_siamese, y_train_siamese = make_pairs(x_train, Y_train)\n",
    "x_test_siamese, y_test_siamese = make_pairs(x_test, Y_test)\n",
    "\n",
    "y_train_siamese = utils.to_categorical(y_train_siamese, num_classes) \n",
    "y_test_siamese = utils.to_categorical(y_test_siamese, num_classes) \n",
    "\n",
    "\n",
    "\n",
    "x_train_both = [x_train_siamese[:,0,:], x_train_siamese[:,1,:]]\n",
    "x_test_both = [x_test_siamese[:,0,:], x_test_siamese[:,1,:]]"
   ]
  },
  {
   "cell_type": "code",
   "execution_count": 129,
   "id": "306f953c",
   "metadata": {},
   "outputs": [
    {
     "name": "stdout",
     "output_type": "stream",
     "text": [
      "313/313 [==============================] - 110s 340ms/step - loss: 2.3026 - accuracy: 0.0987\n"
     ]
    },
    {
     "data": {
      "text/plain": [
       "[2.3025856018066406, 0.09870000183582306]"
      ]
     },
     "execution_count": 129,
     "metadata": {},
     "output_type": "execute_result"
    }
   ],
   "source": [
    "model.evaluate(x_test_both, y_test_siamese)"
   ]
  }
 ],
 "metadata": {
  "kernelspec": {
   "display_name": "Python [conda env:ml]",
   "language": "python",
   "name": "conda-env-ml-py"
  },
  "language_info": {
   "codemirror_mode": {
    "name": "ipython",
    "version": 3
   },
   "file_extension": ".py",
   "mimetype": "text/x-python",
   "name": "python",
   "nbconvert_exporter": "python",
   "pygments_lexer": "ipython3",
   "version": "3.9.7"
  }
 },
 "nbformat": 4,
 "nbformat_minor": 5
}
