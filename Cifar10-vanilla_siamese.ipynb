{
 "cells": [
  {
   "cell_type": "code",
   "execution_count": 19,
   "id": "desirable-phone",
   "metadata": {},
   "outputs": [],
   "source": [
    "%config Completer.use_jedi = False"
   ]
  },
  {
   "cell_type": "code",
   "execution_count": 20,
   "id": "broken-corner",
   "metadata": {},
   "outputs": [],
   "source": [
    "import tensorflow as tf\n",
    "import matplotlib.pyplot as plt\n",
    "import numpy as np\n",
    "import random"
   ]
  },
  {
   "cell_type": "code",
   "execution_count": 21,
   "id": "based-brazilian",
   "metadata": {},
   "outputs": [],
   "source": [
    "# import the necessary packages\n",
    "from tensorflow.keras.models import Model\n",
    "from tensorflow.keras.layers import *\n",
    "from tensorflow.keras import datasets"
   ]
  },
  {
   "cell_type": "code",
   "execution_count": 22,
   "id": "turkish-circus",
   "metadata": {},
   "outputs": [
    {
     "data": {
      "text/plain": [
       "[PhysicalDevice(name='/physical_device:GPU:0', device_type='GPU')]"
      ]
     },
     "execution_count": 22,
     "metadata": {},
     "output_type": "execute_result"
    }
   ],
   "source": [
    "tf.config.list_physical_devices('GPU')"
   ]
  },
  {
   "cell_type": "code",
   "execution_count": 23,
   "id": "mounted-junior",
   "metadata": {},
   "outputs": [],
   "source": [
    "def show_dataset(x_train):\n",
    "    img_rows, img_cols = x_train.shape[1], x_train.shape[2]\n",
    "    col1 = 10\n",
    "    row1 = 1\n",
    "\n",
    "    # Show a few sample digits from the training set\n",
    "    plt.rcParams['figure.figsize'] = (1.0, 1.0) # set default size of plots\n",
    "    col2 = 20\n",
    "    row2 = 5\n",
    "    fig = plt.figure(figsize=(col2, row2))\n",
    "    for index in range(col1*row1, col1*row1 + col2*row2):\n",
    "        fig.add_subplot(row2, col2, index - col1*row1 + 1)\n",
    "        plt.axis('off')\n",
    "        plt.imshow(x_train[index]) # index of the sample picture\n",
    "    plt.show()\n",
    "    \n",
    "\n",
    "def print_history_chart(history):\n",
    "    accuracy =history.history['accuracy']\n",
    "    val_accuracy =history.history['val_accuracy']\n",
    "    \n",
    "    plt.figure(figsize=(8, 8))\n",
    "    plt.subplot(2, 1, 1)\n",
    "    \n",
    "    loss = history.history['loss']\n",
    "    val_loss = history.history['val_loss']\n",
    "\n",
    "\n",
    "    loss = history.history['loss']\n",
    "    val_loss = history.history['val_loss']\n",
    "    plt.plot(range(1,len(accuracy)+1),accuracy,color='red',label = \"Training Accuracy\")\n",
    "    plt.plot(range(1,len(accuracy)+1),val_accuracy,color='blue',label = \"Validation Accuracy\")\n",
    "    plt.ylabel('accuracy')\n",
    "    plt.title('Training and Validation Accuracy')\n",
    "    plt.legend()\n",
    "    \n",
    "    plt.subplot(2, 1, 2)\n",
    "    plt.plot(range(1,len(accuracy)+1),loss,color='red',label = \"Training Loss\")\n",
    "    plt.plot(range(1,len(accuracy)+1),val_loss,color='blue',label = \"Validation Loss\")\n",
    "    plt.ylabel('Cross Entropy')\n",
    "    plt.title('Model')\n",
    "    plt.legend()\n",
    "    plt.title('Training and Validation Loss')"
   ]
  },
  {
   "cell_type": "code",
   "execution_count": null,
   "id": "appreciated-hartford",
   "metadata": {},
   "outputs": [],
   "source": []
  },
  {
   "cell_type": "code",
   "execution_count": 24,
   "id": "civil-blogger",
   "metadata": {},
   "outputs": [],
   "source": [
    "(train_images, train_labels), (test_images, test_labels) = datasets.cifar10.load_data()"
   ]
  },
  {
   "cell_type": "code",
   "execution_count": 25,
   "id": "valid-candy",
   "metadata": {},
   "outputs": [
    {
     "data": {
      "text/plain": [
       "(50000, 32, 32, 3)"
      ]
     },
     "execution_count": 25,
     "metadata": {},
     "output_type": "execute_result"
    }
   ],
   "source": [
    "train_images.shape"
   ]
  },
  {
   "cell_type": "code",
   "execution_count": 26,
   "id": "encouraging-court",
   "metadata": {},
   "outputs": [
    {
     "data": {
      "text/plain": [
       "(50000, 1)"
      ]
     },
     "execution_count": 26,
     "metadata": {},
     "output_type": "execute_result"
    }
   ],
   "source": [
    "train_labels.shape"
   ]
  },
  {
   "cell_type": "code",
   "execution_count": 27,
   "id": "healthy-punishment",
   "metadata": {},
   "outputs": [
    {
     "data": {
      "text/plain": [
       "(10000, 32, 32, 3)"
      ]
     },
     "execution_count": 27,
     "metadata": {},
     "output_type": "execute_result"
    }
   ],
   "source": [
    "test_images.shape"
   ]
  },
  {
   "cell_type": "code",
   "execution_count": 28,
   "id": "studied-cleaners",
   "metadata": {},
   "outputs": [],
   "source": [
    "train_images.astype('float32') \n",
    "test_images.astype('float32') \n",
    "\n",
    "train_images = train_images/255.\n",
    "test_images = test_images/255."
   ]
  },
  {
   "cell_type": "code",
   "execution_count": null,
   "id": "after-minutes",
   "metadata": {},
   "outputs": [],
   "source": []
  },
  {
   "cell_type": "code",
   "execution_count": null,
   "id": "earned-discount",
   "metadata": {},
   "outputs": [],
   "source": []
  },
  {
   "cell_type": "markdown",
   "id": "inclusive-intervention",
   "metadata": {},
   "source": [
    "# Vanilla network"
   ]
  },
  {
   "cell_type": "code",
   "execution_count": 11,
   "id": "mental-prayer",
   "metadata": {},
   "outputs": [],
   "source": [
    "def build_vanilla_model(shape, class_num):\n",
    "    # specify the inputs for the feature extractor network\n",
    "    inputs = Input(shape)\n",
    "\n",
    "    x = Conv2D(128, (3, 3), activation=\"relu\")(inputs)\n",
    "    x = MaxPooling2D(pool_size=(2, 2))(x)\n",
    "#     x = Dropout(0.1)(x)\n",
    "\n",
    "    x = Conv2D(64, (2, 2), activation=\"relu\")(x)\n",
    "    x = MaxPooling2D(pool_size=(2,2))(x)\n",
    "    x = Dropout(0.2)(x)\n",
    "    \n",
    "    x = Flatten()(x)\n",
    "    \n",
    "    # prepare the final outputs\n",
    "#     pooledOutput = GlobalAveragePooling2D()(x)\n",
    "\n",
    "#     outputs = Dense(class_num)(pooledOutput)\n",
    "\n",
    "    x = Dense(128, activation='relu')(x)\n",
    "    outputs = Dense(class_num, activation='softmax')(x)\n",
    "\n",
    "    # build the model\n",
    "    model = Model(inputs, outputs)\n",
    "    \n",
    "    model.compile(optimizer='adam',\n",
    "              loss=tf.keras.losses.SparseCategoricalCrossentropy(from_logits=True),\n",
    "              metrics=['accuracy'])\n",
    "\n",
    "    return model"
   ]
  },
  {
   "cell_type": "code",
   "execution_count": 12,
   "id": "junior-george",
   "metadata": {},
   "outputs": [],
   "source": [
    "model = build_vanilla_model(train_images[0].shape, 10)"
   ]
  },
  {
   "cell_type": "code",
   "execution_count": 13,
   "id": "joined-interest",
   "metadata": {},
   "outputs": [
    {
     "name": "stdout",
     "output_type": "stream",
     "text": [
      "Model: \"model\"\n",
      "_________________________________________________________________\n",
      "Layer (type)                 Output Shape              Param #   \n",
      "=================================================================\n",
      "input_1 (InputLayer)         [(None, 32, 32, 3)]       0         \n",
      "_________________________________________________________________\n",
      "conv2d (Conv2D)              (None, 30, 30, 128)       3584      \n",
      "_________________________________________________________________\n",
      "max_pooling2d (MaxPooling2D) (None, 15, 15, 128)       0         \n",
      "_________________________________________________________________\n",
      "conv2d_1 (Conv2D)            (None, 14, 14, 64)        32832     \n",
      "_________________________________________________________________\n",
      "max_pooling2d_1 (MaxPooling2 (None, 7, 7, 64)          0         \n",
      "_________________________________________________________________\n",
      "dropout (Dropout)            (None, 7, 7, 64)          0         \n",
      "_________________________________________________________________\n",
      "flatten (Flatten)            (None, 3136)              0         \n",
      "_________________________________________________________________\n",
      "dense (Dense)                (None, 128)               401536    \n",
      "_________________________________________________________________\n",
      "dense_1 (Dense)              (None, 10)                1290      \n",
      "=================================================================\n",
      "Total params: 439,242\n",
      "Trainable params: 439,242\n",
      "Non-trainable params: 0\n",
      "_________________________________________________________________\n"
     ]
    }
   ],
   "source": [
    "model.summary()"
   ]
  },
  {
   "cell_type": "code",
   "execution_count": 14,
   "id": "together-magazine",
   "metadata": {
    "scrolled": true
   },
   "outputs": [
    {
     "name": "stdout",
     "output_type": "stream",
     "text": [
      "Epoch 1/50\n"
     ]
    },
    {
     "name": "stderr",
     "output_type": "stream",
     "text": [
      "/home/matmozaur/.local/lib/python3.8/site-packages/tensorflow/python/keras/backend.py:4929: UserWarning: \"`sparse_categorical_crossentropy` received `from_logits=True`, but the `output` argument was produced by a sigmoid or softmax activation and thus does not represent logits. Was this intended?\"\n",
      "  warnings.warn(\n"
     ]
    },
    {
     "name": "stdout",
     "output_type": "stream",
     "text": [
      "98/98 [==============================] - 11s 68ms/step - loss: 1.7508 - accuracy: 0.3721 - val_loss: 1.4540 - val_accuracy: 0.4814\n",
      "Epoch 2/50\n",
      "98/98 [==============================] - 6s 60ms/step - loss: 1.3605 - accuracy: 0.5188 - val_loss: 1.2793 - val_accuracy: 0.5438\n",
      "Epoch 3/50\n",
      "98/98 [==============================] - 6s 62ms/step - loss: 1.2386 - accuracy: 0.5646 - val_loss: 1.1948 - val_accuracy: 0.5796\n",
      "Epoch 4/50\n",
      "98/98 [==============================] - 6s 61ms/step - loss: 1.1579 - accuracy: 0.5952 - val_loss: 1.1331 - val_accuracy: 0.6075\n",
      "Epoch 5/50\n",
      "98/98 [==============================] - 6s 62ms/step - loss: 1.0908 - accuracy: 0.6179 - val_loss: 1.0745 - val_accuracy: 0.6343\n",
      "Epoch 6/50\n",
      "98/98 [==============================] - 6s 62ms/step - loss: 1.0428 - accuracy: 0.6356 - val_loss: 1.0632 - val_accuracy: 0.6293\n",
      "Epoch 7/50\n",
      "98/98 [==============================] - 6s 62ms/step - loss: 0.9982 - accuracy: 0.6502 - val_loss: 1.0136 - val_accuracy: 0.6546\n",
      "Epoch 8/50\n",
      "98/98 [==============================] - 6s 62ms/step - loss: 0.9562 - accuracy: 0.6674 - val_loss: 0.9543 - val_accuracy: 0.6719\n",
      "Epoch 9/50\n",
      "98/98 [==============================] - 6s 61ms/step - loss: 0.9215 - accuracy: 0.6782 - val_loss: 0.9334 - val_accuracy: 0.6792\n",
      "Epoch 10/50\n",
      "98/98 [==============================] - 6s 60ms/step - loss: 0.8920 - accuracy: 0.6894 - val_loss: 0.9169 - val_accuracy: 0.6858\n",
      "Epoch 11/50\n",
      "98/98 [==============================] - 6s 62ms/step - loss: 0.8633 - accuracy: 0.7011 - val_loss: 0.9213 - val_accuracy: 0.6850\n",
      "Epoch 12/50\n",
      "98/98 [==============================] - 6s 61ms/step - loss: 0.8290 - accuracy: 0.7151 - val_loss: 0.8814 - val_accuracy: 0.6940\n",
      "Epoch 13/50\n",
      "98/98 [==============================] - 6s 62ms/step - loss: 0.8120 - accuracy: 0.7188 - val_loss: 0.8903 - val_accuracy: 0.6885\n",
      "Epoch 14/50\n",
      "98/98 [==============================] - 6s 62ms/step - loss: 0.7898 - accuracy: 0.7271 - val_loss: 0.8623 - val_accuracy: 0.6986\n",
      "Epoch 15/50\n",
      "98/98 [==============================] - 6s 62ms/step - loss: 0.7571 - accuracy: 0.7399 - val_loss: 0.8574 - val_accuracy: 0.7106\n",
      "Epoch 16/50\n",
      "98/98 [==============================] - 6s 61ms/step - loss: 0.7473 - accuracy: 0.7415 - val_loss: 0.8483 - val_accuracy: 0.7044\n",
      "Epoch 17/50\n",
      "98/98 [==============================] - 6s 61ms/step - loss: 0.7142 - accuracy: 0.7529 - val_loss: 0.8282 - val_accuracy: 0.7146\n",
      "Epoch 18/50\n",
      "98/98 [==============================] - 6s 63ms/step - loss: 0.7032 - accuracy: 0.7589 - val_loss: 0.8323 - val_accuracy: 0.7119\n",
      "Epoch 19/50\n",
      "98/98 [==============================] - 6s 62ms/step - loss: 0.6835 - accuracy: 0.7628 - val_loss: 0.8162 - val_accuracy: 0.7191\n",
      "Epoch 20/50\n",
      "98/98 [==============================] - 6s 62ms/step - loss: 0.6618 - accuracy: 0.7728 - val_loss: 0.8282 - val_accuracy: 0.7140\n",
      "Epoch 21/50\n",
      "98/98 [==============================] - 6s 62ms/step - loss: 0.6396 - accuracy: 0.7804 - val_loss: 0.8015 - val_accuracy: 0.7230\n",
      "Epoch 22/50\n",
      "98/98 [==============================] - 6s 62ms/step - loss: 0.6237 - accuracy: 0.7830 - val_loss: 0.8088 - val_accuracy: 0.7231\n",
      "Epoch 23/50\n",
      "98/98 [==============================] - 6s 62ms/step - loss: 0.5976 - accuracy: 0.7941 - val_loss: 0.8015 - val_accuracy: 0.7267\n",
      "Epoch 24/50\n",
      "98/98 [==============================] - 6s 62ms/step - loss: 0.5894 - accuracy: 0.7959 - val_loss: 0.8253 - val_accuracy: 0.7154\n",
      "Epoch 25/50\n",
      "98/98 [==============================] - 6s 62ms/step - loss: 0.5676 - accuracy: 0.8036 - val_loss: 0.7935 - val_accuracy: 0.7294\n",
      "Epoch 26/50\n",
      "98/98 [==============================] - 6s 62ms/step - loss: 0.5516 - accuracy: 0.8088 - val_loss: 0.7970 - val_accuracy: 0.7316\n",
      "Epoch 27/50\n",
      "98/98 [==============================] - 6s 61ms/step - loss: 0.5253 - accuracy: 0.8174 - val_loss: 0.8153 - val_accuracy: 0.7224\n",
      "Epoch 28/50\n",
      "98/98 [==============================] - 6s 62ms/step - loss: 0.5170 - accuracy: 0.8208 - val_loss: 0.8229 - val_accuracy: 0.7203\n",
      "Epoch 29/50\n",
      "98/98 [==============================] - 6s 62ms/step - loss: 0.4969 - accuracy: 0.8274 - val_loss: 0.7988 - val_accuracy: 0.7305\n",
      "Epoch 30/50\n",
      "98/98 [==============================] - 6s 63ms/step - loss: 0.4805 - accuracy: 0.8305 - val_loss: 0.7965 - val_accuracy: 0.7325\n",
      "Epoch 31/50\n",
      "98/98 [==============================] - 6s 62ms/step - loss: 0.4713 - accuracy: 0.8355 - val_loss: 0.8138 - val_accuracy: 0.7277\n",
      "Epoch 32/50\n",
      "98/98 [==============================] - 6s 63ms/step - loss: 0.4515 - accuracy: 0.8422 - val_loss: 0.7955 - val_accuracy: 0.7362\n",
      "Epoch 33/50\n",
      "98/98 [==============================] - 6s 64ms/step - loss: 0.4338 - accuracy: 0.8503 - val_loss: 0.8135 - val_accuracy: 0.7354\n",
      "Epoch 34/50\n",
      "98/98 [==============================] - 6s 61ms/step - loss: 0.4242 - accuracy: 0.8530 - val_loss: 0.8189 - val_accuracy: 0.7317\n",
      "Epoch 35/50\n",
      "98/98 [==============================] - 6s 59ms/step - loss: 0.4093 - accuracy: 0.8570 - val_loss: 0.8140 - val_accuracy: 0.7341\n",
      "Epoch 36/50\n",
      "98/98 [==============================] - 6s 59ms/step - loss: 0.3932 - accuracy: 0.8635 - val_loss: 0.8247 - val_accuracy: 0.7383\n",
      "Epoch 37/50\n",
      "98/98 [==============================] - 6s 59ms/step - loss: 0.3784 - accuracy: 0.8693 - val_loss: 0.8318 - val_accuracy: 0.7339\n",
      "Epoch 38/50\n",
      "98/98 [==============================] - 6s 59ms/step - loss: 0.3660 - accuracy: 0.8715 - val_loss: 0.8375 - val_accuracy: 0.7342\n",
      "Epoch 39/50\n",
      "98/98 [==============================] - 6s 62ms/step - loss: 0.3550 - accuracy: 0.8761 - val_loss: 0.8697 - val_accuracy: 0.7291\n",
      "Epoch 40/50\n",
      "98/98 [==============================] - 6s 63ms/step - loss: 0.3438 - accuracy: 0.8792 - val_loss: 0.8512 - val_accuracy: 0.7326\n",
      "Epoch 41/50\n",
      "98/98 [==============================] - 6s 62ms/step - loss: 0.3365 - accuracy: 0.8815 - val_loss: 0.8867 - val_accuracy: 0.7303\n",
      "Epoch 42/50\n",
      "98/98 [==============================] - 6s 62ms/step - loss: 0.3207 - accuracy: 0.8882 - val_loss: 0.9000 - val_accuracy: 0.7274\n",
      "Epoch 43/50\n",
      "98/98 [==============================] - 6s 64ms/step - loss: 0.3076 - accuracy: 0.8917 - val_loss: 0.8912 - val_accuracy: 0.7375\n",
      "Epoch 44/50\n",
      "98/98 [==============================] - 6s 62ms/step - loss: 0.2998 - accuracy: 0.8944 - val_loss: 0.8989 - val_accuracy: 0.7313\n",
      "Epoch 45/50\n",
      "98/98 [==============================] - 6s 62ms/step - loss: 0.2853 - accuracy: 0.9009 - val_loss: 0.9088 - val_accuracy: 0.7303\n",
      "Epoch 46/50\n",
      "98/98 [==============================] - 6s 62ms/step - loss: 0.2801 - accuracy: 0.9010 - val_loss: 0.9099 - val_accuracy: 0.7342\n",
      "Epoch 47/50\n",
      "98/98 [==============================] - 6s 62ms/step - loss: 0.2729 - accuracy: 0.9050 - val_loss: 0.9173 - val_accuracy: 0.7301\n",
      "Epoch 48/50\n",
      "98/98 [==============================] - 6s 62ms/step - loss: 0.2603 - accuracy: 0.9093 - val_loss: 0.9322 - val_accuracy: 0.7312\n",
      "Epoch 49/50\n",
      "98/98 [==============================] - 6s 62ms/step - loss: 0.2554 - accuracy: 0.9105 - val_loss: 0.9517 - val_accuracy: 0.7313\n",
      "Epoch 50/50\n",
      "98/98 [==============================] - 6s 62ms/step - loss: 0.2437 - accuracy: 0.9150 - val_loss: 0.9539 - val_accuracy: 0.7308\n"
     ]
    }
   ],
   "source": [
    "history = model.fit(train_images, train_labels, epochs=50, batch_size=512, \n",
    "                    validation_data=(test_images, test_labels))\n"
   ]
  },
  {
   "cell_type": "code",
   "execution_count": 15,
   "id": "suspended-theater",
   "metadata": {},
   "outputs": [
    {
     "data": {
      "image/png": "[encoded data removed]",
      "text/plain": [
       "<Figure size 576x576 with 2 Axes>"
      ]
     },
     "metadata": {
      "needs_background": "light"
     },
     "output_type": "display_data"
    }
   ],
   "source": [
    "print_history_chart(history)"
   ]
  },
  {
   "cell_type": "code",
   "execution_count": 24,
   "id": "informational-sword",
   "metadata": {},
   "outputs": [],
   "source": [
    "# model.save('vanilla_cifar10.h5')"
   ]
  },
  {
   "cell_type": "code",
   "execution_count": 46,
   "id": "configured-shield",
   "metadata": {},
   "outputs": [],
   "source": [
    "model = tf.keras.models.load_model(\"vanilla_cifar10.h5\")"
   ]
  },
  {
   "cell_type": "code",
   "execution_count": 47,
   "id": "nominated-recycling",
   "metadata": {},
   "outputs": [
    {
     "name": "stdout",
     "output_type": "stream",
     "text": [
      "313/313 [==============================] - 1s 2ms/step - loss: 0.9539 - accuracy: 0.7308\n"
     ]
    },
    {
     "data": {
      "text/plain": [
       "0.7307999730110168"
      ]
     },
     "execution_count": 47,
     "metadata": {},
     "output_type": "execute_result"
    }
   ],
   "source": [
    "model.evaluate(test_images, test_labels)[1]"
   ]
  },
  {
   "cell_type": "code",
   "execution_count": null,
   "id": "biological-chart",
   "metadata": {},
   "outputs": [],
   "source": []
  },
  {
   "cell_type": "markdown",
   "id": "floating-tulsa",
   "metadata": {},
   "source": [
    "# Siemese network"
   ]
  },
  {
   "cell_type": "code",
   "execution_count": 11,
   "id": "hired-highland",
   "metadata": {},
   "outputs": [],
   "source": [
    "def build_siamese_vanilla_model(shape, class_num):\n",
    "    inputs1 = Input(shape)\n",
    "    inputs2 = Input(shape)\n",
    "    \n",
    "    def one_side(inputs):\n",
    "        x = Conv2D(128, (3, 3), activation=\"relu\")(inputs)\n",
    "        x = MaxPooling2D(pool_size=(2, 2))(x)\n",
    "    #     x = Dropout(0.1)(x)\n",
    "\n",
    "        x = Conv2D(64, (2, 2), activation=\"relu\")(x)\n",
    "        x = MaxPooling2D(pool_size=(2,2))(x)\n",
    "        x = Dropout(0.2)(x)\n",
    "\n",
    "        x = Flatten()(x)\n",
    "\n",
    "        x = Dense(128, activation='relu')(x)\n",
    "        \n",
    "        return x\n",
    "    \n",
    "    x1 = one_side(inputs1)\n",
    "    x2 = one_side(inputs2)\n",
    "    \n",
    "#     x1 = Embedding()(x1)\n",
    "#     x2 = Embedding()(x2)\n",
    "    \n",
    "#     x = Concatenate(axis=1)([inputs1, inputs2])\n",
    "    x = concatenate([x1, x2])\n",
    "    \n",
    "    outputs = Dense(class_num, activation='softmax')(x)\n",
    "\n",
    "    # build the model\n",
    "    model = Model([inputs1, inputs2], outputs)\n",
    "    \n",
    "    model.compile(optimizer='adam',\n",
    "              loss=tf.keras.losses.SparseCategoricalCrossentropy(from_logits=True),\n",
    "              metrics=['accuracy'])\n",
    "\n",
    "    return model"
   ]
  },
  {
   "cell_type": "code",
   "execution_count": 12,
   "id": "defined-median",
   "metadata": {},
   "outputs": [],
   "source": [
    "model = build_siamese_vanilla_model(train_images[0].shape, 10)"
   ]
  },
  {
   "cell_type": "code",
   "execution_count": 13,
   "id": "continental-still",
   "metadata": {},
   "outputs": [],
   "source": [
    "def make_pairs(images, labels):\n",
    "    pairImages = []\n",
    "    pairLabels = []\n",
    "\n",
    "    numClasses = len(np.unique(labels))\n",
    "    idx = [np.where(labels == i)[0] for i in range(0, numClasses)]\n",
    "\n",
    "    for idxA in range(len(images)):\n",
    "        currentImage = images[idxA]\n",
    "        label = labels[idxA]\n",
    "#         print(currentImage.shape, label)\n",
    "\n",
    "        for idxB in random.sample(list(idx[label[0]]), 1):\n",
    "            posImage = images[idxB]\n",
    "#             print(posImage.shape)\n",
    "#             print('\\n\\n\\n')\n",
    "\n",
    "\n",
    "            pairImages.append(np.array([currentImage, posImage]))\n",
    "            pairLabels.append(np.array(label))\n",
    "        \n",
    "    return np.array(pairImages), np.array(pairLabels)\n",
    "\n",
    "#     return np.array(pairImages), np.array(pairLabels)"
   ]
  },
  {
   "cell_type": "code",
   "execution_count": 14,
   "id": "aquatic-living",
   "metadata": {},
   "outputs": [],
   "source": [
    "# X1, y1 = train_images[:30000], train_labels[:30000]"
   ]
  },
  {
   "cell_type": "code",
   "execution_count": 15,
   "id": "available-providence",
   "metadata": {},
   "outputs": [],
   "source": [
    "X, y = make_pairs(train_images, train_labels)\n",
    "# X, y = make_pairs(X1, y1)"
   ]
  },
  {
   "cell_type": "code",
   "execution_count": 16,
   "id": "heated-shower",
   "metadata": {},
   "outputs": [],
   "source": [
    "# model.fit([train_images[:1000], train_images[:1000]], train_labels[:1000], epochs=50, batch_size=512, shuffle=True)\n",
    "# for e in range(50):\n",
    "#     model.fit([X[:,0,:], X[:,1,:]], y, epochs=1, batch_size=512, shuffle=True)\n",
    "#     history = model.fit([train_images, train_images], train_labels, epochs=1, batch_size=512, shuffle=True,\n",
    "#          validation_data=([test_images, test_images], test_labels))\n",
    "#     histories.append(history)"
   ]
  },
  {
   "cell_type": "code",
   "execution_count": 32,
   "id": "polish-surgeon",
   "metadata": {
    "scrolled": true
   },
   "outputs": [
    {
     "name": "stdout",
     "output_type": "stream",
     "text": [
      "Epoch 1/20\n",
      "98/98 [==============================] - 14s 128ms/step - loss: 0.3409 - accuracy: 0.8955 - val_loss: 1.2794 - val_accuracy: 0.7100\n",
      "Epoch 2/20\n",
      "98/98 [==============================] - 11s 117ms/step - loss: 0.1642 - accuracy: 0.9423 - val_loss: 1.3510 - val_accuracy: 0.7213\n",
      "Epoch 3/20\n",
      "98/98 [==============================] - 12s 119ms/step - loss: 0.1140 - accuracy: 0.9591 - val_loss: 1.4030 - val_accuracy: 0.7201\n",
      "Epoch 4/20\n",
      "98/98 [==============================] - 12s 122ms/step - loss: 0.0764 - accuracy: 0.9732 - val_loss: 1.4615 - val_accuracy: 0.7271\n",
      "Epoch 5/20\n",
      "98/98 [==============================] - 12s 119ms/step - loss: 0.0583 - accuracy: 0.9796 - val_loss: 1.6304 - val_accuracy: 0.7207\n",
      "Epoch 6/20\n",
      "98/98 [==============================] - 11s 115ms/step - loss: 0.0518 - accuracy: 0.9820 - val_loss: 1.5806 - val_accuracy: 0.7261\n",
      "Epoch 7/20\n",
      "98/98 [==============================] - 11s 115ms/step - loss: 0.0413 - accuracy: 0.9861 - val_loss: 1.6398 - val_accuracy: 0.7241\n",
      "Epoch 8/20\n",
      "98/98 [==============================] - 11s 115ms/step - loss: 0.0323 - accuracy: 0.9892 - val_loss: 1.6966 - val_accuracy: 0.7258\n",
      "Epoch 9/20\n",
      "98/98 [==============================] - 11s 115ms/step - loss: 0.0316 - accuracy: 0.9894 - val_loss: 1.7264 - val_accuracy: 0.7260\n",
      "Epoch 10/20\n",
      "98/98 [==============================] - 11s 115ms/step - loss: 0.0254 - accuracy: 0.9918 - val_loss: 1.8407 - val_accuracy: 0.7259\n",
      "Epoch 11/20\n",
      "98/98 [==============================] - 11s 115ms/step - loss: 0.0220 - accuracy: 0.9930 - val_loss: 1.8357 - val_accuracy: 0.7241\n",
      "Epoch 12/20\n",
      "98/98 [==============================] - 11s 115ms/step - loss: 0.0208 - accuracy: 0.9934 - val_loss: 1.8318 - val_accuracy: 0.7271\n",
      "Epoch 13/20\n",
      "98/98 [==============================] - 11s 115ms/step - loss: 0.0193 - accuracy: 0.9942 - val_loss: 1.8878 - val_accuracy: 0.7245\n",
      "Epoch 14/20\n",
      "98/98 [==============================] - 12s 118ms/step - loss: 0.0199 - accuracy: 0.9939 - val_loss: 1.9233 - val_accuracy: 0.7222\n",
      "Epoch 15/20\n",
      "98/98 [==============================] - 12s 119ms/step - loss: 0.0200 - accuracy: 0.9936 - val_loss: 1.9476 - val_accuracy: 0.7260\n",
      "Epoch 16/20\n",
      "98/98 [==============================] - 12s 123ms/step - loss: 0.0223 - accuracy: 0.9924 - val_loss: 1.9460 - val_accuracy: 0.7242\n",
      "Epoch 17/20\n",
      "98/98 [==============================] - 11s 116ms/step - loss: 0.0190 - accuracy: 0.9936 - val_loss: 1.9225 - val_accuracy: 0.7237\n",
      "Epoch 18/20\n",
      "98/98 [==============================] - 11s 115ms/step - loss: 0.0172 - accuracy: 0.9943 - val_loss: 2.0475 - val_accuracy: 0.7209\n",
      "Epoch 19/20\n",
      "98/98 [==============================] - 11s 115ms/step - loss: 0.0182 - accuracy: 0.9940 - val_loss: 2.0059 - val_accuracy: 0.7273\n",
      "Epoch 20/20\n",
      "98/98 [==============================] - 11s 115ms/step - loss: 0.0180 - accuracy: 0.9940 - val_loss: 2.0532 - val_accuracy: 0.7241\n",
      "Epoch 1/10\n",
      "98/98 [==============================] - 12s 118ms/step - loss: 0.5167 - accuracy: 0.8340 - val_loss: 0.9718 - val_accuracy: 0.7128\n",
      "Epoch 2/10\n",
      "98/98 [==============================] - 12s 126ms/step - loss: 0.3250 - accuracy: 0.8856 - val_loss: 1.0221 - val_accuracy: 0.7237\n",
      "Epoch 3/10\n",
      "98/98 [==============================] - 12s 124ms/step - loss: 0.2418 - accuracy: 0.9150 - val_loss: 1.0567 - val_accuracy: 0.7268\n",
      "Epoch 4/10\n",
      "98/98 [==============================] - 11s 116ms/step - loss: 0.1925 - accuracy: 0.9318 - val_loss: 1.0843 - val_accuracy: 0.7348\n",
      "Epoch 5/10\n",
      "98/98 [==============================] - 12s 124ms/step - loss: 0.1555 - accuracy: 0.9460 - val_loss: 1.1085 - val_accuracy: 0.7297\n",
      "Epoch 6/10\n",
      "98/98 [==============================] - 12s 123ms/step - loss: 0.1293 - accuracy: 0.9549 - val_loss: 1.1559 - val_accuracy: 0.7367\n",
      "Epoch 7/10\n",
      "98/98 [==============================] - 12s 125ms/step - loss: 0.1142 - accuracy: 0.9609 - val_loss: 1.2012 - val_accuracy: 0.7352\n",
      "Epoch 8/10\n",
      "98/98 [==============================] - 12s 125ms/step - loss: 0.0964 - accuracy: 0.9672 - val_loss: 1.2203 - val_accuracy: 0.7361\n",
      "Epoch 9/10\n",
      "98/98 [==============================] - 12s 120ms/step - loss: 0.0894 - accuracy: 0.9696 - val_loss: 1.2715 - val_accuracy: 0.7323\n",
      "Epoch 10/10\n",
      "98/98 [==============================] - 12s 118ms/step - loss: 0.0814 - accuracy: 0.9731 - val_loss: 1.3073 - val_accuracy: 0.7291\n",
      "Epoch 1/10\n",
      "98/98 [==============================] - 12s 121ms/step - loss: 0.0271 - accuracy: 0.9909 - val_loss: 1.5285 - val_accuracy: 0.7384\n",
      "Epoch 2/10\n",
      "98/98 [==============================] - 11s 117ms/step - loss: 0.0148 - accuracy: 0.9953 - val_loss: 1.5762 - val_accuracy: 0.7444\n",
      "Epoch 3/10\n",
      "98/98 [==============================] - 11s 117ms/step - loss: 0.0104 - accuracy: 0.9967 - val_loss: 1.6299 - val_accuracy: 0.7430\n",
      "Epoch 4/10\n",
      "98/98 [==============================] - 12s 118ms/step - loss: 0.0101 - accuracy: 0.9970 - val_loss: 1.6805 - val_accuracy: 0.7396\n",
      "Epoch 5/10\n",
      "98/98 [==============================] - 12s 118ms/step - loss: 0.0082 - accuracy: 0.9976 - val_loss: 1.6736 - val_accuracy: 0.7409\n",
      "Epoch 6/10\n",
      "98/98 [==============================] - 12s 118ms/step - loss: 0.0080 - accuracy: 0.9974 - val_loss: 1.7825 - val_accuracy: 0.7403\n",
      "Epoch 7/10\n",
      "98/98 [==============================] - 12s 118ms/step - loss: 0.0071 - accuracy: 0.9980 - val_loss: 1.7829 - val_accuracy: 0.7390\n",
      "Epoch 8/10\n",
      "98/98 [==============================] - 12s 118ms/step - loss: 0.0067 - accuracy: 0.9979 - val_loss: 1.7178 - val_accuracy: 0.7411\n",
      "Epoch 9/10\n",
      "98/98 [==============================] - 12s 118ms/step - loss: 0.0064 - accuracy: 0.9983 - val_loss: 1.7989 - val_accuracy: 0.7437\n",
      "Epoch 10/10\n",
      "98/98 [==============================] - 12s 117ms/step - loss: 0.0056 - accuracy: 0.9986 - val_loss: 1.8034 - val_accuracy: 0.7382\n"
     ]
    }
   ],
   "source": [
    "# history1 = model.fit([X[:,0,:], X[:,1,:]], y, epochs=30, batch_size=512, shuffle=True,\n",
    "#          validation_data=([test_images, test_images], test_labels))\n",
    "# history2 = model.fit([train_images, train_images], train_labels, epochs=20, batch_size=512, shuffle=True,\n",
    "#          validation_data=([test_images, test_images], test_labels))\n",
    "history3 = model.fit([X[:,0,:], X[:,1,:]], y, epochs=20, batch_size=512, shuffle=True,\n",
    "         validation_data=([test_images, test_images], test_labels))\n",
    "history4 = model.fit([train_images, train_images], train_labels, epochs=10, batch_size=512, shuffle=True,\n",
    "         validation_data=([test_images, test_images], test_labels))\n",
    "history5 = model.fit([X[:,0,:], X[:,1,:]], y, epochs=10, batch_size=512, shuffle=True,\n",
    "         validation_data=([test_images, test_images], test_labels))\n"
   ]
  },
  {
   "cell_type": "code",
   "execution_count": null,
   "id": "white-butler",
   "metadata": {},
   "outputs": [],
   "source": [
    "# print_history_chart(history)"
   ]
  },
  {
   "cell_type": "code",
   "execution_count": 43,
   "id": "quantitative-denver",
   "metadata": {},
   "outputs": [],
   "source": [
    "# model.save('siamese_vanilla_cifar10.h5')"
   ]
  },
  {
   "cell_type": "code",
   "execution_count": 48,
   "id": "spatial-headline",
   "metadata": {},
   "outputs": [],
   "source": [
    "model = tf.keras.models.load_model(\"siamese_vanilla_cifar10.h5\")\n"
   ]
  },
  {
   "cell_type": "code",
   "execution_count": 49,
   "id": "passing-melissa",
   "metadata": {},
   "outputs": [
    {
     "name": "stdout",
     "output_type": "stream",
     "text": [
      "Model: \"model_1\"\n",
      "__________________________________________________________________________________________________\n",
      "Layer (type)                    Output Shape         Param #     Connected to                     \n",
      "==================================================================================================\n",
      "input_3 (InputLayer)            [(None, 32, 32, 3)]  0                                            \n",
      "__________________________________________________________________________________________________\n",
      "input_4 (InputLayer)            [(None, 32, 32, 3)]  0                                            \n",
      "__________________________________________________________________________________________________\n",
      "conv2d_4 (Conv2D)               (None, 30, 30, 128)  3584        input_3[0][0]                    \n",
      "__________________________________________________________________________________________________\n",
      "conv2d_6 (Conv2D)               (None, 30, 30, 128)  3584        input_4[0][0]                    \n",
      "__________________________________________________________________________________________________\n",
      "max_pooling2d_4 (MaxPooling2D)  (None, 15, 15, 128)  0           conv2d_4[0][0]                   \n",
      "__________________________________________________________________________________________________\n",
      "max_pooling2d_6 (MaxPooling2D)  (None, 15, 15, 128)  0           conv2d_6[0][0]                   \n",
      "__________________________________________________________________________________________________\n",
      "conv2d_5 (Conv2D)               (None, 14, 14, 64)   32832       max_pooling2d_4[0][0]            \n",
      "__________________________________________________________________________________________________\n",
      "conv2d_7 (Conv2D)               (None, 14, 14, 64)   32832       max_pooling2d_6[0][0]            \n",
      "__________________________________________________________________________________________________\n",
      "max_pooling2d_5 (MaxPooling2D)  (None, 7, 7, 64)     0           conv2d_5[0][0]                   \n",
      "__________________________________________________________________________________________________\n",
      "max_pooling2d_7 (MaxPooling2D)  (None, 7, 7, 64)     0           conv2d_7[0][0]                   \n",
      "__________________________________________________________________________________________________\n",
      "dropout_2 (Dropout)             (None, 7, 7, 64)     0           max_pooling2d_5[0][0]            \n",
      "__________________________________________________________________________________________________\n",
      "dropout_3 (Dropout)             (None, 7, 7, 64)     0           max_pooling2d_7[0][0]            \n",
      "__________________________________________________________________________________________________\n",
      "flatten_2 (Flatten)             (None, 3136)         0           dropout_2[0][0]                  \n",
      "__________________________________________________________________________________________________\n",
      "flatten_3 (Flatten)             (None, 3136)         0           dropout_3[0][0]                  \n",
      "__________________________________________________________________________________________________\n",
      "dense_3 (Dense)                 (None, 128)          401536      flatten_2[0][0]                  \n",
      "__________________________________________________________________________________________________\n",
      "dense_4 (Dense)                 (None, 128)          401536      flatten_3[0][0]                  \n",
      "__________________________________________________________________________________________________\n",
      "concatenate_1 (Concatenate)     (None, 256)          0           dense_3[0][0]                    \n",
      "                                                                 dense_4[0][0]                    \n",
      "__________________________________________________________________________________________________\n",
      "dense_5 (Dense)                 (None, 10)           2570        concatenate_1[0][0]              \n",
      "==================================================================================================\n",
      "Total params: 878,474\n",
      "Trainable params: 878,474\n",
      "Non-trainable params: 0\n",
      "__________________________________________________________________________________________________\n"
     ]
    }
   ],
   "source": [
    "model.summary()"
   ]
  },
  {
   "cell_type": "code",
   "execution_count": 45,
   "id": "peripheral-biotechnology",
   "metadata": {},
   "outputs": [
    {
     "name": "stdout",
     "output_type": "stream",
     "text": [
      "313/313 [==============================] - 1s 3ms/step - loss: 1.8427 - accuracy: 0.7427\n"
     ]
    },
    {
     "data": {
      "text/plain": [
       "0.7426999807357788"
      ]
     },
     "execution_count": 45,
     "metadata": {},
     "output_type": "execute_result"
    }
   ],
   "source": [
    "model.evaluate([test_images, test_images], test_labels)[1]"
   ]
  },
  {
   "cell_type": "code",
   "execution_count": null,
   "id": "ideal-charger",
   "metadata": {},
   "outputs": [],
   "source": []
  }
 ],
 "metadata": {
  "kernelspec": {
   "display_name": "gpu_env",
   "language": "python",
   "name": "gpu_env"
  },
  "language_info": {
   "codemirror_mode": {
    "name": "ipython",
    "version": 3
   },
   "file_extension": ".py",
   "mimetype": "text/x-python",
   "name": "python",
   "nbconvert_exporter": "python",
   "pygments_lexer": "ipython3",
   "version": "3.8.5"
  }
 },
 "nbformat": 4,
 "nbformat_minor": 5
}
