{
 "cells": [
  {
   "cell_type": "code",
   "execution_count": 1,
   "id": "desirable-phone",
   "metadata": {},
   "outputs": [],
   "source": [
    "%config Completer.use_jedi = False"
   ]
  },
  {
   "cell_type": "code",
   "execution_count": 2,
   "id": "broken-corner",
   "metadata": {},
   "outputs": [],
   "source": [
    "import tensorflow as tf\n",
    "import matplotlib.pyplot as plt\n",
    "import numpy as np\n",
    "import random\n",
    "from utils import *"
   ]
  },
  {
   "cell_type": "code",
   "execution_count": 3,
   "id": "based-brazilian",
   "metadata": {},
   "outputs": [],
   "source": [
    "# import the necessary packages\n",
    "from tensorflow.keras.models import Model\n",
    "from tensorflow.keras.layers import *\n",
    "from tensorflow.keras import datasets\n",
    "from tensorflow.keras.utils import to_categorical"
   ]
  },
  {
   "cell_type": "code",
   "execution_count": 4,
   "id": "turkish-circus",
   "metadata": {},
   "outputs": [
    {
     "data": {
      "text/plain": [
       "[PhysicalDevice(name='/physical_device:GPU:0', device_type='GPU')]"
      ]
     },
     "execution_count": 4,
     "metadata": {},
     "output_type": "execute_result"
    }
   ],
   "source": [
    "tf.config.list_physical_devices('GPU')"
   ]
  },
  {
   "cell_type": "markdown",
   "id": "2e2b9e4c",
   "metadata": {},
   "source": [
    "# Data preparation"
   ]
  },
  {
   "cell_type": "code",
   "execution_count": 5,
   "id": "civil-blogger",
   "metadata": {},
   "outputs": [],
   "source": [
    "(train_images, train_labels), (test_images, test_labels) = datasets.cifar10.load_data()"
   ]
  },
  {
   "cell_type": "code",
   "execution_count": 6,
   "id": "valid-candy",
   "metadata": {},
   "outputs": [
    {
     "data": {
      "text/plain": [
       "(50000, 32, 32, 3)"
      ]
     },
     "execution_count": 6,
     "metadata": {},
     "output_type": "execute_result"
    }
   ],
   "source": [
    "train_images.shape"
   ]
  },
  {
   "cell_type": "code",
   "execution_count": 7,
   "id": "healthy-punishment",
   "metadata": {},
   "outputs": [
    {
     "data": {
      "text/plain": [
       "(10000, 32, 32, 3)"
      ]
     },
     "execution_count": 7,
     "metadata": {},
     "output_type": "execute_result"
    }
   ],
   "source": [
    "test_images.shape"
   ]
  },
  {
   "cell_type": "code",
   "execution_count": 8,
   "id": "studied-cleaners",
   "metadata": {},
   "outputs": [],
   "source": [
    "train_images.astype('float32') \n",
    "test_images.astype('float32') \n",
    "\n",
    "train_images = train_images/255.\n",
    "test_images = test_images/255."
   ]
  },
  {
   "cell_type": "code",
   "execution_count": 9,
   "id": "earned-discount",
   "metadata": {},
   "outputs": [],
   "source": [
    "train_labels_cat = to_categorical(train_labels)\n",
    "test_labels_cat = to_categorical(test_labels)"
   ]
  },
  {
   "cell_type": "code",
   "execution_count": null,
   "id": "after-minutes",
   "metadata": {},
   "outputs": [],
   "source": []
  },
  {
   "cell_type": "markdown",
   "id": "inclusive-intervention",
   "metadata": {},
   "source": [
    "# Vanilla network"
   ]
  },
  {
   "cell_type": "code",
   "execution_count": 10,
   "id": "mental-prayer",
   "metadata": {},
   "outputs": [],
   "source": [
    "def build_vanilla_model(shape, class_num):\n",
    "    # specify the inputs for the feature extractor network\n",
    "    inputs = Input(shape)\n",
    "\n",
    "    x = Conv2D(32, (3, 3), activation=\"relu\")(inputs)\n",
    "    x = MaxPooling2D(pool_size=(2, 2))(x)\n",
    "\n",
    "    x = Conv2D(64, (2, 2), activation=\"relu\")(x)\n",
    "    x = MaxPooling2D(pool_size=(2,2))(x)\n",
    "    x = Dropout(0.2)(x)\n",
    "    \n",
    "    x = Conv2D(128, (2, 2), activation=\"relu\")(x)\n",
    "    x = MaxPooling2D(pool_size=(2,2))(x)\n",
    "    x = Dropout(0.2)(x)\n",
    "    \n",
    "    x = Flatten()(x)\n",
    "\n",
    "    x = Dense(32, activation='relu')(x)\n",
    "    x = Dropout(0.2)(x)\n",
    "    \n",
    "    outputs = Dense(class_num, activation='softmax')(x)\n",
    "\n",
    "    # build the model\n",
    "    model = Model(inputs, outputs)\n",
    "    \n",
    "    model.compile(optimizer='adam',\n",
    "              loss='categorical_crossentropy',\n",
    "              metrics=['accuracy'])\n",
    "\n",
    "    return model"
   ]
  },
  {
   "cell_type": "markdown",
   "id": "4e20eb50",
   "metadata": {},
   "source": [
    "### model on the whole dataset"
   ]
  },
  {
   "cell_type": "markdown",
   "id": "36307bc4",
   "metadata": {},
   "source": [
    "learning"
   ]
  },
  {
   "cell_type": "code",
   "execution_count": 11,
   "id": "junior-george",
   "metadata": {},
   "outputs": [],
   "source": [
    "# model = build_vanilla_model(train_images[0].shape, 10)"
   ]
  },
  {
   "cell_type": "code",
   "execution_count": 12,
   "id": "together-magazine",
   "metadata": {
    "scrolled": true
   },
   "outputs": [],
   "source": [
    "# history = model.fit(train_images, train_labels_cat, epochs=200, batch_size=512, \n",
    "#                     validation_data=(test_images, test_labels_cat))"
   ]
  },
  {
   "cell_type": "code",
   "execution_count": 13,
   "id": "suspended-theater",
   "metadata": {},
   "outputs": [],
   "source": [
    "# print_history_chart(history)"
   ]
  },
  {
   "cell_type": "code",
   "execution_count": 14,
   "id": "informational-sword",
   "metadata": {},
   "outputs": [],
   "source": [
    "# model.save('vanilla_cifar10.h5')"
   ]
  },
  {
   "cell_type": "markdown",
   "id": "b6e7a6e5",
   "metadata": {},
   "source": [
    "evaluation"
   ]
  },
  {
   "cell_type": "code",
   "execution_count": 15,
   "id": "configured-shield",
   "metadata": {},
   "outputs": [],
   "source": [
    "model = tf.keras.models.load_model(\"vanilla_cifar10.h5\")"
   ]
  },
  {
   "cell_type": "code",
   "execution_count": 16,
   "id": "44d250e8",
   "metadata": {},
   "outputs": [
    {
     "name": "stdout",
     "output_type": "stream",
     "text": [
      "accuracy_score: 0.789\n",
      "f1_score_macro: 0.7843261383766078\n",
      "f1_score_weighted: 0.7936738616233923\n"
     ]
    }
   ],
   "source": [
    "results_vanilla_full = full_evaluate(model, test_images, test_labels)"
   ]
  },
  {
   "cell_type": "code",
   "execution_count": null,
   "id": "a914c9e1",
   "metadata": {},
   "outputs": [],
   "source": []
  },
  {
   "cell_type": "code",
   "execution_count": null,
   "id": "8cac896d",
   "metadata": {},
   "outputs": [],
   "source": []
  },
  {
   "cell_type": "markdown",
   "id": "4e3fdc31",
   "metadata": {},
   "source": [
    "### models on the smaller datasets"
   ]
  },
  {
   "cell_type": "markdown",
   "id": "002fea5f",
   "metadata": {},
   "source": [
    "#### 50% of the training data"
   ]
  },
  {
   "cell_type": "markdown",
   "id": "4135d8c7",
   "metadata": {},
   "source": [
    "learning"
   ]
  },
  {
   "cell_type": "code",
   "execution_count": 46,
   "id": "df0170ae",
   "metadata": {},
   "outputs": [],
   "source": [
    "# model = build_vanilla_model(train_images[0].shape, 10)"
   ]
  },
  {
   "cell_type": "code",
   "execution_count": 47,
   "id": "b527f888",
   "metadata": {},
   "outputs": [],
   "source": [
    "# train_images_50p = train_images[:len(train_images)//2]\n",
    "# train_labels_cat_50p = train_labels_cat[:len(train_labels_cat)//2]"
   ]
  },
  {
   "cell_type": "code",
   "execution_count": 42,
   "id": "c850d4d9",
   "metadata": {},
   "outputs": [],
   "source": [
    "# history = model.fit(train_images_50p, train_labels_cat_50p, epochs=300, batch_size=512, \n",
    "#                     validation_data=(test_images, test_labels_cat))"
   ]
  },
  {
   "cell_type": "code",
   "execution_count": 39,
   "id": "75617222",
   "metadata": {},
   "outputs": [],
   "source": [
    "# print_history_chart(history)"
   ]
  },
  {
   "cell_type": "code",
   "execution_count": 41,
   "id": "2af5cbbb",
   "metadata": {},
   "outputs": [],
   "source": [
    "# model.save('vanilla_50p_cifar10.h5')"
   ]
  },
  {
   "cell_type": "code",
   "execution_count": null,
   "id": "8e719098",
   "metadata": {},
   "outputs": [],
   "source": []
  },
  {
   "cell_type": "markdown",
   "id": "6e5a3559",
   "metadata": {},
   "source": [
    "evaluation"
   ]
  },
  {
   "cell_type": "code",
   "execution_count": 43,
   "id": "245400d7",
   "metadata": {},
   "outputs": [],
   "source": [
    "model = tf.keras.models.load_model(\"vanilla_50p_cifar10.h5\")"
   ]
  },
  {
   "cell_type": "code",
   "execution_count": 44,
   "id": "243d4f29",
   "metadata": {},
   "outputs": [
    {
     "name": "stdout",
     "output_type": "stream",
     "text": [
      "accuracy_score: 0.7546\n",
      "f1_score_macro: 0.7541098874413018\n",
      "f1_score_weighted: 0.7550901125586983\n"
     ]
    }
   ],
   "source": [
    "results_vanilla_50p = full_evaluate(model, test_images, test_labels)"
   ]
  },
  {
   "cell_type": "code",
   "execution_count": null,
   "id": "3b3b3620",
   "metadata": {},
   "outputs": [],
   "source": []
  },
  {
   "cell_type": "code",
   "execution_count": null,
   "id": "15b7aa1e",
   "metadata": {},
   "outputs": [],
   "source": []
  },
  {
   "cell_type": "markdown",
   "id": "7e1f701d",
   "metadata": {},
   "source": [
    "#### 10% of the training data"
   ]
  },
  {
   "cell_type": "markdown",
   "id": "54d2b306",
   "metadata": {},
   "source": [
    "learning"
   ]
  },
  {
   "cell_type": "code",
   "execution_count": 48,
   "id": "60621c2d",
   "metadata": {},
   "outputs": [],
   "source": [
    "model = build_vanilla_model(train_images[0].shape, 10)"
   ]
  },
  {
   "cell_type": "code",
   "execution_count": 49,
   "id": "2896322a",
   "metadata": {},
   "outputs": [],
   "source": [
    "train_images_10p = train_images[:len(train_images)//10]\n",
    "train_labels_cat_10p = train_labels_cat[:len(train_labels_cat)//10]"
   ]
  },
  {
   "cell_type": "code",
   "execution_count": 50,
   "id": "56d02b1a",
   "metadata": {},
   "outputs": [
    {
     "name": "stdout",
     "output_type": "stream",
     "text": [
      "Epoch 1/400\n",
      "10/10 [==============================] - 1s 73ms/step - loss: 2.3036 - accuracy: 0.1082 - val_loss: 2.2894 - val_accuracy: 0.1647\n",
      "Epoch 2/400\n",
      "10/10 [==============================] - 0s 24ms/step - loss: 2.2592 - accuracy: 0.1598 - val_loss: 2.2174 - val_accuracy: 0.1586\n",
      "Epoch 3/400\n",
      "10/10 [==============================] - 0s 22ms/step - loss: 2.1605 - accuracy: 0.1934 - val_loss: 2.0956 - val_accuracy: 0.2221\n",
      "Epoch 4/400\n",
      "10/10 [==============================] - 0s 23ms/step - loss: 2.0806 - accuracy: 0.2252 - val_loss: 2.0166 - val_accuracy: 0.2583\n",
      "Epoch 5/400\n",
      "10/10 [==============================] - 0s 22ms/step - loss: 2.0031 - accuracy: 0.2602 - val_loss: 1.9338 - val_accuracy: 0.2995\n",
      "Epoch 6/400\n",
      "10/10 [==============================] - 0s 23ms/step - loss: 1.9330 - accuracy: 0.2826 - val_loss: 1.8629 - val_accuracy: 0.3298\n",
      "Epoch 7/400\n",
      "10/10 [==============================] - 0s 22ms/step - loss: 1.8769 - accuracy: 0.3026 - val_loss: 1.8035 - val_accuracy: 0.3408\n",
      "Epoch 8/400\n",
      "10/10 [==============================] - 0s 24ms/step - loss: 1.8306 - accuracy: 0.3240 - val_loss: 1.7517 - val_accuracy: 0.3667\n",
      "Epoch 9/400\n",
      "10/10 [==============================] - 0s 22ms/step - loss: 1.7889 - accuracy: 0.3366 - val_loss: 1.7242 - val_accuracy: 0.3754\n",
      "Epoch 10/400\n",
      "10/10 [==============================] - 0s 22ms/step - loss: 1.7610 - accuracy: 0.3564 - val_loss: 1.7003 - val_accuracy: 0.3817\n",
      "Epoch 11/400\n",
      "10/10 [==============================] - 0s 22ms/step - loss: 1.7460 - accuracy: 0.3542 - val_loss: 1.7093 - val_accuracy: 0.3779\n",
      "Epoch 12/400\n",
      "10/10 [==============================] - 0s 24ms/step - loss: 1.7142 - accuracy: 0.3718 - val_loss: 1.6445 - val_accuracy: 0.4045\n",
      "Epoch 13/400\n",
      "10/10 [==============================] - 0s 25ms/step - loss: 1.6830 - accuracy: 0.3914 - val_loss: 1.6240 - val_accuracy: 0.4095\n",
      "Epoch 14/400\n",
      "10/10 [==============================] - 0s 24ms/step - loss: 1.6683 - accuracy: 0.3924 - val_loss: 1.6286 - val_accuracy: 0.4151\n",
      "Epoch 15/400\n",
      "10/10 [==============================] - 0s 22ms/step - loss: 1.6397 - accuracy: 0.3996 - val_loss: 1.5649 - val_accuracy: 0.4380\n",
      "Epoch 16/400\n",
      "10/10 [==============================] - 0s 25ms/step - loss: 1.5994 - accuracy: 0.4206 - val_loss: 1.5456 - val_accuracy: 0.4482\n",
      "Epoch 17/400\n",
      "10/10 [==============================] - 0s 24ms/step - loss: 1.5925 - accuracy: 0.4216 - val_loss: 1.5365 - val_accuracy: 0.4539\n",
      "Epoch 18/400\n",
      "10/10 [==============================] - 0s 22ms/step - loss: 1.5873 - accuracy: 0.4214 - val_loss: 1.5225 - val_accuracy: 0.4592\n",
      "Epoch 19/400\n",
      "10/10 [==============================] - 0s 24ms/step - loss: 1.5634 - accuracy: 0.4322 - val_loss: 1.5131 - val_accuracy: 0.4541\n",
      "Epoch 20/400\n",
      "10/10 [==============================] - 0s 24ms/step - loss: 1.5410 - accuracy: 0.4364 - val_loss: 1.4899 - val_accuracy: 0.4700\n",
      "Epoch 21/400\n",
      "10/10 [==============================] - 0s 21ms/step - loss: 1.5140 - accuracy: 0.4492 - val_loss: 1.4676 - val_accuracy: 0.4726\n",
      "Epoch 22/400\n",
      "10/10 [==============================] - 0s 25ms/step - loss: 1.5208 - accuracy: 0.4482 - val_loss: 1.5048 - val_accuracy: 0.4635\n",
      "Epoch 23/400\n",
      "10/10 [==============================] - 0s 21ms/step - loss: 1.5029 - accuracy: 0.4576 - val_loss: 1.4831 - val_accuracy: 0.4660\n",
      "Epoch 24/400\n",
      "10/10 [==============================] - 0s 24ms/step - loss: 1.4920 - accuracy: 0.4532 - val_loss: 1.4435 - val_accuracy: 0.4872\n",
      "Epoch 25/400\n",
      "10/10 [==============================] - 0s 25ms/step - loss: 1.4712 - accuracy: 0.4684 - val_loss: 1.4527 - val_accuracy: 0.4778\n",
      "Epoch 26/400\n",
      "10/10 [==============================] - 0s 23ms/step - loss: 1.4522 - accuracy: 0.4752 - val_loss: 1.4318 - val_accuracy: 0.4909\n",
      "Epoch 27/400\n",
      "10/10 [==============================] - 0s 24ms/step - loss: 1.4493 - accuracy: 0.4762 - val_loss: 1.4372 - val_accuracy: 0.4914\n",
      "Epoch 28/400\n",
      "10/10 [==============================] - 0s 24ms/step - loss: 1.4273 - accuracy: 0.4874 - val_loss: 1.4120 - val_accuracy: 0.4961\n",
      "Epoch 29/400\n",
      "10/10 [==============================] - 0s 22ms/step - loss: 1.4171 - accuracy: 0.4886 - val_loss: 1.3966 - val_accuracy: 0.4994\n",
      "Epoch 30/400\n",
      "10/10 [==============================] - 0s 24ms/step - loss: 1.4166 - accuracy: 0.4816 - val_loss: 1.3834 - val_accuracy: 0.5042\n",
      "Epoch 31/400\n",
      "10/10 [==============================] - 0s 24ms/step - loss: 1.3992 - accuracy: 0.4940 - val_loss: 1.3748 - val_accuracy: 0.5126\n",
      "Epoch 32/400\n",
      "10/10 [==============================] - 0s 24ms/step - loss: 1.3745 - accuracy: 0.5030 - val_loss: 1.3638 - val_accuracy: 0.5129\n",
      "Epoch 33/400\n",
      "10/10 [==============================] - 0s 25ms/step - loss: 1.3610 - accuracy: 0.5138 - val_loss: 1.3553 - val_accuracy: 0.5153\n",
      "Epoch 34/400\n",
      "10/10 [==============================] - 0s 24ms/step - loss: 1.3575 - accuracy: 0.5158 - val_loss: 1.3853 - val_accuracy: 0.5095\n",
      "Epoch 35/400\n",
      "10/10 [==============================] - 0s 24ms/step - loss: 1.3660 - accuracy: 0.5154 - val_loss: 1.3526 - val_accuracy: 0.5186\n",
      "Epoch 36/400\n",
      "10/10 [==============================] - 0s 22ms/step - loss: 1.3526 - accuracy: 0.5120 - val_loss: 1.3438 - val_accuracy: 0.5179\n",
      "Epoch 37/400\n",
      "10/10 [==============================] - 0s 24ms/step - loss: 1.3373 - accuracy: 0.5200 - val_loss: 1.3694 - val_accuracy: 0.5065\n",
      "Epoch 38/400\n",
      "10/10 [==============================] - 0s 24ms/step - loss: 1.3335 - accuracy: 0.5176 - val_loss: 1.3493 - val_accuracy: 0.5167\n",
      "Epoch 39/400\n",
      "10/10 [==============================] - 0s 22ms/step - loss: 1.3325 - accuracy: 0.5256 - val_loss: 1.3228 - val_accuracy: 0.5289\n",
      "Epoch 40/400\n",
      "10/10 [==============================] - 0s 24ms/step - loss: 1.3134 - accuracy: 0.5220 - val_loss: 1.3237 - val_accuracy: 0.5264\n",
      "Epoch 41/400\n",
      "10/10 [==============================] - 0s 25ms/step - loss: 1.3040 - accuracy: 0.5304 - val_loss: 1.3042 - val_accuracy: 0.5355\n",
      "Epoch 42/400\n",
      "10/10 [==============================] - 0s 22ms/step - loss: 1.2840 - accuracy: 0.5382 - val_loss: 1.2993 - val_accuracy: 0.5364\n",
      "Epoch 43/400\n",
      "10/10 [==============================] - 0s 21ms/step - loss: 1.2816 - accuracy: 0.5418 - val_loss: 1.3171 - val_accuracy: 0.5286\n",
      "Epoch 44/400\n",
      "10/10 [==============================] - 0s 24ms/step - loss: 1.2652 - accuracy: 0.5410 - val_loss: 1.2891 - val_accuracy: 0.5394\n",
      "Epoch 45/400\n",
      "10/10 [==============================] - 0s 22ms/step - loss: 1.2595 - accuracy: 0.5512 - val_loss: 1.2854 - val_accuracy: 0.5395\n",
      "Epoch 46/400\n",
      "10/10 [==============================] - 0s 21ms/step - loss: 1.2430 - accuracy: 0.5576 - val_loss: 1.2972 - val_accuracy: 0.5385\n",
      "Epoch 47/400\n",
      "10/10 [==============================] - 0s 24ms/step - loss: 1.2594 - accuracy: 0.5434 - val_loss: 1.2905 - val_accuracy: 0.5433\n",
      "Epoch 48/400\n",
      "10/10 [==============================] - 0s 24ms/step - loss: 1.2354 - accuracy: 0.5594 - val_loss: 1.2701 - val_accuracy: 0.5473\n",
      "Epoch 49/400\n",
      "10/10 [==============================] - 0s 25ms/step - loss: 1.2249 - accuracy: 0.5554 - val_loss: 1.2771 - val_accuracy: 0.5440\n",
      "Epoch 50/400\n",
      "10/10 [==============================] - 0s 24ms/step - loss: 1.2168 - accuracy: 0.5584 - val_loss: 1.2736 - val_accuracy: 0.5455\n",
      "Epoch 51/400\n",
      "10/10 [==============================] - 0s 25ms/step - loss: 1.2022 - accuracy: 0.5708 - val_loss: 1.2545 - val_accuracy: 0.5555\n",
      "Epoch 52/400\n",
      "10/10 [==============================] - 0s 22ms/step - loss: 1.2031 - accuracy: 0.5682 - val_loss: 1.2656 - val_accuracy: 0.5501\n",
      "Epoch 53/400\n",
      "10/10 [==============================] - 0s 22ms/step - loss: 1.2086 - accuracy: 0.5692 - val_loss: 1.2456 - val_accuracy: 0.5575\n",
      "Epoch 54/400\n",
      "10/10 [==============================] - 0s 24ms/step - loss: 1.1970 - accuracy: 0.5750 - val_loss: 1.2707 - val_accuracy: 0.5544\n",
      "Epoch 55/400\n",
      "10/10 [==============================] - 0s 22ms/step - loss: 1.1892 - accuracy: 0.5660 - val_loss: 1.2807 - val_accuracy: 0.5464\n",
      "Epoch 56/400\n",
      "10/10 [==============================] - 0s 22ms/step - loss: 1.1922 - accuracy: 0.5750 - val_loss: 1.2386 - val_accuracy: 0.5643\n",
      "Epoch 57/400\n",
      "10/10 [==============================] - 0s 22ms/step - loss: 1.1632 - accuracy: 0.5844 - val_loss: 1.2386 - val_accuracy: 0.5612\n",
      "Epoch 58/400\n"
     ]
    },
    {
     "name": "stdout",
     "output_type": "stream",
     "text": [
      "10/10 [==============================] - 0s 22ms/step - loss: 1.1526 - accuracy: 0.5856 - val_loss: 1.2305 - val_accuracy: 0.5649\n",
      "Epoch 59/400\n",
      "10/10 [==============================] - 0s 22ms/step - loss: 1.1540 - accuracy: 0.5898 - val_loss: 1.2397 - val_accuracy: 0.5623\n",
      "Epoch 60/400\n",
      "10/10 [==============================] - 0s 22ms/step - loss: 1.1405 - accuracy: 0.5888 - val_loss: 1.2227 - val_accuracy: 0.5664\n",
      "Epoch 61/400\n",
      "10/10 [==============================] - 0s 21ms/step - loss: 1.1391 - accuracy: 0.5860 - val_loss: 1.2287 - val_accuracy: 0.5631\n",
      "Epoch 62/400\n",
      "10/10 [==============================] - 0s 22ms/step - loss: 1.1137 - accuracy: 0.6036 - val_loss: 1.2223 - val_accuracy: 0.5654\n",
      "Epoch 63/400\n",
      "10/10 [==============================] - 0s 24ms/step - loss: 1.1045 - accuracy: 0.6054 - val_loss: 1.2120 - val_accuracy: 0.5704\n",
      "Epoch 64/400\n",
      "10/10 [==============================] - 0s 24ms/step - loss: 1.1091 - accuracy: 0.6098 - val_loss: 1.2100 - val_accuracy: 0.5758\n",
      "Epoch 65/400\n",
      "10/10 [==============================] - 0s 22ms/step - loss: 1.1118 - accuracy: 0.6012 - val_loss: 1.2065 - val_accuracy: 0.5768\n",
      "Epoch 66/400\n",
      "10/10 [==============================] - 0s 24ms/step - loss: 1.1016 - accuracy: 0.5980 - val_loss: 1.2089 - val_accuracy: 0.5734\n",
      "Epoch 67/400\n",
      "10/10 [==============================] - 0s 24ms/step - loss: 1.0917 - accuracy: 0.6182 - val_loss: 1.1915 - val_accuracy: 0.5817\n",
      "Epoch 68/400\n",
      "10/10 [==============================] - 0s 24ms/step - loss: 1.0648 - accuracy: 0.6162 - val_loss: 1.2010 - val_accuracy: 0.5774\n",
      "Epoch 69/400\n",
      "10/10 [==============================] - 0s 24ms/step - loss: 1.0667 - accuracy: 0.6136 - val_loss: 1.1910 - val_accuracy: 0.5821\n",
      "Epoch 70/400\n",
      "10/10 [==============================] - 0s 23ms/step - loss: 1.0663 - accuracy: 0.6168 - val_loss: 1.1963 - val_accuracy: 0.5796\n",
      "Epoch 71/400\n",
      "10/10 [==============================] - 0s 24ms/step - loss: 1.0969 - accuracy: 0.5992 - val_loss: 1.2152 - val_accuracy: 0.5763\n",
      "Epoch 72/400\n",
      "10/10 [==============================] - 0s 23ms/step - loss: 1.0592 - accuracy: 0.6276 - val_loss: 1.1840 - val_accuracy: 0.5823\n",
      "Epoch 73/400\n",
      "10/10 [==============================] - 0s 22ms/step - loss: 1.0764 - accuracy: 0.6138 - val_loss: 1.1967 - val_accuracy: 0.5766\n",
      "Epoch 74/400\n",
      "10/10 [==============================] - 0s 21ms/step - loss: 1.0521 - accuracy: 0.6334 - val_loss: 1.1835 - val_accuracy: 0.5865\n",
      "Epoch 75/400\n",
      "10/10 [==============================] - 0s 22ms/step - loss: 1.0433 - accuracy: 0.6218 - val_loss: 1.1810 - val_accuracy: 0.5840\n",
      "Epoch 76/400\n",
      "10/10 [==============================] - 0s 23ms/step - loss: 1.0358 - accuracy: 0.6318 - val_loss: 1.1729 - val_accuracy: 0.5833\n",
      "Epoch 77/400\n",
      "10/10 [==============================] - 0s 25ms/step - loss: 1.0260 - accuracy: 0.6370 - val_loss: 1.1698 - val_accuracy: 0.5864\n",
      "Epoch 78/400\n",
      "10/10 [==============================] - 0s 24ms/step - loss: 1.0077 - accuracy: 0.6428 - val_loss: 1.1787 - val_accuracy: 0.5835\n",
      "Epoch 79/400\n",
      "10/10 [==============================] - 0s 24ms/step - loss: 1.0190 - accuracy: 0.6270 - val_loss: 1.1831 - val_accuracy: 0.5839\n",
      "Epoch 80/400\n",
      "10/10 [==============================] - 0s 22ms/step - loss: 0.9916 - accuracy: 0.6432 - val_loss: 1.1697 - val_accuracy: 0.5888\n",
      "Epoch 81/400\n",
      "10/10 [==============================] - 0s 23ms/step - loss: 1.0141 - accuracy: 0.6294 - val_loss: 1.1656 - val_accuracy: 0.5861\n",
      "Epoch 82/400\n",
      "10/10 [==============================] - 0s 22ms/step - loss: 0.9876 - accuracy: 0.6464 - val_loss: 1.1645 - val_accuracy: 0.5886\n",
      "Epoch 83/400\n",
      "10/10 [==============================] - 0s 24ms/step - loss: 0.9860 - accuracy: 0.6490 - val_loss: 1.1639 - val_accuracy: 0.5906\n",
      "Epoch 84/400\n",
      "10/10 [==============================] - 0s 24ms/step - loss: 0.9740 - accuracy: 0.6566 - val_loss: 1.1623 - val_accuracy: 0.5894\n",
      "Epoch 85/400\n",
      "10/10 [==============================] - 0s 24ms/step - loss: 0.9829 - accuracy: 0.6516 - val_loss: 1.1625 - val_accuracy: 0.5916\n",
      "Epoch 86/400\n",
      "10/10 [==============================] - 0s 25ms/step - loss: 0.9779 - accuracy: 0.6452 - val_loss: 1.1595 - val_accuracy: 0.5928\n",
      "Epoch 87/400\n",
      "10/10 [==============================] - 0s 22ms/step - loss: 0.9709 - accuracy: 0.6516 - val_loss: 1.1862 - val_accuracy: 0.5807\n",
      "Epoch 88/400\n",
      "10/10 [==============================] - 0s 24ms/step - loss: 0.9520 - accuracy: 0.6518 - val_loss: 1.1703 - val_accuracy: 0.5901\n",
      "Epoch 89/400\n",
      "10/10 [==============================] - 0s 25ms/step - loss: 0.9455 - accuracy: 0.6596 - val_loss: 1.1555 - val_accuracy: 0.5953\n",
      "Epoch 90/400\n",
      "10/10 [==============================] - 0s 22ms/step - loss: 0.9297 - accuracy: 0.6674 - val_loss: 1.1445 - val_accuracy: 0.5947\n",
      "Epoch 91/400\n",
      "10/10 [==============================] - 0s 22ms/step - loss: 0.9369 - accuracy: 0.6640 - val_loss: 1.1411 - val_accuracy: 0.5999\n",
      "Epoch 92/400\n",
      "10/10 [==============================] - 0s 24ms/step - loss: 0.9264 - accuracy: 0.6648 - val_loss: 1.1510 - val_accuracy: 0.5947\n",
      "Epoch 93/400\n",
      "10/10 [==============================] - 0s 23ms/step - loss: 0.9319 - accuracy: 0.6624 - val_loss: 1.1531 - val_accuracy: 0.5951\n",
      "Epoch 94/400\n",
      "10/10 [==============================] - 0s 24ms/step - loss: 0.9294 - accuracy: 0.6620 - val_loss: 1.1581 - val_accuracy: 0.5930\n",
      "Epoch 95/400\n",
      "10/10 [==============================] - 0s 22ms/step - loss: 0.9153 - accuracy: 0.6736 - val_loss: 1.1659 - val_accuracy: 0.5911\n",
      "Epoch 96/400\n",
      "10/10 [==============================] - 0s 22ms/step - loss: 0.9038 - accuracy: 0.6840 - val_loss: 1.1587 - val_accuracy: 0.5937\n",
      "Epoch 97/400\n",
      "10/10 [==============================] - 0s 21ms/step - loss: 0.8938 - accuracy: 0.6784 - val_loss: 1.1382 - val_accuracy: 0.6001\n",
      "Epoch 98/400\n",
      "10/10 [==============================] - 0s 22ms/step - loss: 0.9051 - accuracy: 0.6730 - val_loss: 1.1360 - val_accuracy: 0.6005\n",
      "Epoch 99/400\n",
      "10/10 [==============================] - 0s 23ms/step - loss: 0.8885 - accuracy: 0.6858 - val_loss: 1.1492 - val_accuracy: 0.5963\n",
      "Epoch 100/400\n",
      "10/10 [==============================] - 0s 23ms/step - loss: 0.8820 - accuracy: 0.6828 - val_loss: 1.1450 - val_accuracy: 0.6013\n",
      "Epoch 101/400\n",
      "10/10 [==============================] - 0s 23ms/step - loss: 0.8826 - accuracy: 0.6916 - val_loss: 1.1534 - val_accuracy: 0.5959\n",
      "Epoch 102/400\n",
      "10/10 [==============================] - 0s 24ms/step - loss: 0.8855 - accuracy: 0.6850 - val_loss: 1.1413 - val_accuracy: 0.5983\n",
      "Epoch 103/400\n",
      "10/10 [==============================] - 0s 22ms/step - loss: 0.8825 - accuracy: 0.6836 - val_loss: 1.1367 - val_accuracy: 0.6046\n",
      "Epoch 104/400\n",
      "10/10 [==============================] - 0s 22ms/step - loss: 0.8616 - accuracy: 0.6856 - val_loss: 1.1420 - val_accuracy: 0.5984\n",
      "Epoch 105/400\n",
      "10/10 [==============================] - 0s 24ms/step - loss: 0.8533 - accuracy: 0.6942 - val_loss: 1.1394 - val_accuracy: 0.5993\n",
      "Epoch 106/400\n",
      "10/10 [==============================] - 0s 22ms/step - loss: 0.8636 - accuracy: 0.6868 - val_loss: 1.1322 - val_accuracy: 0.6015\n",
      "Epoch 107/400\n",
      "10/10 [==============================] - 0s 22ms/step - loss: 0.8676 - accuracy: 0.6904 - val_loss: 1.1301 - val_accuracy: 0.6046\n",
      "Epoch 108/400\n",
      "10/10 [==============================] - 0s 24ms/step - loss: 0.8346 - accuracy: 0.7042 - val_loss: 1.1356 - val_accuracy: 0.6003\n",
      "Epoch 109/400\n",
      "10/10 [==============================] - 0s 24ms/step - loss: 0.8437 - accuracy: 0.6930 - val_loss: 1.1437 - val_accuracy: 0.6022\n",
      "Epoch 110/400\n",
      "10/10 [==============================] - 0s 21ms/step - loss: 0.8335 - accuracy: 0.6958 - val_loss: 1.1652 - val_accuracy: 0.5927\n",
      "Epoch 111/400\n",
      "10/10 [==============================] - 0s 24ms/step - loss: 0.8622 - accuracy: 0.6900 - val_loss: 1.1275 - val_accuracy: 0.6027\n",
      "Epoch 112/400\n",
      "10/10 [==============================] - 0s 23ms/step - loss: 0.8192 - accuracy: 0.7046 - val_loss: 1.1308 - val_accuracy: 0.6076\n",
      "Epoch 113/400\n",
      "10/10 [==============================] - 0s 24ms/step - loss: 0.8221 - accuracy: 0.7032 - val_loss: 1.1341 - val_accuracy: 0.6046\n",
      "Epoch 114/400\n",
      "10/10 [==============================] - 0s 23ms/step - loss: 0.8071 - accuracy: 0.7142 - val_loss: 1.1345 - val_accuracy: 0.6054\n",
      "Epoch 115/400\n"
     ]
    },
    {
     "name": "stdout",
     "output_type": "stream",
     "text": [
      "10/10 [==============================] - 0s 21ms/step - loss: 0.8093 - accuracy: 0.7124 - val_loss: 1.1408 - val_accuracy: 0.5996\n",
      "Epoch 116/400\n",
      "10/10 [==============================] - 0s 21ms/step - loss: 0.8095 - accuracy: 0.7072 - val_loss: 1.1404 - val_accuracy: 0.6041\n",
      "Epoch 117/400\n",
      "10/10 [==============================] - 0s 24ms/step - loss: 0.8011 - accuracy: 0.7162 - val_loss: 1.1288 - val_accuracy: 0.6043\n",
      "Epoch 118/400\n",
      "10/10 [==============================] - 0s 22ms/step - loss: 0.7796 - accuracy: 0.7170 - val_loss: 1.1261 - val_accuracy: 0.6103\n",
      "Epoch 119/400\n",
      "10/10 [==============================] - 0s 25ms/step - loss: 0.8040 - accuracy: 0.7018 - val_loss: 1.1524 - val_accuracy: 0.6047\n",
      "Epoch 120/400\n",
      "10/10 [==============================] - 0s 24ms/step - loss: 0.7924 - accuracy: 0.7156 - val_loss: 1.1350 - val_accuracy: 0.6036\n",
      "Epoch 121/400\n",
      "10/10 [==============================] - 0s 24ms/step - loss: 0.7852 - accuracy: 0.7228 - val_loss: 1.1303 - val_accuracy: 0.6061\n",
      "Epoch 122/400\n",
      "10/10 [==============================] - 0s 22ms/step - loss: 0.7690 - accuracy: 0.7228 - val_loss: 1.1249 - val_accuracy: 0.6088\n",
      "Epoch 123/400\n",
      "10/10 [==============================] - 0s 25ms/step - loss: 0.7638 - accuracy: 0.7236 - val_loss: 1.1257 - val_accuracy: 0.6080\n",
      "Epoch 124/400\n",
      "10/10 [==============================] - 0s 23ms/step - loss: 0.7642 - accuracy: 0.7190 - val_loss: 1.1439 - val_accuracy: 0.6052\n",
      "Epoch 125/400\n",
      "10/10 [==============================] - 0s 25ms/step - loss: 0.7815 - accuracy: 0.7136 - val_loss: 1.1334 - val_accuracy: 0.6013\n",
      "Epoch 126/400\n",
      "10/10 [==============================] - 0s 22ms/step - loss: 0.7503 - accuracy: 0.7302 - val_loss: 1.1417 - val_accuracy: 0.6059\n",
      "Epoch 127/400\n",
      "10/10 [==============================] - 0s 22ms/step - loss: 0.7397 - accuracy: 0.7326 - val_loss: 1.1246 - val_accuracy: 0.6116\n",
      "Epoch 128/400\n",
      "10/10 [==============================] - 0s 24ms/step - loss: 0.7454 - accuracy: 0.7276 - val_loss: 1.1307 - val_accuracy: 0.6086\n",
      "Epoch 129/400\n",
      "10/10 [==============================] - 0s 22ms/step - loss: 0.7542 - accuracy: 0.7234 - val_loss: 1.1313 - val_accuracy: 0.6095\n",
      "Epoch 130/400\n",
      "10/10 [==============================] - 0s 22ms/step - loss: 0.7451 - accuracy: 0.7266 - val_loss: 1.1252 - val_accuracy: 0.6125\n",
      "Epoch 131/400\n",
      "10/10 [==============================] - 0s 22ms/step - loss: 0.7164 - accuracy: 0.7434 - val_loss: 1.1430 - val_accuracy: 0.6083\n",
      "Epoch 132/400\n",
      "10/10 [==============================] - 0s 24ms/step - loss: 0.7460 - accuracy: 0.7294 - val_loss: 1.1297 - val_accuracy: 0.6119\n",
      "Epoch 133/400\n",
      "10/10 [==============================] - 0s 22ms/step - loss: 0.7329 - accuracy: 0.7396 - val_loss: 1.1457 - val_accuracy: 0.6100\n",
      "Epoch 134/400\n",
      "10/10 [==============================] - 0s 25ms/step - loss: 0.7275 - accuracy: 0.7304 - val_loss: 1.1392 - val_accuracy: 0.6111\n",
      "Epoch 135/400\n",
      "10/10 [==============================] - 0s 24ms/step - loss: 0.7136 - accuracy: 0.7452 - val_loss: 1.1343 - val_accuracy: 0.6112\n",
      "Epoch 136/400\n",
      "10/10 [==============================] - 0s 24ms/step - loss: 0.7341 - accuracy: 0.7390 - val_loss: 1.1340 - val_accuracy: 0.6072\n",
      "Epoch 137/400\n",
      "10/10 [==============================] - 0s 24ms/step - loss: 0.7103 - accuracy: 0.7454 - val_loss: 1.1667 - val_accuracy: 0.6028\n",
      "Epoch 138/400\n",
      "10/10 [==============================] - 0s 24ms/step - loss: 0.7061 - accuracy: 0.7432 - val_loss: 1.1738 - val_accuracy: 0.6029\n",
      "Epoch 139/400\n",
      "10/10 [==============================] - 0s 24ms/step - loss: 0.7303 - accuracy: 0.7368 - val_loss: 1.1524 - val_accuracy: 0.6046\n",
      "Epoch 140/400\n",
      "10/10 [==============================] - 0s 25ms/step - loss: 0.7002 - accuracy: 0.7466 - val_loss: 1.1283 - val_accuracy: 0.6139\n",
      "Epoch 141/400\n",
      "10/10 [==============================] - 0s 24ms/step - loss: 0.6826 - accuracy: 0.7502 - val_loss: 1.1371 - val_accuracy: 0.6146\n",
      "Epoch 142/400\n",
      "10/10 [==============================] - 0s 24ms/step - loss: 0.6793 - accuracy: 0.7560 - val_loss: 1.1367 - val_accuracy: 0.6140\n",
      "Epoch 143/400\n",
      "10/10 [==============================] - 0s 25ms/step - loss: 0.6974 - accuracy: 0.7420 - val_loss: 1.1464 - val_accuracy: 0.6071\n",
      "Epoch 144/400\n",
      "10/10 [==============================] - 0s 22ms/step - loss: 0.6827 - accuracy: 0.7500 - val_loss: 1.1366 - val_accuracy: 0.6144\n",
      "Epoch 145/400\n",
      "10/10 [==============================] - 0s 24ms/step - loss: 0.7009 - accuracy: 0.7482 - val_loss: 1.1385 - val_accuracy: 0.6155\n",
      "Epoch 146/400\n",
      "10/10 [==============================] - 0s 22ms/step - loss: 0.6648 - accuracy: 0.7628 - val_loss: 1.1512 - val_accuracy: 0.6138\n",
      "Epoch 147/400\n",
      "10/10 [==============================] - 0s 22ms/step - loss: 0.6686 - accuracy: 0.7620 - val_loss: 1.1468 - val_accuracy: 0.6102\n",
      "Epoch 148/400\n",
      "10/10 [==============================] - 0s 22ms/step - loss: 0.6658 - accuracy: 0.7606 - val_loss: 1.1379 - val_accuracy: 0.6132\n",
      "Epoch 149/400\n",
      "10/10 [==============================] - 0s 25ms/step - loss: 0.6584 - accuracy: 0.7630 - val_loss: 1.1478 - val_accuracy: 0.6165\n",
      "Epoch 150/400\n",
      "10/10 [==============================] - 0s 24ms/step - loss: 0.6540 - accuracy: 0.7632 - val_loss: 1.1348 - val_accuracy: 0.6179\n",
      "Epoch 151/400\n",
      "10/10 [==============================] - 0s 23ms/step - loss: 0.6598 - accuracy: 0.7594 - val_loss: 1.1467 - val_accuracy: 0.6161\n",
      "Epoch 152/400\n",
      "10/10 [==============================] - 0s 24ms/step - loss: 0.6463 - accuracy: 0.7668 - val_loss: 1.1859 - val_accuracy: 0.6062\n",
      "Epoch 153/400\n",
      "10/10 [==============================] - 0s 25ms/step - loss: 0.6541 - accuracy: 0.7628 - val_loss: 1.1422 - val_accuracy: 0.6128\n",
      "Epoch 154/400\n",
      "10/10 [==============================] - 0s 24ms/step - loss: 0.6623 - accuracy: 0.7620 - val_loss: 1.1625 - val_accuracy: 0.6111\n",
      "Epoch 155/400\n",
      "10/10 [==============================] - 0s 22ms/step - loss: 0.6547 - accuracy: 0.7624 - val_loss: 1.1587 - val_accuracy: 0.6100\n",
      "Epoch 156/400\n",
      "10/10 [==============================] - 0s 22ms/step - loss: 0.6300 - accuracy: 0.7692 - val_loss: 1.1442 - val_accuracy: 0.6173\n",
      "Epoch 157/400\n",
      "10/10 [==============================] - 0s 25ms/step - loss: 0.6551 - accuracy: 0.7624 - val_loss: 1.1509 - val_accuracy: 0.6123\n",
      "Epoch 158/400\n",
      "10/10 [==============================] - 0s 24ms/step - loss: 0.6549 - accuracy: 0.7696 - val_loss: 1.1465 - val_accuracy: 0.6162\n",
      "Epoch 159/400\n",
      "10/10 [==============================] - 0s 24ms/step - loss: 0.6419 - accuracy: 0.7706 - val_loss: 1.1442 - val_accuracy: 0.6147\n",
      "Epoch 160/400\n",
      "10/10 [==============================] - 0s 25ms/step - loss: 0.6174 - accuracy: 0.7736 - val_loss: 1.1404 - val_accuracy: 0.6222\n",
      "Epoch 161/400\n",
      "10/10 [==============================] - 0s 24ms/step - loss: 0.6254 - accuracy: 0.7782 - val_loss: 1.1549 - val_accuracy: 0.6197\n",
      "Epoch 162/400\n",
      "10/10 [==============================] - 0s 24ms/step - loss: 0.6215 - accuracy: 0.7778 - val_loss: 1.1409 - val_accuracy: 0.6195\n",
      "Epoch 163/400\n",
      "10/10 [==============================] - 0s 22ms/step - loss: 0.6102 - accuracy: 0.7852 - val_loss: 1.1489 - val_accuracy: 0.6181\n",
      "Epoch 164/400\n",
      "10/10 [==============================] - 0s 22ms/step - loss: 0.6210 - accuracy: 0.7718 - val_loss: 1.1480 - val_accuracy: 0.6173\n",
      "Epoch 165/400\n",
      "10/10 [==============================] - 0s 22ms/step - loss: 0.5986 - accuracy: 0.7850 - val_loss: 1.1399 - val_accuracy: 0.6189\n",
      "Epoch 166/400\n",
      "10/10 [==============================] - 0s 24ms/step - loss: 0.5979 - accuracy: 0.7832 - val_loss: 1.1581 - val_accuracy: 0.6167\n",
      "Epoch 167/400\n",
      "10/10 [==============================] - 0s 24ms/step - loss: 0.6018 - accuracy: 0.7798 - val_loss: 1.1609 - val_accuracy: 0.6160\n",
      "Epoch 168/400\n",
      "10/10 [==============================] - 0s 24ms/step - loss: 0.6010 - accuracy: 0.7798 - val_loss: 1.1526 - val_accuracy: 0.6191\n",
      "Epoch 169/400\n",
      "10/10 [==============================] - 0s 21ms/step - loss: 0.5875 - accuracy: 0.7888 - val_loss: 1.1543 - val_accuracy: 0.6167\n",
      "Epoch 170/400\n",
      "10/10 [==============================] - 0s 25ms/step - loss: 0.5875 - accuracy: 0.7856 - val_loss: 1.1607 - val_accuracy: 0.6192\n",
      "Epoch 171/400\n",
      "10/10 [==============================] - 0s 22ms/step - loss: 0.5825 - accuracy: 0.7904 - val_loss: 1.1688 - val_accuracy: 0.6134\n"
     ]
    },
    {
     "name": "stdout",
     "output_type": "stream",
     "text": [
      "Epoch 172/400\n",
      "10/10 [==============================] - 0s 25ms/step - loss: 0.5949 - accuracy: 0.7772 - val_loss: 1.1666 - val_accuracy: 0.6189\n",
      "Epoch 173/400\n",
      "10/10 [==============================] - 0s 26ms/step - loss: 0.5949 - accuracy: 0.7896 - val_loss: 1.1587 - val_accuracy: 0.6219\n",
      "Epoch 174/400\n",
      "10/10 [==============================] - 0s 25ms/step - loss: 0.5693 - accuracy: 0.8006 - val_loss: 1.1562 - val_accuracy: 0.6188\n",
      "Epoch 175/400\n",
      "10/10 [==============================] - 0s 24ms/step - loss: 0.5797 - accuracy: 0.7880 - val_loss: 1.1507 - val_accuracy: 0.6198\n",
      "Epoch 176/400\n",
      "10/10 [==============================] - 0s 25ms/step - loss: 0.5625 - accuracy: 0.7924 - val_loss: 1.1797 - val_accuracy: 0.6179\n",
      "Epoch 177/400\n",
      "10/10 [==============================] - 0s 24ms/step - loss: 0.5631 - accuracy: 0.7938 - val_loss: 1.1701 - val_accuracy: 0.6210\n",
      "Epoch 178/400\n",
      "10/10 [==============================] - 0s 22ms/step - loss: 0.5675 - accuracy: 0.7940 - val_loss: 1.1542 - val_accuracy: 0.6223\n",
      "Epoch 179/400\n",
      "10/10 [==============================] - 0s 25ms/step - loss: 0.5526 - accuracy: 0.7964 - val_loss: 1.1656 - val_accuracy: 0.6195\n",
      "Epoch 180/400\n",
      "10/10 [==============================] - 0s 24ms/step - loss: 0.5482 - accuracy: 0.8008 - val_loss: 1.1824 - val_accuracy: 0.6152\n",
      "Epoch 181/400\n",
      "10/10 [==============================] - 0s 22ms/step - loss: 0.5550 - accuracy: 0.7972 - val_loss: 1.1663 - val_accuracy: 0.6198\n",
      "Epoch 182/400\n",
      "10/10 [==============================] - 0s 24ms/step - loss: 0.5528 - accuracy: 0.7920 - val_loss: 1.1825 - val_accuracy: 0.6170\n",
      "Epoch 183/400\n",
      "10/10 [==============================] - 0s 25ms/step - loss: 0.5776 - accuracy: 0.7938 - val_loss: 1.1714 - val_accuracy: 0.6190\n",
      "Epoch 184/400\n",
      "10/10 [==============================] - 0s 23ms/step - loss: 0.5450 - accuracy: 0.8044 - val_loss: 1.1859 - val_accuracy: 0.6147\n",
      "Epoch 185/400\n",
      "10/10 [==============================] - 0s 24ms/step - loss: 0.5544 - accuracy: 0.8016 - val_loss: 1.1695 - val_accuracy: 0.6224\n",
      "Epoch 186/400\n",
      "10/10 [==============================] - 0s 22ms/step - loss: 0.5541 - accuracy: 0.7980 - val_loss: 1.1817 - val_accuracy: 0.6191\n",
      "Epoch 187/400\n",
      "10/10 [==============================] - 0s 23ms/step - loss: 0.5373 - accuracy: 0.8128 - val_loss: 1.1755 - val_accuracy: 0.6190\n",
      "Epoch 188/400\n",
      "10/10 [==============================] - 0s 22ms/step - loss: 0.5346 - accuracy: 0.8034 - val_loss: 1.1579 - val_accuracy: 0.6214\n",
      "Epoch 189/400\n",
      "10/10 [==============================] - 0s 22ms/step - loss: 0.5405 - accuracy: 0.8074 - val_loss: 1.1983 - val_accuracy: 0.6126\n",
      "Epoch 190/400\n",
      "10/10 [==============================] - 0s 23ms/step - loss: 0.5352 - accuracy: 0.8032 - val_loss: 1.1920 - val_accuracy: 0.6188\n",
      "Epoch 191/400\n",
      "10/10 [==============================] - 0s 22ms/step - loss: 0.5479 - accuracy: 0.8020 - val_loss: 1.1649 - val_accuracy: 0.6226\n",
      "Epoch 192/400\n",
      "10/10 [==============================] - 0s 24ms/step - loss: 0.5244 - accuracy: 0.8122 - val_loss: 1.1774 - val_accuracy: 0.6230\n",
      "Epoch 193/400\n",
      "10/10 [==============================] - 0s 25ms/step - loss: 0.5325 - accuracy: 0.8060 - val_loss: 1.2176 - val_accuracy: 0.6131\n",
      "Epoch 194/400\n",
      "10/10 [==============================] - 0s 22ms/step - loss: 0.5249 - accuracy: 0.8158 - val_loss: 1.1814 - val_accuracy: 0.6232\n",
      "Epoch 195/400\n",
      "10/10 [==============================] - 0s 22ms/step - loss: 0.5173 - accuracy: 0.8064 - val_loss: 1.1771 - val_accuracy: 0.6220\n",
      "Epoch 196/400\n",
      "10/10 [==============================] - 0s 22ms/step - loss: 0.4944 - accuracy: 0.8234 - val_loss: 1.1914 - val_accuracy: 0.6242\n",
      "Epoch 197/400\n",
      "10/10 [==============================] - 0s 22ms/step - loss: 0.4883 - accuracy: 0.8200 - val_loss: 1.2047 - val_accuracy: 0.6216\n",
      "Epoch 198/400\n",
      "10/10 [==============================] - 0s 22ms/step - loss: 0.5142 - accuracy: 0.8148 - val_loss: 1.1990 - val_accuracy: 0.6218\n",
      "Epoch 199/400\n",
      "10/10 [==============================] - 0s 22ms/step - loss: 0.4924 - accuracy: 0.8248 - val_loss: 1.1781 - val_accuracy: 0.6263\n",
      "Epoch 200/400\n",
      "10/10 [==============================] - 0s 25ms/step - loss: 0.5032 - accuracy: 0.8172 - val_loss: 1.2132 - val_accuracy: 0.6206\n",
      "Epoch 201/400\n",
      "10/10 [==============================] - 0s 22ms/step - loss: 0.5089 - accuracy: 0.8202 - val_loss: 1.1876 - val_accuracy: 0.6189\n",
      "Epoch 202/400\n",
      "10/10 [==============================] - 0s 23ms/step - loss: 0.4962 - accuracy: 0.8194 - val_loss: 1.1985 - val_accuracy: 0.6189\n",
      "Epoch 203/400\n",
      "10/10 [==============================] - 0s 22ms/step - loss: 0.4957 - accuracy: 0.8206 - val_loss: 1.1944 - val_accuracy: 0.6202\n",
      "Epoch 204/400\n",
      "10/10 [==============================] - 0s 24ms/step - loss: 0.4948 - accuracy: 0.8188 - val_loss: 1.1960 - val_accuracy: 0.6243\n",
      "Epoch 205/400\n",
      "10/10 [==============================] - 0s 22ms/step - loss: 0.5098 - accuracy: 0.8132 - val_loss: 1.2030 - val_accuracy: 0.6197\n",
      "Epoch 206/400\n",
      "10/10 [==============================] - 0s 25ms/step - loss: 0.4869 - accuracy: 0.8312 - val_loss: 1.2144 - val_accuracy: 0.6202\n",
      "Epoch 207/400\n",
      "10/10 [==============================] - 0s 24ms/step - loss: 0.4884 - accuracy: 0.8282 - val_loss: 1.2189 - val_accuracy: 0.6164\n",
      "Epoch 208/400\n",
      "10/10 [==============================] - 0s 23ms/step - loss: 0.5021 - accuracy: 0.8206 - val_loss: 1.1967 - val_accuracy: 0.6211\n",
      "Epoch 209/400\n",
      "10/10 [==============================] - 0s 21ms/step - loss: 0.4799 - accuracy: 0.8266 - val_loss: 1.1988 - val_accuracy: 0.6207\n",
      "Epoch 210/400\n",
      "10/10 [==============================] - 0s 22ms/step - loss: 0.4811 - accuracy: 0.8272 - val_loss: 1.2204 - val_accuracy: 0.6247\n",
      "Epoch 211/400\n",
      "10/10 [==============================] - 0s 22ms/step - loss: 0.4935 - accuracy: 0.8190 - val_loss: 1.2093 - val_accuracy: 0.6214\n",
      "Epoch 212/400\n",
      "10/10 [==============================] - 0s 24ms/step - loss: 0.4739 - accuracy: 0.8314 - val_loss: 1.1934 - val_accuracy: 0.6261\n",
      "Epoch 213/400\n",
      "10/10 [==============================] - 0s 22ms/step - loss: 0.4682 - accuracy: 0.8348 - val_loss: 1.2331 - val_accuracy: 0.6243\n",
      "Epoch 214/400\n",
      "10/10 [==============================] - 0s 24ms/step - loss: 0.4635 - accuracy: 0.8388 - val_loss: 1.2079 - val_accuracy: 0.6239\n",
      "Epoch 215/400\n",
      "10/10 [==============================] - 0s 23ms/step - loss: 0.4781 - accuracy: 0.8304 - val_loss: 1.2075 - val_accuracy: 0.6193\n",
      "Epoch 216/400\n",
      "10/10 [==============================] - 0s 25ms/step - loss: 0.4544 - accuracy: 0.8386 - val_loss: 1.2192 - val_accuracy: 0.6235\n",
      "Epoch 217/400\n",
      "10/10 [==============================] - 0s 25ms/step - loss: 0.4577 - accuracy: 0.8362 - val_loss: 1.2636 - val_accuracy: 0.6195\n",
      "Epoch 218/400\n",
      "10/10 [==============================] - 0s 23ms/step - loss: 0.4789 - accuracy: 0.8262 - val_loss: 1.2302 - val_accuracy: 0.6169\n",
      "Epoch 219/400\n",
      "10/10 [==============================] - 0s 21ms/step - loss: 0.4691 - accuracy: 0.8306 - val_loss: 1.2110 - val_accuracy: 0.6262\n",
      "Epoch 220/400\n",
      "10/10 [==============================] - 0s 23ms/step - loss: 0.4581 - accuracy: 0.8382 - val_loss: 1.2077 - val_accuracy: 0.6244\n",
      "Epoch 221/400\n",
      "10/10 [==============================] - 0s 22ms/step - loss: 0.4631 - accuracy: 0.8362 - val_loss: 1.2233 - val_accuracy: 0.6238\n",
      "Epoch 222/400\n",
      "10/10 [==============================] - 0s 24ms/step - loss: 0.4428 - accuracy: 0.8374 - val_loss: 1.2395 - val_accuracy: 0.6229\n",
      "Epoch 223/400\n",
      "10/10 [==============================] - 0s 24ms/step - loss: 0.4585 - accuracy: 0.8368 - val_loss: 1.2356 - val_accuracy: 0.6226\n",
      "Epoch 224/400\n",
      "10/10 [==============================] - 0s 25ms/step - loss: 0.4533 - accuracy: 0.8370 - val_loss: 1.2270 - val_accuracy: 0.6239\n",
      "Epoch 225/400\n",
      "10/10 [==============================] - 0s 23ms/step - loss: 0.4526 - accuracy: 0.8360 - val_loss: 1.2126 - val_accuracy: 0.6231\n",
      "Epoch 226/400\n",
      "10/10 [==============================] - 0s 25ms/step - loss: 0.4511 - accuracy: 0.8400 - val_loss: 1.2408 - val_accuracy: 0.6209\n",
      "Epoch 227/400\n",
      "10/10 [==============================] - 0s 25ms/step - loss: 0.4351 - accuracy: 0.8454 - val_loss: 1.2469 - val_accuracy: 0.6241\n",
      "Epoch 228/400\n",
      "10/10 [==============================] - 0s 22ms/step - loss: 0.4425 - accuracy: 0.8416 - val_loss: 1.2481 - val_accuracy: 0.6282\n"
     ]
    },
    {
     "name": "stdout",
     "output_type": "stream",
     "text": [
      "Epoch 229/400\n",
      "10/10 [==============================] - 0s 24ms/step - loss: 0.4395 - accuracy: 0.8398 - val_loss: 1.2313 - val_accuracy: 0.6246\n",
      "Epoch 230/400\n",
      "10/10 [==============================] - 0s 24ms/step - loss: 0.4453 - accuracy: 0.8382 - val_loss: 1.2415 - val_accuracy: 0.6218\n",
      "Epoch 231/400\n",
      "10/10 [==============================] - 0s 25ms/step - loss: 0.4463 - accuracy: 0.8406 - val_loss: 1.2301 - val_accuracy: 0.6262\n",
      "Epoch 232/400\n",
      "10/10 [==============================] - 0s 22ms/step - loss: 0.4377 - accuracy: 0.8406 - val_loss: 1.2244 - val_accuracy: 0.6251\n",
      "Epoch 233/400\n",
      "10/10 [==============================] - 0s 25ms/step - loss: 0.4293 - accuracy: 0.8408 - val_loss: 1.2334 - val_accuracy: 0.6296\n",
      "Epoch 234/400\n",
      "10/10 [==============================] - 0s 24ms/step - loss: 0.4221 - accuracy: 0.8468 - val_loss: 1.2168 - val_accuracy: 0.6270\n",
      "Epoch 235/400\n",
      "10/10 [==============================] - 0s 22ms/step - loss: 0.4301 - accuracy: 0.8486 - val_loss: 1.2415 - val_accuracy: 0.6254\n",
      "Epoch 236/400\n",
      "10/10 [==============================] - 0s 24ms/step - loss: 0.4319 - accuracy: 0.8394 - val_loss: 1.2429 - val_accuracy: 0.6233\n",
      "Epoch 237/400\n",
      "10/10 [==============================] - 0s 22ms/step - loss: 0.4225 - accuracy: 0.8512 - val_loss: 1.2208 - val_accuracy: 0.6265\n",
      "Epoch 238/400\n",
      "10/10 [==============================] - 0s 24ms/step - loss: 0.4348 - accuracy: 0.8482 - val_loss: 1.2416 - val_accuracy: 0.6267\n",
      "Epoch 239/400\n",
      "10/10 [==============================] - 0s 22ms/step - loss: 0.4204 - accuracy: 0.8506 - val_loss: 1.2577 - val_accuracy: 0.6233\n",
      "Epoch 240/400\n",
      "10/10 [==============================] - 0s 25ms/step - loss: 0.4336 - accuracy: 0.8436 - val_loss: 1.2213 - val_accuracy: 0.6276\n",
      "Epoch 241/400\n",
      "10/10 [==============================] - 0s 22ms/step - loss: 0.4220 - accuracy: 0.8534 - val_loss: 1.2492 - val_accuracy: 0.6275\n",
      "Epoch 242/400\n",
      "10/10 [==============================] - 0s 24ms/step - loss: 0.4067 - accuracy: 0.8566 - val_loss: 1.2657 - val_accuracy: 0.6252\n",
      "Epoch 243/400\n",
      "10/10 [==============================] - 0s 22ms/step - loss: 0.4242 - accuracy: 0.8520 - val_loss: 1.2455 - val_accuracy: 0.6269\n",
      "Epoch 244/400\n",
      "10/10 [==============================] - 0s 25ms/step - loss: 0.4217 - accuracy: 0.8502 - val_loss: 1.2625 - val_accuracy: 0.6285\n",
      "Epoch 245/400\n",
      "10/10 [==============================] - 0s 24ms/step - loss: 0.4177 - accuracy: 0.8478 - val_loss: 1.2491 - val_accuracy: 0.6250\n",
      "Epoch 246/400\n",
      "10/10 [==============================] - 0s 24ms/step - loss: 0.4159 - accuracy: 0.8540 - val_loss: 1.2411 - val_accuracy: 0.6250\n",
      "Epoch 247/400\n",
      "10/10 [==============================] - 0s 22ms/step - loss: 0.4058 - accuracy: 0.8508 - val_loss: 1.2632 - val_accuracy: 0.6240\n",
      "Epoch 248/400\n",
      "10/10 [==============================] - 0s 23ms/step - loss: 0.4278 - accuracy: 0.8444 - val_loss: 1.2541 - val_accuracy: 0.6242\n",
      "Epoch 249/400\n",
      "10/10 [==============================] - 0s 22ms/step - loss: 0.4150 - accuracy: 0.8520 - val_loss: 1.2493 - val_accuracy: 0.6253\n",
      "Epoch 250/400\n",
      "10/10 [==============================] - 0s 24ms/step - loss: 0.3977 - accuracy: 0.8556 - val_loss: 1.2744 - val_accuracy: 0.6265\n",
      "Epoch 251/400\n",
      "10/10 [==============================] - 0s 22ms/step - loss: 0.4153 - accuracy: 0.8490 - val_loss: 1.2495 - val_accuracy: 0.6294\n",
      "Epoch 252/400\n",
      "10/10 [==============================] - 0s 22ms/step - loss: 0.3962 - accuracy: 0.8618 - val_loss: 1.2621 - val_accuracy: 0.6248\n",
      "Epoch 253/400\n",
      "10/10 [==============================] - 0s 24ms/step - loss: 0.3950 - accuracy: 0.8558 - val_loss: 1.2805 - val_accuracy: 0.6260\n",
      "Epoch 254/400\n",
      "10/10 [==============================] - 0s 24ms/step - loss: 0.3964 - accuracy: 0.8632 - val_loss: 1.2701 - val_accuracy: 0.6273\n",
      "Epoch 255/400\n",
      "10/10 [==============================] - 0s 24ms/step - loss: 0.3882 - accuracy: 0.8590 - val_loss: 1.2666 - val_accuracy: 0.6281\n",
      "Epoch 256/400\n",
      "10/10 [==============================] - 0s 23ms/step - loss: 0.3996 - accuracy: 0.8564 - val_loss: 1.2697 - val_accuracy: 0.6280\n",
      "Epoch 257/400\n",
      "10/10 [==============================] - 0s 24ms/step - loss: 0.4023 - accuracy: 0.8568 - val_loss: 1.3004 - val_accuracy: 0.6250\n",
      "Epoch 258/400\n",
      "10/10 [==============================] - 0s 23ms/step - loss: 0.3981 - accuracy: 0.8570 - val_loss: 1.2581 - val_accuracy: 0.6254\n",
      "Epoch 259/400\n",
      "10/10 [==============================] - 0s 24ms/step - loss: 0.4122 - accuracy: 0.8518 - val_loss: 1.2680 - val_accuracy: 0.6238\n",
      "Epoch 260/400\n",
      "10/10 [==============================] - 0s 21ms/step - loss: 0.3854 - accuracy: 0.8600 - val_loss: 1.2683 - val_accuracy: 0.6328\n",
      "Epoch 261/400\n",
      "10/10 [==============================] - 0s 22ms/step - loss: 0.4004 - accuracy: 0.8572 - val_loss: 1.2692 - val_accuracy: 0.6278\n",
      "Epoch 262/400\n",
      "10/10 [==============================] - 0s 23ms/step - loss: 0.3881 - accuracy: 0.8684 - val_loss: 1.2793 - val_accuracy: 0.6269\n",
      "Epoch 263/400\n",
      "10/10 [==============================] - 0s 24ms/step - loss: 0.3868 - accuracy: 0.8622 - val_loss: 1.2611 - val_accuracy: 0.6260\n",
      "Epoch 264/400\n",
      "10/10 [==============================] - 0s 23ms/step - loss: 0.3895 - accuracy: 0.8640 - val_loss: 1.2711 - val_accuracy: 0.6272\n",
      "Epoch 265/400\n",
      "10/10 [==============================] - 0s 24ms/step - loss: 0.3734 - accuracy: 0.8672 - val_loss: 1.2741 - val_accuracy: 0.6280\n",
      "Epoch 266/400\n",
      "10/10 [==============================] - 0s 24ms/step - loss: 0.3711 - accuracy: 0.8702 - val_loss: 1.3063 - val_accuracy: 0.6233\n",
      "Epoch 267/400\n",
      "10/10 [==============================] - 0s 22ms/step - loss: 0.3759 - accuracy: 0.8626 - val_loss: 1.2883 - val_accuracy: 0.6267\n",
      "Epoch 268/400\n",
      "10/10 [==============================] - 0s 25ms/step - loss: 0.3699 - accuracy: 0.8682 - val_loss: 1.3024 - val_accuracy: 0.6266\n",
      "Epoch 269/400\n",
      "10/10 [==============================] - 0s 22ms/step - loss: 0.3707 - accuracy: 0.8708 - val_loss: 1.3019 - val_accuracy: 0.6284\n",
      "Epoch 270/400\n",
      "10/10 [==============================] - 0s 24ms/step - loss: 0.3848 - accuracy: 0.8646 - val_loss: 1.3030 - val_accuracy: 0.6210\n",
      "Epoch 271/400\n",
      "10/10 [==============================] - 0s 25ms/step - loss: 0.3829 - accuracy: 0.8598 - val_loss: 1.2814 - val_accuracy: 0.6259\n",
      "Epoch 272/400\n",
      "10/10 [==============================] - 0s 30ms/step - loss: 0.3500 - accuracy: 0.8834 - val_loss: 1.2960 - val_accuracy: 0.6257\n",
      "Epoch 273/400\n",
      "10/10 [==============================] - 0s 22ms/step - loss: 0.3690 - accuracy: 0.8664 - val_loss: 1.2984 - val_accuracy: 0.6284\n",
      "Epoch 274/400\n",
      "10/10 [==============================] - 0s 24ms/step - loss: 0.3558 - accuracy: 0.8764 - val_loss: 1.2926 - val_accuracy: 0.6262\n",
      "Epoch 275/400\n",
      "10/10 [==============================] - 0s 24ms/step - loss: 0.3697 - accuracy: 0.8700 - val_loss: 1.2925 - val_accuracy: 0.6245\n",
      "Epoch 276/400\n",
      "10/10 [==============================] - 0s 24ms/step - loss: 0.3783 - accuracy: 0.8614 - val_loss: 1.3245 - val_accuracy: 0.6187\n",
      "Epoch 277/400\n",
      "10/10 [==============================] - 0s 24ms/step - loss: 0.3871 - accuracy: 0.8590 - val_loss: 1.2752 - val_accuracy: 0.6284\n",
      "Epoch 278/400\n",
      "10/10 [==============================] - 0s 24ms/step - loss: 0.3747 - accuracy: 0.8656 - val_loss: 1.2758 - val_accuracy: 0.6271\n",
      "Epoch 279/400\n",
      "10/10 [==============================] - 0s 22ms/step - loss: 0.3720 - accuracy: 0.8654 - val_loss: 1.2989 - val_accuracy: 0.6287\n",
      "Epoch 280/400\n",
      "10/10 [==============================] - 0s 25ms/step - loss: 0.3676 - accuracy: 0.8676 - val_loss: 1.3103 - val_accuracy: 0.6263\n",
      "Epoch 281/400\n",
      "10/10 [==============================] - 0s 24ms/step - loss: 0.3655 - accuracy: 0.8642 - val_loss: 1.2790 - val_accuracy: 0.6270\n",
      "Epoch 282/400\n",
      "10/10 [==============================] - 0s 25ms/step - loss: 0.3588 - accuracy: 0.8768 - val_loss: 1.3215 - val_accuracy: 0.6228\n",
      "Epoch 283/400\n",
      "10/10 [==============================] - 0s 23ms/step - loss: 0.3491 - accuracy: 0.8766 - val_loss: 1.3089 - val_accuracy: 0.6256\n",
      "Epoch 284/400\n",
      "10/10 [==============================] - 0s 24ms/step - loss: 0.3581 - accuracy: 0.8698 - val_loss: 1.3182 - val_accuracy: 0.6277\n",
      "Epoch 285/400\n",
      "10/10 [==============================] - 0s 23ms/step - loss: 0.3566 - accuracy: 0.8748 - val_loss: 1.3146 - val_accuracy: 0.6295\n"
     ]
    },
    {
     "name": "stdout",
     "output_type": "stream",
     "text": [
      "Epoch 286/400\n",
      "10/10 [==============================] - 0s 24ms/step - loss: 0.3313 - accuracy: 0.8814 - val_loss: 1.3303 - val_accuracy: 0.6263\n",
      "Epoch 287/400\n",
      "10/10 [==============================] - 0s 22ms/step - loss: 0.3577 - accuracy: 0.8674 - val_loss: 1.3271 - val_accuracy: 0.6262\n",
      "Epoch 288/400\n",
      "10/10 [==============================] - 0s 22ms/step - loss: 0.3702 - accuracy: 0.8658 - val_loss: 1.2961 - val_accuracy: 0.6261\n",
      "Epoch 289/400\n",
      "10/10 [==============================] - 0s 22ms/step - loss: 0.3636 - accuracy: 0.8720 - val_loss: 1.2993 - val_accuracy: 0.6273\n",
      "Epoch 290/400\n",
      "10/10 [==============================] - 0s 22ms/step - loss: 0.3372 - accuracy: 0.8786 - val_loss: 1.3105 - val_accuracy: 0.6262\n",
      "Epoch 291/400\n",
      "10/10 [==============================] - 0s 22ms/step - loss: 0.3392 - accuracy: 0.8794 - val_loss: 1.3342 - val_accuracy: 0.6303\n",
      "Epoch 292/400\n",
      "10/10 [==============================] - 0s 22ms/step - loss: 0.3383 - accuracy: 0.8842 - val_loss: 1.3254 - val_accuracy: 0.6254\n",
      "Epoch 293/400\n",
      "10/10 [==============================] - 0s 24ms/step - loss: 0.3383 - accuracy: 0.8792 - val_loss: 1.3188 - val_accuracy: 0.6300\n",
      "Epoch 294/400\n",
      "10/10 [==============================] - 0s 22ms/step - loss: 0.3349 - accuracy: 0.8804 - val_loss: 1.3204 - val_accuracy: 0.6293\n",
      "Epoch 295/400\n",
      "10/10 [==============================] - 0s 22ms/step - loss: 0.3472 - accuracy: 0.8764 - val_loss: 1.2996 - val_accuracy: 0.6293\n",
      "Epoch 296/400\n",
      "10/10 [==============================] - 0s 24ms/step - loss: 0.3421 - accuracy: 0.8760 - val_loss: 1.3386 - val_accuracy: 0.6297\n",
      "Epoch 297/400\n",
      "10/10 [==============================] - 0s 24ms/step - loss: 0.3550 - accuracy: 0.8690 - val_loss: 1.3532 - val_accuracy: 0.6287\n",
      "Epoch 298/400\n",
      "10/10 [==============================] - 0s 22ms/step - loss: 0.3318 - accuracy: 0.8818 - val_loss: 1.3116 - val_accuracy: 0.6284\n",
      "Epoch 299/400\n",
      "10/10 [==============================] - 0s 22ms/step - loss: 0.3365 - accuracy: 0.8842 - val_loss: 1.3071 - val_accuracy: 0.6304\n",
      "Epoch 300/400\n",
      "10/10 [==============================] - 0s 24ms/step - loss: 0.3448 - accuracy: 0.8776 - val_loss: 1.3169 - val_accuracy: 0.6289\n",
      "Epoch 301/400\n",
      "10/10 [==============================] - 0s 22ms/step - loss: 0.3294 - accuracy: 0.8818 - val_loss: 1.3267 - val_accuracy: 0.6302\n",
      "Epoch 302/400\n",
      "10/10 [==============================] - 0s 22ms/step - loss: 0.3452 - accuracy: 0.8800 - val_loss: 1.3346 - val_accuracy: 0.6267\n",
      "Epoch 303/400\n",
      "10/10 [==============================] - 0s 25ms/step - loss: 0.3341 - accuracy: 0.8826 - val_loss: 1.3466 - val_accuracy: 0.6228\n",
      "Epoch 304/400\n",
      "10/10 [==============================] - 0s 22ms/step - loss: 0.3306 - accuracy: 0.8810 - val_loss: 1.3425 - val_accuracy: 0.6297\n",
      "Epoch 305/400\n",
      "10/10 [==============================] - 0s 23ms/step - loss: 0.3344 - accuracy: 0.8806 - val_loss: 1.3501 - val_accuracy: 0.6256\n",
      "Epoch 306/400\n",
      "10/10 [==============================] - 0s 22ms/step - loss: 0.3612 - accuracy: 0.8696 - val_loss: 1.3246 - val_accuracy: 0.6278\n",
      "Epoch 307/400\n",
      "10/10 [==============================] - 0s 23ms/step - loss: 0.3310 - accuracy: 0.8812 - val_loss: 1.3244 - val_accuracy: 0.6330\n",
      "Epoch 308/400\n",
      "10/10 [==============================] - 0s 24ms/step - loss: 0.3332 - accuracy: 0.8846 - val_loss: 1.3453 - val_accuracy: 0.6292\n",
      "Epoch 309/400\n",
      "10/10 [==============================] - 0s 24ms/step - loss: 0.3287 - accuracy: 0.8830 - val_loss: 1.3460 - val_accuracy: 0.6275\n",
      "Epoch 310/400\n",
      "10/10 [==============================] - 0s 25ms/step - loss: 0.3151 - accuracy: 0.8896 - val_loss: 1.3234 - val_accuracy: 0.6289\n",
      "Epoch 311/400\n",
      "10/10 [==============================] - 0s 23ms/step - loss: 0.3331 - accuracy: 0.8822 - val_loss: 1.3328 - val_accuracy: 0.6327\n",
      "Epoch 312/400\n",
      "10/10 [==============================] - 0s 22ms/step - loss: 0.3141 - accuracy: 0.8870 - val_loss: 1.3372 - val_accuracy: 0.6277\n",
      "Epoch 313/400\n",
      "10/10 [==============================] - 0s 24ms/step - loss: 0.3181 - accuracy: 0.8886 - val_loss: 1.3636 - val_accuracy: 0.6313\n",
      "Epoch 314/400\n",
      "10/10 [==============================] - 0s 23ms/step - loss: 0.3249 - accuracy: 0.8876 - val_loss: 1.3607 - val_accuracy: 0.6319\n",
      "Epoch 315/400\n",
      "10/10 [==============================] - 0s 22ms/step - loss: 0.3219 - accuracy: 0.8760 - val_loss: 1.3561 - val_accuracy: 0.6286\n",
      "Epoch 316/400\n",
      "10/10 [==============================] - 0s 24ms/step - loss: 0.3153 - accuracy: 0.8882 - val_loss: 1.3498 - val_accuracy: 0.6310\n",
      "Epoch 317/400\n",
      "10/10 [==============================] - 0s 23ms/step - loss: 0.3123 - accuracy: 0.8900 - val_loss: 1.3594 - val_accuracy: 0.6316\n",
      "Epoch 318/400\n",
      "10/10 [==============================] - 0s 24ms/step - loss: 0.3190 - accuracy: 0.8820 - val_loss: 1.3851 - val_accuracy: 0.6241\n",
      "Epoch 319/400\n",
      "10/10 [==============================] - 0s 22ms/step - loss: 0.3172 - accuracy: 0.8816 - val_loss: 1.3352 - val_accuracy: 0.6286\n",
      "Epoch 320/400\n",
      "10/10 [==============================] - 0s 23ms/step - loss: 0.3304 - accuracy: 0.8820 - val_loss: 1.3485 - val_accuracy: 0.6327\n",
      "Epoch 321/400\n",
      "10/10 [==============================] - 0s 21ms/step - loss: 0.3050 - accuracy: 0.8914 - val_loss: 1.3782 - val_accuracy: 0.6279\n",
      "Epoch 322/400\n",
      "10/10 [==============================] - 0s 25ms/step - loss: 0.3128 - accuracy: 0.8886 - val_loss: 1.3635 - val_accuracy: 0.6299\n",
      "Epoch 323/400\n",
      "10/10 [==============================] - 0s 22ms/step - loss: 0.2986 - accuracy: 0.8872 - val_loss: 1.3689 - val_accuracy: 0.6337\n",
      "Epoch 324/400\n",
      "10/10 [==============================] - 0s 22ms/step - loss: 0.3217 - accuracy: 0.8792 - val_loss: 1.3476 - val_accuracy: 0.6313\n",
      "Epoch 325/400\n",
      "10/10 [==============================] - 0s 23ms/step - loss: 0.3200 - accuracy: 0.8872 - val_loss: 1.3401 - val_accuracy: 0.6319\n",
      "Epoch 326/400\n",
      "10/10 [==============================] - 0s 22ms/step - loss: 0.3248 - accuracy: 0.8882 - val_loss: 1.3878 - val_accuracy: 0.6258\n",
      "Epoch 327/400\n",
      "10/10 [==============================] - 0s 25ms/step - loss: 0.3292 - accuracy: 0.8838 - val_loss: 1.4023 - val_accuracy: 0.6246\n",
      "Epoch 328/400\n",
      "10/10 [==============================] - 0s 25ms/step - loss: 0.3232 - accuracy: 0.8838 - val_loss: 1.3446 - val_accuracy: 0.6313\n",
      "Epoch 329/400\n",
      "10/10 [==============================] - 0s 22ms/step - loss: 0.3294 - accuracy: 0.8822 - val_loss: 1.3503 - val_accuracy: 0.6280\n",
      "Epoch 330/400\n",
      "10/10 [==============================] - 0s 25ms/step - loss: 0.3098 - accuracy: 0.8888 - val_loss: 1.3572 - val_accuracy: 0.6313\n",
      "Epoch 331/400\n",
      "10/10 [==============================] - 0s 23ms/step - loss: 0.3108 - accuracy: 0.8878 - val_loss: 1.3508 - val_accuracy: 0.6300\n",
      "Epoch 332/400\n",
      "10/10 [==============================] - 0s 24ms/step - loss: 0.3077 - accuracy: 0.8958 - val_loss: 1.3635 - val_accuracy: 0.6319\n",
      "Epoch 333/400\n",
      "10/10 [==============================] - 0s 24ms/step - loss: 0.3072 - accuracy: 0.8918 - val_loss: 1.3621 - val_accuracy: 0.6314\n",
      "Epoch 334/400\n",
      "10/10 [==============================] - 0s 22ms/step - loss: 0.3056 - accuracy: 0.8890 - val_loss: 1.3619 - val_accuracy: 0.6333\n",
      "Epoch 335/400\n",
      "10/10 [==============================] - 0s 22ms/step - loss: 0.2886 - accuracy: 0.8940 - val_loss: 1.3763 - val_accuracy: 0.6315\n",
      "Epoch 336/400\n",
      "10/10 [==============================] - 0s 23ms/step - loss: 0.2962 - accuracy: 0.8930 - val_loss: 1.3826 - val_accuracy: 0.6263\n",
      "Epoch 337/400\n",
      "10/10 [==============================] - 0s 22ms/step - loss: 0.3115 - accuracy: 0.8892 - val_loss: 1.3879 - val_accuracy: 0.6248\n",
      "Epoch 338/400\n",
      "10/10 [==============================] - 0s 25ms/step - loss: 0.3060 - accuracy: 0.8954 - val_loss: 1.3709 - val_accuracy: 0.6339\n",
      "Epoch 339/400\n",
      "10/10 [==============================] - 0s 23ms/step - loss: 0.3000 - accuracy: 0.8892 - val_loss: 1.4077 - val_accuracy: 0.6285\n",
      "Epoch 340/400\n",
      "10/10 [==============================] - 0s 23ms/step - loss: 0.2854 - accuracy: 0.8944 - val_loss: 1.3846 - val_accuracy: 0.6297\n",
      "Epoch 341/400\n",
      "10/10 [==============================] - 0s 22ms/step - loss: 0.3133 - accuracy: 0.8868 - val_loss: 1.4084 - val_accuracy: 0.6284\n",
      "Epoch 342/400\n",
      "10/10 [==============================] - 0s 23ms/step - loss: 0.3124 - accuracy: 0.8886 - val_loss: 1.3730 - val_accuracy: 0.6313\n"
     ]
    },
    {
     "name": "stdout",
     "output_type": "stream",
     "text": [
      "Epoch 343/400\n",
      "10/10 [==============================] - 0s 23ms/step - loss: 0.2943 - accuracy: 0.8936 - val_loss: 1.3785 - val_accuracy: 0.6312\n",
      "Epoch 344/400\n",
      "10/10 [==============================] - 0s 23ms/step - loss: 0.3033 - accuracy: 0.8888 - val_loss: 1.3886 - val_accuracy: 0.6285\n",
      "Epoch 345/400\n",
      "10/10 [==============================] - 0s 25ms/step - loss: 0.2933 - accuracy: 0.8930 - val_loss: 1.4013 - val_accuracy: 0.6306\n",
      "Epoch 346/400\n",
      "10/10 [==============================] - 0s 25ms/step - loss: 0.2980 - accuracy: 0.8968 - val_loss: 1.3661 - val_accuracy: 0.6299\n",
      "Epoch 347/400\n",
      "10/10 [==============================] - 0s 24ms/step - loss: 0.2980 - accuracy: 0.8970 - val_loss: 1.3887 - val_accuracy: 0.6299\n",
      "Epoch 348/400\n",
      "10/10 [==============================] - 0s 21ms/step - loss: 0.3023 - accuracy: 0.8964 - val_loss: 1.3709 - val_accuracy: 0.6302\n",
      "Epoch 349/400\n",
      "10/10 [==============================] - 0s 23ms/step - loss: 0.2924 - accuracy: 0.8976 - val_loss: 1.3893 - val_accuracy: 0.6305\n",
      "Epoch 350/400\n",
      "10/10 [==============================] - 0s 22ms/step - loss: 0.3115 - accuracy: 0.8952 - val_loss: 1.3707 - val_accuracy: 0.6350\n",
      "Epoch 351/400\n",
      "10/10 [==============================] - 0s 23ms/step - loss: 0.2811 - accuracy: 0.8994 - val_loss: 1.3859 - val_accuracy: 0.6332\n",
      "Epoch 352/400\n",
      "10/10 [==============================] - 0s 24ms/step - loss: 0.2849 - accuracy: 0.8976 - val_loss: 1.3936 - val_accuracy: 0.6354\n",
      "Epoch 353/400\n",
      "10/10 [==============================] - 0s 25ms/step - loss: 0.2866 - accuracy: 0.9002 - val_loss: 1.3933 - val_accuracy: 0.6346\n",
      "Epoch 354/400\n",
      "10/10 [==============================] - 0s 24ms/step - loss: 0.2940 - accuracy: 0.8964 - val_loss: 1.3881 - val_accuracy: 0.6342\n",
      "Epoch 355/400\n",
      "10/10 [==============================] - 0s 22ms/step - loss: 0.2913 - accuracy: 0.8984 - val_loss: 1.4088 - val_accuracy: 0.6352\n",
      "Epoch 356/400\n",
      "10/10 [==============================] - 0s 22ms/step - loss: 0.2897 - accuracy: 0.8970 - val_loss: 1.3913 - val_accuracy: 0.6330\n",
      "Epoch 357/400\n",
      "10/10 [==============================] - 0s 25ms/step - loss: 0.2958 - accuracy: 0.8938 - val_loss: 1.3580 - val_accuracy: 0.6325\n",
      "Epoch 358/400\n",
      "10/10 [==============================] - 0s 23ms/step - loss: 0.2940 - accuracy: 0.8962 - val_loss: 1.4012 - val_accuracy: 0.6316\n",
      "Epoch 359/400\n",
      "10/10 [==============================] - 0s 25ms/step - loss: 0.2887 - accuracy: 0.8938 - val_loss: 1.3931 - val_accuracy: 0.6340\n",
      "Epoch 360/400\n",
      "10/10 [==============================] - 0s 23ms/step - loss: 0.2861 - accuracy: 0.9022 - val_loss: 1.4011 - val_accuracy: 0.6281\n",
      "Epoch 361/400\n",
      "10/10 [==============================] - 0s 25ms/step - loss: 0.2915 - accuracy: 0.8938 - val_loss: 1.4010 - val_accuracy: 0.6343\n",
      "Epoch 362/400\n",
      "10/10 [==============================] - 0s 25ms/step - loss: 0.2908 - accuracy: 0.8946 - val_loss: 1.3809 - val_accuracy: 0.6338\n",
      "Epoch 363/400\n",
      "10/10 [==============================] - 0s 23ms/step - loss: 0.2794 - accuracy: 0.8998 - val_loss: 1.4049 - val_accuracy: 0.6351\n",
      "Epoch 364/400\n",
      "10/10 [==============================] - 0s 23ms/step - loss: 0.2782 - accuracy: 0.8990 - val_loss: 1.4143 - val_accuracy: 0.6277\n",
      "Epoch 365/400\n",
      "10/10 [==============================] - 0s 23ms/step - loss: 0.2813 - accuracy: 0.8998 - val_loss: 1.3929 - val_accuracy: 0.6260\n",
      "Epoch 366/400\n",
      "10/10 [==============================] - 0s 24ms/step - loss: 0.3002 - accuracy: 0.8958 - val_loss: 1.4003 - val_accuracy: 0.6301\n",
      "Epoch 367/400\n",
      "10/10 [==============================] - 0s 22ms/step - loss: 0.2715 - accuracy: 0.9062 - val_loss: 1.4568 - val_accuracy: 0.6238\n",
      "Epoch 368/400\n",
      "10/10 [==============================] - 0s 25ms/step - loss: 0.2898 - accuracy: 0.8952 - val_loss: 1.4312 - val_accuracy: 0.6280\n",
      "Epoch 369/400\n",
      "10/10 [==============================] - 0s 23ms/step - loss: 0.2910 - accuracy: 0.8976 - val_loss: 1.4013 - val_accuracy: 0.6298\n",
      "Epoch 370/400\n",
      "10/10 [==============================] - 0s 25ms/step - loss: 0.2810 - accuracy: 0.9026 - val_loss: 1.4289 - val_accuracy: 0.6214\n",
      "Epoch 371/400\n",
      "10/10 [==============================] - 0s 23ms/step - loss: 0.2793 - accuracy: 0.9034 - val_loss: 1.3975 - val_accuracy: 0.6305\n",
      "Epoch 372/400\n",
      "10/10 [==============================] - 0s 23ms/step - loss: 0.2495 - accuracy: 0.9110 - val_loss: 1.4313 - val_accuracy: 0.6290\n",
      "Epoch 373/400\n",
      "10/10 [==============================] - 0s 22ms/step - loss: 0.2752 - accuracy: 0.9024 - val_loss: 1.4189 - val_accuracy: 0.6276\n",
      "Epoch 374/400\n",
      "10/10 [==============================] - 0s 23ms/step - loss: 0.2813 - accuracy: 0.8966 - val_loss: 1.4045 - val_accuracy: 0.6312\n",
      "Epoch 375/400\n",
      "10/10 [==============================] - 0s 24ms/step - loss: 0.2825 - accuracy: 0.9008 - val_loss: 1.4070 - val_accuracy: 0.6322\n",
      "Epoch 376/400\n",
      "10/10 [==============================] - 0s 25ms/step - loss: 0.2831 - accuracy: 0.8988 - val_loss: 1.4122 - val_accuracy: 0.6307\n",
      "Epoch 377/400\n",
      "10/10 [==============================] - 0s 22ms/step - loss: 0.2724 - accuracy: 0.9014 - val_loss: 1.4432 - val_accuracy: 0.6318\n",
      "Epoch 378/400\n",
      "10/10 [==============================] - 0s 22ms/step - loss: 0.2787 - accuracy: 0.8972 - val_loss: 1.4048 - val_accuracy: 0.6314\n",
      "Epoch 379/400\n",
      "10/10 [==============================] - 0s 23ms/step - loss: 0.2611 - accuracy: 0.9062 - val_loss: 1.4043 - val_accuracy: 0.6328\n",
      "Epoch 380/400\n",
      "10/10 [==============================] - 0s 24ms/step - loss: 0.2669 - accuracy: 0.9008 - val_loss: 1.4357 - val_accuracy: 0.6310\n",
      "Epoch 381/400\n",
      "10/10 [==============================] - 0s 24ms/step - loss: 0.2751 - accuracy: 0.8990 - val_loss: 1.4220 - val_accuracy: 0.6315\n",
      "Epoch 382/400\n",
      "10/10 [==============================] - 0s 23ms/step - loss: 0.2743 - accuracy: 0.9048 - val_loss: 1.4214 - val_accuracy: 0.6302\n",
      "Epoch 383/400\n",
      "10/10 [==============================] - 0s 23ms/step - loss: 0.2743 - accuracy: 0.9038 - val_loss: 1.4104 - val_accuracy: 0.6332\n",
      "Epoch 384/400\n",
      "10/10 [==============================] - 0s 22ms/step - loss: 0.2770 - accuracy: 0.9000 - val_loss: 1.4311 - val_accuracy: 0.6290\n",
      "Epoch 385/400\n",
      "10/10 [==============================] - 0s 22ms/step - loss: 0.2686 - accuracy: 0.9064 - val_loss: 1.4619 - val_accuracy: 0.6238\n",
      "Epoch 386/400\n",
      "10/10 [==============================] - 0s 23ms/step - loss: 0.2742 - accuracy: 0.9038 - val_loss: 1.4362 - val_accuracy: 0.6297\n",
      "Epoch 387/400\n",
      "10/10 [==============================] - 0s 23ms/step - loss: 0.2643 - accuracy: 0.9078 - val_loss: 1.4428 - val_accuracy: 0.6284\n",
      "Epoch 388/400\n",
      "10/10 [==============================] - 0s 22ms/step - loss: 0.2720 - accuracy: 0.9048 - val_loss: 1.4249 - val_accuracy: 0.6294\n",
      "Epoch 389/400\n",
      "10/10 [==============================] - 0s 22ms/step - loss: 0.2658 - accuracy: 0.9082 - val_loss: 1.4466 - val_accuracy: 0.6303\n",
      "Epoch 390/400\n",
      "10/10 [==============================] - 0s 22ms/step - loss: 0.2629 - accuracy: 0.9062 - val_loss: 1.4272 - val_accuracy: 0.6311\n",
      "Epoch 391/400\n",
      "10/10 [==============================] - 0s 22ms/step - loss: 0.2517 - accuracy: 0.9088 - val_loss: 1.4547 - val_accuracy: 0.6331\n",
      "Epoch 392/400\n",
      "10/10 [==============================] - 0s 25ms/step - loss: 0.2548 - accuracy: 0.9106 - val_loss: 1.4524 - val_accuracy: 0.6337\n",
      "Epoch 393/400\n",
      "10/10 [==============================] - 0s 22ms/step - loss: 0.2781 - accuracy: 0.8950 - val_loss: 1.4316 - val_accuracy: 0.6342\n",
      "Epoch 394/400\n",
      "10/10 [==============================] - 0s 24ms/step - loss: 0.2480 - accuracy: 0.9116 - val_loss: 1.4480 - val_accuracy: 0.6314\n",
      "Epoch 395/400\n",
      "10/10 [==============================] - 0s 24ms/step - loss: 0.2524 - accuracy: 0.9126 - val_loss: 1.4538 - val_accuracy: 0.6352\n",
      "Epoch 396/400\n",
      "10/10 [==============================] - 0s 22ms/step - loss: 0.2517 - accuracy: 0.9086 - val_loss: 1.4546 - val_accuracy: 0.6269\n",
      "Epoch 397/400\n",
      "10/10 [==============================] - 0s 24ms/step - loss: 0.2624 - accuracy: 0.9088 - val_loss: 1.4411 - val_accuracy: 0.6277\n",
      "Epoch 398/400\n",
      "10/10 [==============================] - 0s 22ms/step - loss: 0.2577 - accuracy: 0.9098 - val_loss: 1.4876 - val_accuracy: 0.6294\n",
      "Epoch 399/400\n",
      "10/10 [==============================] - 0s 24ms/step - loss: 0.2552 - accuracy: 0.9076 - val_loss: 1.4354 - val_accuracy: 0.6324\n"
     ]
    },
    {
     "name": "stdout",
     "output_type": "stream",
     "text": [
      "Epoch 400/400\n",
      "10/10 [==============================] - 0s 24ms/step - loss: 0.2619 - accuracy: 0.9086 - val_loss: 1.4379 - val_accuracy: 0.6355\n"
     ]
    }
   ],
   "source": [
    "history = model.fit(train_images_10p, train_labels_cat_10p, epochs=400, batch_size=512, \n",
    "                    validation_data=(test_images, test_labels_cat))"
   ]
  },
  {
   "cell_type": "code",
   "execution_count": 52,
   "id": "50b9c559",
   "metadata": {},
   "outputs": [],
   "source": [
    "# print_history_chart(history)"
   ]
  },
  {
   "cell_type": "code",
   "execution_count": 54,
   "id": "f810dfc4",
   "metadata": {},
   "outputs": [],
   "source": [
    "# model.save('vanilla_10p_cifar10.h5')"
   ]
  },
  {
   "cell_type": "code",
   "execution_count": null,
   "id": "0bba84f2",
   "metadata": {},
   "outputs": [],
   "source": []
  },
  {
   "cell_type": "markdown",
   "id": "4cf84742",
   "metadata": {},
   "source": [
    "evaluation"
   ]
  },
  {
   "cell_type": "code",
   "execution_count": 55,
   "id": "e5cc464d",
   "metadata": {},
   "outputs": [],
   "source": [
    "model = tf.keras.models.load_model(\"vanilla_10p_cifar10.h5\")"
   ]
  },
  {
   "cell_type": "code",
   "execution_count": 56,
   "id": "41b9e68f",
   "metadata": {},
   "outputs": [
    {
     "name": "stdout",
     "output_type": "stream",
     "text": [
      "accuracy_score: 0.6355\n",
      "f1_score_macro: 0.6314960493654187\n",
      "f1_score_weighted: 0.6395039506345813\n"
     ]
    }
   ],
   "source": [
    "results_vanilla_10p = full_evaluate(model, test_images, test_labels)"
   ]
  },
  {
   "cell_type": "code",
   "execution_count": null,
   "id": "2241e11f",
   "metadata": {},
   "outputs": [],
   "source": []
  },
  {
   "cell_type": "code",
   "execution_count": null,
   "id": "7da3179c",
   "metadata": {},
   "outputs": [],
   "source": []
  },
  {
   "cell_type": "code",
   "execution_count": null,
   "id": "be07a52f",
   "metadata": {},
   "outputs": [],
   "source": []
  },
  {
   "cell_type": "markdown",
   "id": "floating-tulsa",
   "metadata": {},
   "source": [
    "# Siemese network"
   ]
  },
  {
   "cell_type": "code",
   "execution_count": 11,
   "id": "hired-highland",
   "metadata": {},
   "outputs": [],
   "source": [
    "def build_siamese_vanilla_model(shape, class_num):\n",
    "    inputs1 = Input(shape)\n",
    "    inputs2 = Input(shape)\n",
    "    \n",
    "    def one_side(inputs):\n",
    "        x = Conv2D(32, (3, 3), activation=\"relu\")(inputs)\n",
    "        x = MaxPooling2D(pool_size=(2, 2))(x)\n",
    "\n",
    "        x = Conv2D(64, (2, 2), activation=\"relu\")(x)\n",
    "        x = MaxPooling2D(pool_size=(2,2))(x)\n",
    "        x = Dropout(0.2)(x)\n",
    "\n",
    "        x = Conv2D(128, (2, 2), activation=\"relu\")(x)\n",
    "        x = MaxPooling2D(pool_size=(2,2))(x)\n",
    "        x = Dropout(0.2)(x)\n",
    "\n",
    "        x = Flatten()(x)\n",
    "\n",
    "        x = Dense(32, activation='relu')(x)\n",
    "        x = Dropout(0.2)(x)\n",
    "        \n",
    "        return x\n",
    "    \n",
    "    x1 = one_side(inputs1)\n",
    "    x2 = one_side(inputs2)\n",
    "    \n",
    "    x = concatenate([x1, x2])\n",
    "    \n",
    "    outputs = Dense(class_num, activation='softmax')(x)\n",
    "\n",
    "    # build the model\n",
    "    model = Model([inputs1, inputs2], outputs)\n",
    "    \n",
    "    model.compile(optimizer='adam',\n",
    "              loss='categorical_crossentropy',\n",
    "              metrics=['accuracy'])\n",
    "\n",
    "    return model"
   ]
  },
  {
   "cell_type": "code",
   "execution_count": 12,
   "id": "1507c448",
   "metadata": {},
   "outputs": [],
   "source": [
    "def make_pairs(labels):\n",
    "    samples = {a: list(filter(lambda x: True if x[1]==a else False, enumerate(labels))) for a in np.unique(labels)}\n",
    "    labels2 = []\n",
    "    for l in labels:\n",
    "        labels2.append(random.choice(samples[l[0]])[0])\n",
    "    return labels2"
   ]
  },
  {
   "cell_type": "code",
   "execution_count": null,
   "id": "4454a15e",
   "metadata": {},
   "outputs": [],
   "source": []
  },
  {
   "cell_type": "markdown",
   "id": "059f2857",
   "metadata": {},
   "source": [
    "### model on the whole datasets"
   ]
  },
  {
   "cell_type": "markdown",
   "id": "6fdb21ed",
   "metadata": {},
   "source": [
    "learning"
   ]
  },
  {
   "cell_type": "code",
   "execution_count": 13,
   "id": "defined-median",
   "metadata": {},
   "outputs": [],
   "source": [
    "# model = build_siamese_vanilla_model(train_images[0].shape, 10)"
   ]
  },
  {
   "cell_type": "code",
   "execution_count": 14,
   "id": "58a2018b",
   "metadata": {},
   "outputs": [],
   "source": [
    "# idx2 = make_pairs(train_labels)\n",
    "\n",
    "# y = np.concatenate([train_labels,train_labels[idx2]])\n",
    "# X1 = np.concatenate([train_images,train_images])\n",
    "# X2 = np.concatenate([train_images,train_images[idx2]])\n",
    "\n",
    "# y = to_categorical(y)"
   ]
  },
  {
   "cell_type": "code",
   "execution_count": 15,
   "id": "2300122f",
   "metadata": {},
   "outputs": [],
   "source": [
    "# history = model.fit([X1, X2], y, epochs=200, batch_size=512, shuffle=True,\n",
    "#          validation_data=([test_images, test_images], test_labels_cat))\n"
   ]
  },
  {
   "cell_type": "code",
   "execution_count": 16,
   "id": "white-butler",
   "metadata": {},
   "outputs": [],
   "source": [
    "# print_history_chart(history)"
   ]
  },
  {
   "cell_type": "code",
   "execution_count": 17,
   "id": "quantitative-denver",
   "metadata": {},
   "outputs": [],
   "source": [
    "# model.save('siamese_vanilla_cifar10.h5')"
   ]
  },
  {
   "cell_type": "code",
   "execution_count": null,
   "id": "e0c08ddc",
   "metadata": {},
   "outputs": [],
   "source": []
  },
  {
   "cell_type": "markdown",
   "id": "f35c70ae",
   "metadata": {},
   "source": [
    "evaluate"
   ]
  },
  {
   "cell_type": "code",
   "execution_count": 25,
   "id": "spatial-headline",
   "metadata": {},
   "outputs": [],
   "source": [
    "model = tf.keras.models.load_model(\"siamese_vanilla_cifar10.h5\")\n"
   ]
  },
  {
   "cell_type": "code",
   "execution_count": 26,
   "id": "peripheral-biotechnology",
   "metadata": {},
   "outputs": [
    {
     "name": "stdout",
     "output_type": "stream",
     "text": [
      "accuracy_score: 0.8135\n",
      "f1_score_macro: 0.8118478425773764\n",
      "f1_score_weighted: 0.8151521574226235\n"
     ]
    }
   ],
   "source": [
    "results_siamese_vanilla = full_evaluate(model, [test_images, test_images], test_labels)"
   ]
  },
  {
   "cell_type": "code",
   "execution_count": null,
   "id": "ideal-charger",
   "metadata": {},
   "outputs": [],
   "source": []
  },
  {
   "cell_type": "markdown",
   "id": "33592afb",
   "metadata": {},
   "source": [
    "### models on the smaller datasets"
   ]
  },
  {
   "cell_type": "markdown",
   "id": "3bb73bc9",
   "metadata": {},
   "source": [
    "#### 50% of the taining data"
   ]
  },
  {
   "cell_type": "markdown",
   "id": "bd3fac2d",
   "metadata": {},
   "source": [
    "learning"
   ]
  },
  {
   "cell_type": "code",
   "execution_count": 13,
   "id": "ce7a917f",
   "metadata": {},
   "outputs": [],
   "source": [
    "model = build_siamese_vanilla_model(train_images[0].shape, 10)"
   ]
  },
  {
   "cell_type": "code",
   "execution_count": 14,
   "id": "73095688",
   "metadata": {},
   "outputs": [],
   "source": [
    "train_images_50p = train_images[:len(train_images)//2]\n",
    "train_labels_50p = train_labels[:len(train_labels)//2]"
   ]
  },
  {
   "cell_type": "code",
   "execution_count": 21,
   "id": "2d36feef",
   "metadata": {},
   "outputs": [],
   "source": [
    "# idx2 = make_pairs(train_labels_50p)\n",
    "# idx3 = make_pairs(train_labels_50p)\n",
    "\n",
    "# y = np.concatenate([train_labels_50p, train_labels_50p[idx2], train_labels_50p[idx3]])\n",
    "# X1 = np.concatenate([train_images_50p, train_images_50p, train_images_50p])\n",
    "# X2 = np.concatenate([train_images_50p, train_images_50p[idx2], train_images_50p[idx3]])\n",
    "# y = to_categorical(y)"
   ]
  },
  {
   "cell_type": "code",
   "execution_count": 20,
   "id": "52176afa",
   "metadata": {},
   "outputs": [],
   "source": [
    "# history = model.fit([X1, X2], y, epochs=300, batch_size=512, shuffle=True,\n",
    "#          validation_data=([test_images, test_images], test_labels_cat))"
   ]
  },
  {
   "cell_type": "code",
   "execution_count": 18,
   "id": "6b78d7ee",
   "metadata": {},
   "outputs": [],
   "source": [
    "# model.save('siamese_vanilla_50p_cifar10.h5')"
   ]
  },
  {
   "cell_type": "code",
   "execution_count": null,
   "id": "315557d2",
   "metadata": {},
   "outputs": [],
   "source": []
  },
  {
   "cell_type": "markdown",
   "id": "89151964",
   "metadata": {},
   "source": [
    "evaluate"
   ]
  },
  {
   "cell_type": "code",
   "execution_count": 22,
   "id": "1bd7ed89",
   "metadata": {},
   "outputs": [],
   "source": [
    "model = tf.keras.models.load_model(\"siamese_vanilla_50p_cifar10.h5\")"
   ]
  },
  {
   "cell_type": "code",
   "execution_count": 24,
   "id": "71aacd8c",
   "metadata": {},
   "outputs": [
    {
     "name": "stdout",
     "output_type": "stream",
     "text": [
      "accuracy_score: 0.7755\n",
      "f1_score_macro: 0.7745039812753725\n",
      "f1_score_weighted: 0.7764960187246276\n"
     ]
    }
   ],
   "source": [
    "results_siamese_vanilla_50p = full_evaluate(model, [test_images, test_images], test_labels)"
   ]
  },
  {
   "cell_type": "code",
   "execution_count": null,
   "id": "2abb715c",
   "metadata": {},
   "outputs": [],
   "source": []
  },
  {
   "cell_type": "markdown",
   "id": "52b964b7",
   "metadata": {},
   "source": [
    "#### 10% of the taining data"
   ]
  },
  {
   "cell_type": "markdown",
   "id": "8369350a",
   "metadata": {},
   "source": [
    "learning"
   ]
  },
  {
   "cell_type": "code",
   "execution_count": 18,
   "id": "cbd63459",
   "metadata": {},
   "outputs": [],
   "source": [
    "# model = build_siamese_vanilla_model(train_images[0].shape, 10)"
   ]
  },
  {
   "cell_type": "code",
   "execution_count": 19,
   "id": "02be32e8",
   "metadata": {},
   "outputs": [],
   "source": [
    "# train_images_10p = train_images[:len(train_images)//10]\n",
    "# train_labels_10p = train_labels[:len(train_labels)//10]"
   ]
  },
  {
   "cell_type": "code",
   "execution_count": 20,
   "id": "1252e914",
   "metadata": {},
   "outputs": [],
   "source": [
    "# idx2 = make_pairs(train_labels_10p)\n",
    "# idx3 = make_pairs(train_labels_10p)\n",
    "# idx4 = make_pairs(train_labels_10p)\n",
    "# idx5 = make_pairs(train_labels_10p)\n",
    "\n",
    "# y = np.concatenate([train_labels_10p, train_labels_10p[idx2], train_labels_10p[idx3], train_labels_10p[idx4],\n",
    "#                    train_labels_10p[idx5]])\n",
    "# X1 = np.concatenate([train_images_10p, train_images_10p, train_images_10p, train_images_10p, train_images_10p])\n",
    "# X2 = np.concatenate([train_images_10p, train_images_10p[idx2], train_images_10p[idx3], train_images_10p[idx4],\n",
    "#                     train_images_10p[idx5]])\n",
    "# y = to_categorical(y)"
   ]
  },
  {
   "cell_type": "code",
   "execution_count": 21,
   "id": "e6172f3b",
   "metadata": {},
   "outputs": [],
   "source": [
    "# history = model.fit([X1, X2], y, epochs=300, batch_size=512, shuffle=True,\n",
    "#          validation_data=([test_images, test_images], test_labels_cat))"
   ]
  },
  {
   "cell_type": "code",
   "execution_count": 22,
   "id": "dd70ff21",
   "metadata": {},
   "outputs": [],
   "source": [
    "# model.save('siamese_vanilla_10p_cifar10.h5')"
   ]
  },
  {
   "cell_type": "code",
   "execution_count": null,
   "id": "3b30f249",
   "metadata": {},
   "outputs": [],
   "source": []
  },
  {
   "cell_type": "markdown",
   "id": "6376ff9b",
   "metadata": {},
   "source": [
    "evaluate"
   ]
  },
  {
   "cell_type": "code",
   "execution_count": 23,
   "id": "926bc7ae",
   "metadata": {},
   "outputs": [],
   "source": [
    "model = tf.keras.models.load_model(\"siamese_vanilla_10p_cifar10.h5\")"
   ]
  },
  {
   "cell_type": "code",
   "execution_count": 24,
   "id": "1642ed9f",
   "metadata": {},
   "outputs": [
    {
     "name": "stdout",
     "output_type": "stream",
     "text": [
      "accuracy_score: 0.6445\n",
      "f1_score_macro: 0.6421815577943102\n",
      "f1_score_weighted: 0.6468184422056897\n"
     ]
    }
   ],
   "source": [
    "results_siamese_vanilla_10p = full_evaluate(model, [test_images, test_images], test_labels)"
   ]
  },
  {
   "cell_type": "code",
   "execution_count": null,
   "id": "1fac1e12",
   "metadata": {},
   "outputs": [],
   "source": []
  }
 ],
 "metadata": {
  "kernelspec": {
   "display_name": "iet_env",
   "language": "python",
   "name": "iet_env"
  },
  "language_info": {
   "codemirror_mode": {
    "name": "ipython",
    "version": 3
   },
   "file_extension": ".py",
   "mimetype": "text/x-python",
   "name": "python",
   "nbconvert_exporter": "python",
   "pygments_lexer": "ipython3",
   "version": "3.8.5"
  }
 },
 "nbformat": 4,
 "nbformat_minor": 5
}
