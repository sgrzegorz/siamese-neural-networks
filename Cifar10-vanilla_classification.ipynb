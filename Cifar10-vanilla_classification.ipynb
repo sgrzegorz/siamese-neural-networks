{
 "cells": [
  {
   "cell_type": "code",
   "execution_count": 1,
   "id": "desirable-phone",
   "metadata": {},
   "outputs": [],
   "source": [
    "%config Completer.use_jedi = False"
   ]
  },
  {
   "cell_type": "code",
   "execution_count": 2,
   "id": "broken-corner",
   "metadata": {},
   "outputs": [],
   "source": [
    "import tensorflow as tf\n",
    "import matplotlib.pyplot as plt\n",
    "import numpy as np\n",
    "import random\n",
    "from utils import *"
   ]
  },
  {
   "cell_type": "code",
   "execution_count": 3,
   "id": "based-brazilian",
   "metadata": {},
   "outputs": [],
   "source": [
    "# import the necessary packages\n",
    "from tensorflow.keras.models import Model\n",
    "from tensorflow.keras.layers import *\n",
    "from tensorflow.keras import datasets\n",
    "from tensorflow.keras.utils import to_categorical"
   ]
  },
  {
   "cell_type": "code",
   "execution_count": 4,
   "id": "turkish-circus",
   "metadata": {},
   "outputs": [
    {
     "data": {
      "text/plain": [
       "[PhysicalDevice(name='/physical_device:GPU:0', device_type='GPU')]"
      ]
     },
     "execution_count": 4,
     "metadata": {},
     "output_type": "execute_result"
    }
   ],
   "source": [
    "tf.config.list_physical_devices('GPU')"
   ]
  },
  {
   "cell_type": "markdown",
   "id": "2e2b9e4c",
   "metadata": {},
   "source": [
    "# Data preparation"
   ]
  },
  {
   "cell_type": "code",
   "execution_count": 5,
   "id": "civil-blogger",
   "metadata": {},
   "outputs": [],
   "source": [
    "(train_images, train_labels), (test_images, test_labels) = datasets.cifar10.load_data()"
   ]
  },
  {
   "cell_type": "code",
   "execution_count": 6,
   "id": "valid-candy",
   "metadata": {},
   "outputs": [
    {
     "data": {
      "text/plain": [
       "(50000, 32, 32, 3)"
      ]
     },
     "execution_count": 6,
     "metadata": {},
     "output_type": "execute_result"
    }
   ],
   "source": [
    "train_images.shape"
   ]
  },
  {
   "cell_type": "code",
   "execution_count": 7,
   "id": "healthy-punishment",
   "metadata": {},
   "outputs": [
    {
     "data": {
      "text/plain": [
       "(10000, 32, 32, 3)"
      ]
     },
     "execution_count": 7,
     "metadata": {},
     "output_type": "execute_result"
    }
   ],
   "source": [
    "test_images.shape"
   ]
  },
  {
   "cell_type": "code",
   "execution_count": 8,
   "id": "studied-cleaners",
   "metadata": {},
   "outputs": [],
   "source": [
    "train_images.astype('float32') \n",
    "test_images.astype('float32') \n",
    "\n",
    "train_images = train_images/255.\n",
    "test_images = test_images/255."
   ]
  },
  {
   "cell_type": "code",
   "execution_count": 9,
   "id": "earned-discount",
   "metadata": {},
   "outputs": [],
   "source": [
    "train_labels_cat = to_categorical(train_labels)\n",
    "test_labels_cat = to_categorical(test_labels)"
   ]
  },
  {
   "cell_type": "code",
   "execution_count": null,
   "id": "after-minutes",
   "metadata": {},
   "outputs": [],
   "source": []
  },
  {
   "cell_type": "markdown",
   "id": "inclusive-intervention",
   "metadata": {},
   "source": [
    "# Vanilla network"
   ]
  },
  {
   "cell_type": "code",
   "execution_count": 10,
   "id": "mental-prayer",
   "metadata": {},
   "outputs": [],
   "source": [
    "def build_vanilla_model(shape, class_num):\n",
    "    # specify the inputs for the feature extractor network\n",
    "    inputs = Input(shape)\n",
    "\n",
    "    x = Conv2D(32, (3, 3), activation=\"relu\")(inputs)\n",
    "    x = MaxPooling2D(pool_size=(2, 2))(x)\n",
    "\n",
    "    x = Conv2D(64, (2, 2), activation=\"relu\")(x)\n",
    "    x = MaxPooling2D(pool_size=(2,2))(x)\n",
    "    x = Dropout(0.2)(x)\n",
    "    \n",
    "    x = Conv2D(128, (2, 2), activation=\"relu\")(x)\n",
    "    x = MaxPooling2D(pool_size=(2,2))(x)\n",
    "    x = Dropout(0.2)(x)\n",
    "    \n",
    "    x = Flatten()(x)\n",
    "\n",
    "    x = Dense(32, activation='relu')(x)\n",
    "    x = Dropout(0.2)(x)\n",
    "    \n",
    "    outputs = Dense(class_num, activation='softmax')(x)\n",
    "\n",
    "    # build the model\n",
    "    model = Model(inputs, outputs)\n",
    "    \n",
    "    model.compile(optimizer='adam',\n",
    "              loss='categorical_crossentropy',\n",
    "              metrics=['accuracy'])\n",
    "\n",
    "    return model"
   ]
  },
  {
   "cell_type": "markdown",
   "id": "4e20eb50",
   "metadata": {},
   "source": [
    "### model on the whole dataset"
   ]
  },
  {
   "cell_type": "markdown",
   "id": "36307bc4",
   "metadata": {},
   "source": [
    "learning"
   ]
  },
  {
   "cell_type": "code",
   "execution_count": 11,
   "id": "junior-george",
   "metadata": {},
   "outputs": [],
   "source": [
    "# model = build_vanilla_model(train_images[0].shape, 10)"
   ]
  },
  {
   "cell_type": "code",
   "execution_count": 12,
   "id": "together-magazine",
   "metadata": {
    "scrolled": true
   },
   "outputs": [],
   "source": [
    "# history = model.fit(train_images, train_labels_cat, epochs=200, batch_size=512, \n",
    "#                     validation_data=(test_images, test_labels_cat))"
   ]
  },
  {
   "cell_type": "code",
   "execution_count": 13,
   "id": "suspended-theater",
   "metadata": {},
   "outputs": [],
   "source": [
    "# print_history_chart(history)"
   ]
  },
  {
   "cell_type": "code",
   "execution_count": 14,
   "id": "informational-sword",
   "metadata": {},
   "outputs": [],
   "source": [
    "# model.save('vanilla_cifar10.h5')"
   ]
  },
  {
   "cell_type": "markdown",
   "id": "b6e7a6e5",
   "metadata": {},
   "source": [
    "evaluation"
   ]
  },
  {
   "cell_type": "code",
   "execution_count": 15,
   "id": "configured-shield",
   "metadata": {},
   "outputs": [],
   "source": [
    "model = tf.keras.models.load_model(\"vanilla_cifar10.h5\")"
   ]
  },
  {
   "cell_type": "code",
   "execution_count": 16,
   "id": "44d250e8",
   "metadata": {},
   "outputs": [
    {
     "name": "stdout",
     "output_type": "stream",
     "text": [
      "accuracy_score: 0.789\n",
      "f1_score_macro: 0.7843261383766078\n",
      "f1_score_weighted: 0.7936738616233923\n"
     ]
    }
   ],
   "source": [
    "results_vanilla_full = full_evaluate(model, test_images, test_labels)"
   ]
  },
  {
   "cell_type": "code",
   "execution_count": null,
   "id": "a914c9e1",
   "metadata": {},
   "outputs": [],
   "source": []
  },
  {
   "cell_type": "code",
   "execution_count": null,
   "id": "8cac896d",
   "metadata": {},
   "outputs": [],
   "source": []
  },
  {
   "cell_type": "markdown",
   "id": "4e3fdc31",
   "metadata": {},
   "source": [
    "### models on the smaller datasets"
   ]
  },
  {
   "cell_type": "markdown",
   "id": "002fea5f",
   "metadata": {},
   "source": [
    "#### 50% of the training data"
   ]
  },
  {
   "cell_type": "markdown",
   "id": "4135d8c7",
   "metadata": {},
   "source": [
    "learning"
   ]
  },
  {
   "cell_type": "code",
   "execution_count": 17,
   "id": "df0170ae",
   "metadata": {},
   "outputs": [],
   "source": [
    "# model = build_vanilla_model(train_images[0].shape, 10)"
   ]
  },
  {
   "cell_type": "code",
   "execution_count": 18,
   "id": "b527f888",
   "metadata": {},
   "outputs": [],
   "source": [
    "# train_images_50p = train_images[:len(train_images)//2]\n",
    "# train_labels_cat_50p = train_labels_cat[:len(train_labels_cat)//2]"
   ]
  },
  {
   "cell_type": "code",
   "execution_count": 19,
   "id": "c850d4d9",
   "metadata": {},
   "outputs": [],
   "source": [
    "# history = model.fit(train_images_50p, train_labels_cat_50p, epochs=300, batch_size=512, \n",
    "#                     validation_data=(test_images, test_labels_cat))"
   ]
  },
  {
   "cell_type": "code",
   "execution_count": 20,
   "id": "75617222",
   "metadata": {},
   "outputs": [],
   "source": [
    "# print_history_chart(history)"
   ]
  },
  {
   "cell_type": "code",
   "execution_count": 21,
   "id": "2af5cbbb",
   "metadata": {},
   "outputs": [],
   "source": [
    "# model.save('vanilla_50p_cifar10.h5')"
   ]
  },
  {
   "cell_type": "code",
   "execution_count": null,
   "id": "8e719098",
   "metadata": {},
   "outputs": [],
   "source": []
  },
  {
   "cell_type": "markdown",
   "id": "6e5a3559",
   "metadata": {},
   "source": [
    "evaluation"
   ]
  },
  {
   "cell_type": "code",
   "execution_count": 22,
   "id": "245400d7",
   "metadata": {},
   "outputs": [],
   "source": [
    "model = tf.keras.models.load_model(\"vanilla_50p_cifar10.h5\")"
   ]
  },
  {
   "cell_type": "code",
   "execution_count": 23,
   "id": "243d4f29",
   "metadata": {},
   "outputs": [
    {
     "name": "stdout",
     "output_type": "stream",
     "text": [
      "accuracy_score: 0.7546\n",
      "f1_score_macro: 0.7541098874413018\n",
      "f1_score_weighted: 0.7550901125586983\n"
     ]
    }
   ],
   "source": [
    "results_vanilla_50p = full_evaluate(model, test_images, test_labels)"
   ]
  },
  {
   "cell_type": "code",
   "execution_count": null,
   "id": "3b3b3620",
   "metadata": {},
   "outputs": [],
   "source": []
  },
  {
   "cell_type": "code",
   "execution_count": null,
   "id": "15b7aa1e",
   "metadata": {},
   "outputs": [],
   "source": []
  },
  {
   "cell_type": "markdown",
   "id": "7e1f701d",
   "metadata": {},
   "source": [
    "#### 10% of the training data"
   ]
  },
  {
   "cell_type": "markdown",
   "id": "54d2b306",
   "metadata": {},
   "source": [
    "learning"
   ]
  },
  {
   "cell_type": "code",
   "execution_count": 2,
   "id": "60621c2d",
   "metadata": {},
   "outputs": [],
   "source": [
    "# model = build_vanilla_model(train_images[0].shape, 10)"
   ]
  },
  {
   "cell_type": "code",
   "execution_count": 3,
   "id": "2896322a",
   "metadata": {},
   "outputs": [],
   "source": [
    "# train_images_10p = train_images[:len(train_images)//10]\n",
    "# train_labels_cat_10p = train_labels_cat[:len(train_labels_cat)//10]"
   ]
  },
  {
   "cell_type": "code",
   "execution_count": 4,
   "id": "56d02b1a",
   "metadata": {},
   "outputs": [],
   "source": [
    "# history = model.fit(train_images_10p, train_labels_cat_10p, epochs=400, batch_size=512, \n",
    "#                     validation_data=(test_images, test_labels_cat))"
   ]
  },
  {
   "cell_type": "code",
   "execution_count": 27,
   "id": "50b9c559",
   "metadata": {},
   "outputs": [],
   "source": [
    "# print_history_chart(history)"
   ]
  },
  {
   "cell_type": "code",
   "execution_count": 28,
   "id": "f810dfc4",
   "metadata": {},
   "outputs": [],
   "source": [
    "# model.save('vanilla_10p_cifar10.h5')"
   ]
  },
  {
   "cell_type": "code",
   "execution_count": null,
   "id": "0bba84f2",
   "metadata": {},
   "outputs": [],
   "source": []
  },
  {
   "cell_type": "markdown",
   "id": "4cf84742",
   "metadata": {},
   "source": [
    "evaluation"
   ]
  },
  {
   "cell_type": "code",
   "execution_count": 29,
   "id": "e5cc464d",
   "metadata": {},
   "outputs": [],
   "source": [
    "model = tf.keras.models.load_model(\"vanilla_10p_cifar10.h5\")"
   ]
  },
  {
   "cell_type": "code",
   "execution_count": 30,
   "id": "41b9e68f",
   "metadata": {},
   "outputs": [
    {
     "name": "stdout",
     "output_type": "stream",
     "text": [
      "accuracy_score: 0.6355\n",
      "f1_score_macro: 0.6314960493654187\n",
      "f1_score_weighted: 0.6395039506345813\n"
     ]
    }
   ],
   "source": [
    "results_vanilla_10p = full_evaluate(model, test_images, test_labels)"
   ]
  },
  {
   "cell_type": "code",
   "execution_count": null,
   "id": "2241e11f",
   "metadata": {},
   "outputs": [],
   "source": []
  },
  {
   "cell_type": "code",
   "execution_count": null,
   "id": "7da3179c",
   "metadata": {},
   "outputs": [],
   "source": []
  },
  {
   "cell_type": "code",
   "execution_count": null,
   "id": "be07a52f",
   "metadata": {},
   "outputs": [],
   "source": []
  },
  {
   "cell_type": "markdown",
   "id": "floating-tulsa",
   "metadata": {},
   "source": [
    "# Siemese network"
   ]
  },
  {
   "cell_type": "code",
   "execution_count": 31,
   "id": "hired-highland",
   "metadata": {},
   "outputs": [],
   "source": [
    "def build_siamese_vanilla_model(shape, class_num):\n",
    "    inputs1 = Input(shape)\n",
    "    inputs2 = Input(shape)\n",
    "    \n",
    "    def one_side(inputs):\n",
    "        x = Conv2D(32, (3, 3), activation=\"relu\")(inputs)\n",
    "        x = MaxPooling2D(pool_size=(2, 2))(x)\n",
    "\n",
    "        x = Conv2D(64, (2, 2), activation=\"relu\")(x)\n",
    "        x = MaxPooling2D(pool_size=(2,2))(x)\n",
    "        x = Dropout(0.2)(x)\n",
    "\n",
    "        x = Conv2D(128, (2, 2), activation=\"relu\")(x)\n",
    "        x = MaxPooling2D(pool_size=(2,2))(x)\n",
    "        x = Dropout(0.2)(x)\n",
    "\n",
    "        x = Flatten()(x)\n",
    "\n",
    "        x = Dense(32, activation='relu')(x)\n",
    "        x = Dropout(0.2)(x)\n",
    "        \n",
    "        return x\n",
    "    \n",
    "    x1 = one_side(inputs1)\n",
    "    x2 = one_side(inputs2)\n",
    "    \n",
    "    x = concatenate([x1, x2])\n",
    "    \n",
    "    outputs = Dense(class_num, activation='softmax')(x)\n",
    "\n",
    "    # build the model\n",
    "    model = Model([inputs1, inputs2], outputs)\n",
    "    \n",
    "    model.compile(optimizer='adam',\n",
    "              loss='categorical_crossentropy',\n",
    "              metrics=['accuracy'])\n",
    "\n",
    "    return model"
   ]
  },
  {
   "cell_type": "code",
   "execution_count": 32,
   "id": "1507c448",
   "metadata": {},
   "outputs": [],
   "source": [
    "def make_pairs(labels):\n",
    "    samples = {a: list(filter(lambda x: True if x[1]==a else False, enumerate(labels))) for a in np.unique(labels)}\n",
    "    labels2 = []\n",
    "    for l in labels:\n",
    "        labels2.append(random.choice(samples[l[0]])[0])\n",
    "    return labels2"
   ]
  },
  {
   "cell_type": "code",
   "execution_count": null,
   "id": "4454a15e",
   "metadata": {},
   "outputs": [],
   "source": []
  },
  {
   "cell_type": "markdown",
   "id": "059f2857",
   "metadata": {},
   "source": [
    "### model on the whole datasets"
   ]
  },
  {
   "cell_type": "markdown",
   "id": "6fdb21ed",
   "metadata": {},
   "source": [
    "learning"
   ]
  },
  {
   "cell_type": "code",
   "execution_count": 33,
   "id": "defined-median",
   "metadata": {},
   "outputs": [],
   "source": [
    "# model = build_siamese_vanilla_model(train_images[0].shape, 10)"
   ]
  },
  {
   "cell_type": "code",
   "execution_count": 34,
   "id": "58a2018b",
   "metadata": {},
   "outputs": [],
   "source": [
    "# idx2 = make_pairs(train_labels)\n",
    "\n",
    "# y = np.concatenate([train_labels,train_labels[idx2]])\n",
    "# X1 = np.concatenate([train_images,train_images])\n",
    "# X2 = np.concatenate([train_images,train_images[idx2]])\n",
    "\n",
    "# y = to_categorical(y)"
   ]
  },
  {
   "cell_type": "code",
   "execution_count": 35,
   "id": "2300122f",
   "metadata": {},
   "outputs": [],
   "source": [
    "# history = model.fit([X1, X2], y, epochs=200, batch_size=512, shuffle=True,\n",
    "#          validation_data=([test_images, test_images], test_labels_cat))\n"
   ]
  },
  {
   "cell_type": "code",
   "execution_count": 36,
   "id": "white-butler",
   "metadata": {},
   "outputs": [],
   "source": [
    "# print_history_chart(history)"
   ]
  },
  {
   "cell_type": "code",
   "execution_count": 37,
   "id": "quantitative-denver",
   "metadata": {},
   "outputs": [],
   "source": [
    "# model.save('siamese_vanilla_cifar10.h5')"
   ]
  },
  {
   "cell_type": "code",
   "execution_count": null,
   "id": "e0c08ddc",
   "metadata": {},
   "outputs": [],
   "source": []
  },
  {
   "cell_type": "markdown",
   "id": "f35c70ae",
   "metadata": {},
   "source": [
    "evaluate"
   ]
  },
  {
   "cell_type": "code",
   "execution_count": 38,
   "id": "spatial-headline",
   "metadata": {},
   "outputs": [],
   "source": [
    "model = tf.keras.models.load_model(\"siamese_vanilla_cifar10.h5\")\n"
   ]
  },
  {
   "cell_type": "code",
   "execution_count": 39,
   "id": "peripheral-biotechnology",
   "metadata": {},
   "outputs": [
    {
     "name": "stdout",
     "output_type": "stream",
     "text": [
      "accuracy_score: 0.8133\n",
      "f1_score_macro: 0.811662988993892\n",
      "f1_score_weighted: 0.8149370110061082\n"
     ]
    }
   ],
   "source": [
    "results_siamese_vanilla = full_evaluate(model, [test_images, test_images], test_labels)"
   ]
  },
  {
   "cell_type": "code",
   "execution_count": null,
   "id": "ideal-charger",
   "metadata": {},
   "outputs": [],
   "source": []
  },
  {
   "cell_type": "markdown",
   "id": "33592afb",
   "metadata": {},
   "source": [
    "### models on the smaller datasets"
   ]
  },
  {
   "cell_type": "markdown",
   "id": "3bb73bc9",
   "metadata": {},
   "source": [
    "#### 50% of the taining data"
   ]
  },
  {
   "cell_type": "markdown",
   "id": "bd3fac2d",
   "metadata": {},
   "source": [
    "learning"
   ]
  },
  {
   "cell_type": "code",
   "execution_count": 40,
   "id": "ce7a917f",
   "metadata": {},
   "outputs": [],
   "source": [
    "model = build_siamese_vanilla_model(train_images[0].shape, 10)"
   ]
  },
  {
   "cell_type": "code",
   "execution_count": 41,
   "id": "73095688",
   "metadata": {},
   "outputs": [],
   "source": [
    "train_images_50p = train_images[:len(train_images)//2]\n",
    "train_labels_50p = train_labels[:len(train_labels)//2]"
   ]
  },
  {
   "cell_type": "code",
   "execution_count": 42,
   "id": "2d36feef",
   "metadata": {},
   "outputs": [],
   "source": [
    "# idx2 = make_pairs(train_labels_50p)\n",
    "# idx3 = make_pairs(train_labels_50p)\n",
    "\n",
    "# y = np.concatenate([train_labels_50p, train_labels_50p[idx2], train_labels_50p[idx3]])\n",
    "# X1 = np.concatenate([train_images_50p, train_images_50p, train_images_50p])\n",
    "# X2 = np.concatenate([train_images_50p, train_images_50p[idx2], train_images_50p[idx3]])\n",
    "# y = to_categorical(y)"
   ]
  },
  {
   "cell_type": "code",
   "execution_count": 43,
   "id": "52176afa",
   "metadata": {},
   "outputs": [],
   "source": [
    "# history = model.fit([X1, X2], y, epochs=300, batch_size=512, shuffle=True,\n",
    "#          validation_data=([test_images, test_images], test_labels_cat))"
   ]
  },
  {
   "cell_type": "code",
   "execution_count": 44,
   "id": "6b78d7ee",
   "metadata": {},
   "outputs": [],
   "source": [
    "# model.save('siamese_vanilla_50p_cifar10.h5')"
   ]
  },
  {
   "cell_type": "code",
   "execution_count": null,
   "id": "315557d2",
   "metadata": {},
   "outputs": [],
   "source": []
  },
  {
   "cell_type": "markdown",
   "id": "89151964",
   "metadata": {},
   "source": [
    "evaluate"
   ]
  },
  {
   "cell_type": "code",
   "execution_count": 45,
   "id": "1bd7ed89",
   "metadata": {},
   "outputs": [],
   "source": [
    "model = tf.keras.models.load_model(\"siamese_vanilla_50p_cifar10.h5\")"
   ]
  },
  {
   "cell_type": "code",
   "execution_count": 46,
   "id": "71aacd8c",
   "metadata": {},
   "outputs": [
    {
     "name": "stdout",
     "output_type": "stream",
     "text": [
      "accuracy_score: 0.7758\n",
      "f1_score_macro: 0.7747984199841977\n",
      "f1_score_weighted: 0.7768015800158022\n"
     ]
    }
   ],
   "source": [
    "results_siamese_vanilla_50p = full_evaluate(model, [test_images, test_images], test_labels)"
   ]
  },
  {
   "cell_type": "code",
   "execution_count": null,
   "id": "2abb715c",
   "metadata": {},
   "outputs": [],
   "source": []
  },
  {
   "cell_type": "markdown",
   "id": "52b964b7",
   "metadata": {},
   "source": [
    "#### 10% of the taining data"
   ]
  },
  {
   "cell_type": "markdown",
   "id": "8369350a",
   "metadata": {},
   "source": [
    "learning"
   ]
  },
  {
   "cell_type": "code",
   "execution_count": 47,
   "id": "cbd63459",
   "metadata": {},
   "outputs": [],
   "source": [
    "# model = build_siamese_vanilla_model(train_images[0].shape, 10)"
   ]
  },
  {
   "cell_type": "code",
   "execution_count": 48,
   "id": "02be32e8",
   "metadata": {},
   "outputs": [],
   "source": [
    "# train_images_10p = train_images[:len(train_images)//10]\n",
    "# train_labels_10p = train_labels[:len(train_labels)//10]"
   ]
  },
  {
   "cell_type": "code",
   "execution_count": 49,
   "id": "1252e914",
   "metadata": {},
   "outputs": [],
   "source": [
    "# idx2 = make_pairs(train_labels_10p)\n",
    "# idx3 = make_pairs(train_labels_10p)\n",
    "# idx4 = make_pairs(train_labels_10p)\n",
    "# idx5 = make_pairs(train_labels_10p)\n",
    "\n",
    "# y = np.concatenate([train_labels_10p, train_labels_10p[idx2], train_labels_10p[idx3], train_labels_10p[idx4],\n",
    "#                    train_labels_10p[idx5]])\n",
    "# X1 = np.concatenate([train_images_10p, train_images_10p, train_images_10p, train_images_10p, train_images_10p])\n",
    "# X2 = np.concatenate([train_images_10p, train_images_10p[idx2], train_images_10p[idx3], train_images_10p[idx4],\n",
    "#                     train_images_10p[idx5]])\n",
    "# y = to_categorical(y)"
   ]
  },
  {
   "cell_type": "code",
   "execution_count": 50,
   "id": "e6172f3b",
   "metadata": {},
   "outputs": [],
   "source": [
    "# history = model.fit([X1, X2], y, epochs=300, batch_size=512, shuffle=True,\n",
    "#          validation_data=([test_images, test_images], test_labels_cat))"
   ]
  },
  {
   "cell_type": "code",
   "execution_count": 51,
   "id": "dd70ff21",
   "metadata": {},
   "outputs": [],
   "source": [
    "# model.save('siamese_vanilla_10p_cifar10.h5')"
   ]
  },
  {
   "cell_type": "code",
   "execution_count": null,
   "id": "3b30f249",
   "metadata": {},
   "outputs": [],
   "source": []
  },
  {
   "cell_type": "markdown",
   "id": "6376ff9b",
   "metadata": {},
   "source": [
    "evaluate"
   ]
  },
  {
   "cell_type": "code",
   "execution_count": 52,
   "id": "926bc7ae",
   "metadata": {},
   "outputs": [],
   "source": [
    "model = tf.keras.models.load_model(\"siamese_vanilla_10p_cifar10.h5\")"
   ]
  },
  {
   "cell_type": "code",
   "execution_count": 53,
   "id": "1642ed9f",
   "metadata": {},
   "outputs": [
    {
     "name": "stdout",
     "output_type": "stream",
     "text": [
      "accuracy_score: 0.6446\n",
      "f1_score_macro: 0.6422821825355671\n",
      "f1_score_weighted: 0.6469178174644329\n"
     ]
    }
   ],
   "source": [
    "results_siamese_vanilla_10p = full_evaluate(model, [test_images, test_images], test_labels)"
   ]
  },
  {
   "cell_type": "code",
   "execution_count": null,
   "id": "1fac1e12",
   "metadata": {},
   "outputs": [],
   "source": []
  }
 ],
 "metadata": {
  "kernelspec": {
   "display_name": "iet_env",
   "language": "python",
   "name": "iet_env"
  },
  "language_info": {
   "codemirror_mode": {
    "name": "ipython",
    "version": 3
   },
   "file_extension": ".py",
   "mimetype": "text/x-python",
   "name": "python",
   "nbconvert_exporter": "python",
   "pygments_lexer": "ipython3",
   "version": "3.8.5"
  }
 },
 "nbformat": 4,
 "nbformat_minor": 5
}
